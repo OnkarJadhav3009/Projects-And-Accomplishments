{
 "cells": [
  {
   "cell_type": "code",
   "execution_count": 1,
   "metadata": {
    "tags": []
   },
   "outputs": [],
   "source": [
    "# q1\n",
    "import heapq\n",
    "\n",
    "\n",
    "def additional_seats(k, h):\n",
    "    waiting = []\n",
    "    travelling = []\n",
    "    c = 0\n",
    "    for i in h:\n",
    "        heapq.heappush(travelling, i)\n",
    "\n",
    "    while travelling:\n",
    "        curr = heapq.heappop(travelling)\n",
    "        c += 1\n",
    "        heapq.heappush(waiting, curr[1])\n",
    "        m = heapq.heappop(waiting)\n",
    "        if curr[0] >= m:\n",
    "            c -= 1\n",
    "        else:\n",
    "            heapq.heappush(waiting, m)\n",
    "\n",
    "    if c - k < 0:\n",
    "        return 0\n",
    "    else:\n",
    "        return c - k"
   ]
  },
  {
   "cell_type": "code",
   "execution_count": 2,
   "metadata": {
    "collapsed": false,
    "jupyter": {
     "outputs_hidden": false
    }
   },
   "outputs": [
    {
     "name": "stdout",
     "output_type": "stream",
     "text": [
      "1\n"
     ]
    }
   ],
   "source": [
    "print(additional_seats(2, [[0, 2], [1, 2], [0, 3], [2, 3]]))"
   ]
  },
  {
   "cell_type": "code",
   "execution_count": 3,
   "metadata": {
    "collapsed": false,
    "jupyter": {
     "outputs_hidden": false
    }
   },
   "outputs": [
    {
     "name": "stdout",
     "output_type": "stream",
     "text": [
      "0\n"
     ]
    }
   ],
   "source": [
    "print(additional_seats(3, [[8, 10], [2, 4], [7, 11]]))"
   ]
  },
  {
   "cell_type": "code",
   "execution_count": 4,
   "metadata": {
    "collapsed": false,
    "jupyter": {
     "outputs_hidden": false
    }
   },
   "outputs": [
    {
     "name": "stdout",
     "output_type": "stream",
     "text": [
      "3\n"
     ]
    }
   ],
   "source": [
    "print(additional_seats(1, [[0, 4], [0, 3], [1, 4], [1, 2], [0, 1], [3, 4]]))"
   ]
  },
  {
   "cell_type": "code",
   "execution_count": 5,
   "metadata": {
    "collapsed": false,
    "jupyter": {
     "outputs_hidden": false
    }
   },
   "outputs": [
    {
     "name": "stdout",
     "output_type": "stream",
     "text": [
      "2\n"
     ]
    }
   ],
   "source": [
    "print(additional_seats(1, [[0, 2], [1, 10], [3, 5], [3, 8]]))"
   ]
  },
  {
   "cell_type": "code",
   "execution_count": 6,
   "metadata": {
    "collapsed": false,
    "jupyter": {
     "outputs_hidden": false
    }
   },
   "outputs": [],
   "source": [
    "# q2\n",
    "import heapq\n",
    "\n",
    "\n",
    "def minimum_range(nums):\n",
    "    new = []\n",
    "    ranges = []\n",
    "    for i in range(len(nums)):\n",
    "        temp = []\n",
    "        for j in nums[i]:\n",
    "            temp.append((j, i))\n",
    "        new.append(temp)\n",
    "\n",
    "    curr = (0, float(\"inf\"))\n",
    "    curr_rng = curr[1] - curr[0]\n",
    "    min_list = []\n",
    "    mn_ = mx_ = 0\n",
    "    while True:\n",
    "\n",
    "        for i in range(len(new)):\n",
    "            heapq.heappush(min_list, (new[i][0]))\n",
    "        mn = heapq.heappop(min_list)\n",
    "        for i in range(3):\n",
    "            mx = heapq.heappop(min_list)\n",
    "        rng = mx[0] - mn[0]\n",
    "        if rng < curr_rng:\n",
    "            mx_ = mx[0]\n",
    "            mn_ = mn[0]\n",
    "            curr_rng = rng\n",
    "        heapq.heappop(new[mn[1]])\n",
    "\n",
    "        if len(new[mn[1]]) == 0:\n",
    "            break\n",
    "\n",
    "    return \"The minimum range is {}\".format((mn_, mx_))"
   ]
  },
  {
   "cell_type": "code",
   "execution_count": 7,
   "metadata": {
    "collapsed": false,
    "jupyter": {
     "outputs_hidden": false
    }
   },
   "outputs": [
    {
     "name": "stdout",
     "output_type": "stream",
     "text": [
      "The minimum range is (4, 6)\n"
     ]
    }
   ],
   "source": [
    "print(minimum_range([[3, 6, 8, 10, 15], [1, 5, 12], [4, 8, 15, 16], [2, 6]]))"
   ]
  },
  {
   "cell_type": "code",
   "execution_count": 8,
   "metadata": {
    "collapsed": false,
    "jupyter": {
     "outputs_hidden": false
    }
   },
   "outputs": [
    {
     "name": "stdout",
     "output_type": "stream",
     "text": [
      "The minimum range is (4, 7)\n"
     ]
    }
   ],
   "source": [
    "print(minimum_range([[2, 3, 4, 8, 10, 15], [1, 5, 12], [7, 8, 15, 16], [3, 6]]))"
   ]
  },
  {
   "cell_type": "code",
   "execution_count": 9,
   "metadata": {
    "collapsed": false,
    "jupyter": {
     "outputs_hidden": false
    }
   },
   "outputs": [
    {
     "name": "stdout",
     "output_type": "stream",
     "text": [
      "The minimum range is (1, 1)\n"
     ]
    }
   ],
   "source": [
    "print(minimum_range([[1, 1, 1, 1], [1, 1], [1, 1, 1], [1, 1, 1, 1]]))"
   ]
  },
  {
   "cell_type": "code",
   "execution_count": 10,
   "metadata": {
    "collapsed": false,
    "jupyter": {
     "outputs_hidden": false
    }
   },
   "outputs": [],
   "source": [
    "# q3\n",
    "import heapq\n",
    "\n",
    "\n",
    "class Node:\n",
    "    def __init__(self, letter=\"\", code=\"\", f=0, right=None, left=None):\n",
    "        self.letter = letter\n",
    "        self.code = code\n",
    "        self.f = f\n",
    "        self.right = right\n",
    "        self.left = left\n",
    "\n",
    "\n",
    "class Tree:\n",
    "    def __init__(self, root=None):\n",
    "        self.root = root\n",
    "\n",
    "    def inorder(self):\n",
    "        def inorder_(r, c):\n",
    "            if r:\n",
    "                inorder_(r.left, c)\n",
    "                c.append((r.letter, r.code, r.f))\n",
    "                inorder_(r.right, c)\n",
    "            return c\n",
    "\n",
    "        res = []\n",
    "        return inorder_(self.root, res)\n",
    "\n",
    "    def encoder(self):\n",
    "        def encoder_(r, c):\n",
    "            if r is None:\n",
    "                return\n",
    "            encoder_(r.right, c + \"0\")\n",
    "            encoder_(r.left, c + \"1\")\n",
    "            r.code = c\n",
    "\n",
    "        root = self.root\n",
    "        code = \"\"\n",
    "        encoder_(root, code)\n",
    "\n",
    "\n",
    "def encode(s):\n",
    "    global t\n",
    "    t = Tree()\n",
    "    hq = []\n",
    "    roots = []\n",
    "    freq_map = {}\n",
    "    for i in s:\n",
    "        if i not in freq_map:\n",
    "            freq_map[i] = 1\n",
    "        else:\n",
    "            freq_map[i] += 1\n",
    "\n",
    "    code_map = {}\n",
    "    for i in set(s):\n",
    "        code_map[i] = \"\"\n",
    "\n",
    "    freq = list(zip(freq_map.values(), freq_map.keys()))\n",
    "\n",
    "    for i in freq:\n",
    "        heapq.heappush(hq, i)\n",
    "\n",
    "    while hq:\n",
    "        fr1, l1 = heapq.heappop(hq)\n",
    "        if t.root is not None:\n",
    "            if l1 == t.root.letter:\n",
    "                node1 = t.root\n",
    "            else:\n",
    "                node1 = Node(l1, f=fr1)\n",
    "                for i in roots:\n",
    "                    if node1.letter == i.letter:\n",
    "                        node1 = i\n",
    "                        break\n",
    "        else:\n",
    "            node1 = Node(l1, f=fr1)\n",
    "            t.root = node1\n",
    "\n",
    "        if hq:\n",
    "            fr2, l2 = heapq.heappop(hq)\n",
    "            if l2 == t.root.letter:\n",
    "                node2 = t.root\n",
    "            else:\n",
    "                node2 = Node(l2, f=fr2)\n",
    "                for i in roots:\n",
    "                    if node2.letter == i.letter:\n",
    "                        node2 = i\n",
    "                        break\n",
    "            new_node = Node(l1 + l2, f=fr1 + fr2, left=node2, right=node1)\n",
    "            heapq.heappush(hq, (fr2 + fr1, l1 + l2))\n",
    "            t.root = new_node\n",
    "            roots.append(new_node)\n",
    "\n",
    "    t.encoder()\n",
    "    for i in t.inorder():\n",
    "        if len(i[0]) == 1:\n",
    "            code_map[i[0]] = i[1]\n",
    "\n",
    "    code = \"\"\n",
    "    for i in s:\n",
    "        code += code_map[i]\n",
    "\n",
    "    return code, code_map\n",
    "\n",
    "\n",
    "def decode(s, d):\n",
    "    rev_map = {}\n",
    "    for k, v in d.items():\n",
    "        rev_map[v] = k\n",
    "    res = \"\"\n",
    "\n",
    "    temp = \"\"\n",
    "    for i in s:\n",
    "        temp += i\n",
    "        if temp in rev_map:\n",
    "            res += rev_map[temp]\n",
    "            temp = \"\"\n",
    "\n",
    "    return res"
   ]
  },
  {
   "cell_type": "code",
   "execution_count": 11,
   "metadata": {
    "collapsed": false,
    "jupyter": {
     "outputs_hidden": false
    }
   },
   "outputs": [
    {
     "name": "stdout",
     "output_type": "stream",
     "text": [
      "('001011', {'b': '10', 'c': '11', 'a': '0'})\n",
      "aabc\n"
     ]
    }
   ],
   "source": [
    "print(encode(\"aabc\"))\n",
    "print(decode(*encode(\"aabc\")))"
   ]
  },
  {
   "cell_type": "code",
   "execution_count": 12,
   "metadata": {
    "collapsed": false,
    "jupyter": {
     "outputs_hidden": false
    }
   },
   "outputs": [
    {
     "name": "stdout",
     "output_type": "stream",
     "text": [
      "('0101100101111100', {'d': '11', 'c': '101', 'a': '01', 'b': '100', 'e': '00'})\n",
      "aabcdde\n"
     ]
    }
   ],
   "source": [
    "print(encode(\"aabcdde\"))\n",
    "print(decode(*encode(\"aabcdde\")))"
   ]
  },
  {
   "cell_type": "code",
   "execution_count": 13,
   "metadata": {
    "collapsed": false,
    "jupyter": {
     "outputs_hidden": false
    }
   },
   "outputs": [
    {
     "name": "stdout",
     "output_type": "stream",
     "text": [
      "('000001010011100101110111', {'d': '011', 'c': '010', 'a': '000', 'b': '001', 'g': '110', 'e': '100', 'f': '101', 'h': '111'})\n",
      "abcdefgh\n"
     ]
    }
   ],
   "source": [
    "print(encode(\"abcdefgh\"))\n",
    "print(decode(*encode(\"abcdefgh\")))"
   ]
  },
  {
   "cell_type": "code",
   "execution_count": 14,
   "metadata": {
    "collapsed": false,
    "jupyter": {
     "outputs_hidden": false
    }
   },
   "outputs": [],
   "source": [
    "# q4\n",
    "import heapq\n",
    "\n",
    "\n",
    "def max_moves(nums):\n",
    "    hq = []\n",
    "    for i in nums:\n",
    "        heapq.heappush(hq, i)\n",
    "\n",
    "    heapq.heapify(hq)\n",
    "    c = 0\n",
    "    while True:\n",
    "        if hq[-1] == 0 or hq[-2] == 0:\n",
    "            break\n",
    "        hq[-1] -= 1\n",
    "        hq[-2] -= 1\n",
    "        c += 1\n",
    "        heapq.heapify(hq)\n",
    "\n",
    "    return c"
   ]
  },
  {
   "cell_type": "code",
   "execution_count": 15,
   "metadata": {
    "collapsed": false,
    "jupyter": {
     "outputs_hidden": false
    }
   },
   "outputs": [
    {
     "name": "stdout",
     "output_type": "stream",
     "text": [
      "6\n"
     ]
    }
   ],
   "source": [
    "print(max_moves([2,4,6]))"
   ]
  },
  {
   "cell_type": "code",
   "execution_count": 16,
   "metadata": {
    "collapsed": false,
    "jupyter": {
     "outputs_hidden": false
    }
   },
   "outputs": [
    {
     "name": "stdout",
     "output_type": "stream",
     "text": [
      "7\n"
     ]
    }
   ],
   "source": [
    "print(max_moves([4,4,6]))"
   ]
  },
  {
   "cell_type": "code",
   "execution_count": 17,
   "metadata": {
    "tags": []
   },
   "outputs": [
    {
     "name": "stdout",
     "output_type": "stream",
     "text": [
      "2\n"
     ]
    }
   ],
   "source": [
    "print(max_moves([5, 1, 1]))"
   ]
  }
 ],
 "metadata": {
  "kernelspec": {
   "display_name": "Python 3 (ipykernel)",
   "language": "python",
   "name": "python3"
  },
  "language_info": {
   "codemirror_mode": {
    "name": "ipython",
    "version": 3
   },
   "file_extension": ".py",
   "mimetype": "text/x-python",
   "name": "python",
   "nbconvert_exporter": "python",
   "pygments_lexer": "ipython3",
   "version": "3.10.8"
  }
 },
 "nbformat": 4,
 "nbformat_minor": 4
}
