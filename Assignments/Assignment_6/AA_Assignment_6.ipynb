{
 "cells": [
  {
   "cell_type": "code",
   "execution_count": 1,
   "metadata": {
    "tags": []
   },
   "outputs": [],
   "source": [
    "# q1\n",
    "def minOperations(n):\n",
    "    dp = [float('inf')] * (n + 1)\n",
    "\n",
    "    dp[1] = 1\n",
    "    for i in range(2, n + 1):\n",
    "        if set(str(i)) == {'1'}:\n",
    "            dp[i] = len(str(i))\n",
    "        else:\n",
    "            for j in range(1, i):\n",
    "                if i % j == 0:\n",
    "                    x = dp[i // j]\n",
    "                    dp[i] = min(dp[j] + x, dp[i])\n",
    "            x = dp[i - 2]\n",
    "            if x + 2 < dp[i]:\n",
    "                dp[i] = min(x + 2, dp[i])\n",
    "            x = dp[i - 1]\n",
    "            if x + 1 < dp[i]:\n",
    "                dp[i] = min(x + 1, dp[i])\n",
    "\n",
    "    return dp[n]"
   ]
  },
  {
   "cell_type": "code",
   "execution_count": 2,
   "metadata": {
    "collapsed": false,
    "jupyter": {
     "outputs_hidden": false
    }
   },
   "outputs": [
    {
     "name": "stdout",
     "output_type": "stream",
     "text": [
      "5\n"
     ]
    }
   ],
   "source": [
    "print(minOperations(5))"
   ]
  },
  {
   "cell_type": "code",
   "execution_count": 3,
   "metadata": {
    "collapsed": false,
    "jupyter": {
     "outputs_hidden": false
    }
   },
   "outputs": [
    {
     "name": "stdout",
     "output_type": "stream",
     "text": [
      "6\n"
     ]
    }
   ],
   "source": [
    "print(minOperations(9))"
   ]
  },
  {
   "cell_type": "code",
   "execution_count": 4,
   "metadata": {
    "collapsed": false,
    "jupyter": {
     "outputs_hidden": false
    }
   },
   "outputs": [
    {
     "name": "stdout",
     "output_type": "stream",
     "text": [
      "4\n"
     ]
    }
   ],
   "source": [
    "print(minOperations(22))"
   ]
  },
  {
   "cell_type": "code",
   "execution_count": 5,
   "metadata": {
    "collapsed": false,
    "jupyter": {
     "outputs_hidden": false
    }
   },
   "outputs": [],
   "source": [
    "#q2\n",
    "def max_steps(grid):\n",
    "    moves = [[-1, 0], [0, -1], [0, 1], [1, 0]]\n",
    "\n",
    "    def solve(g, r, c, mat, visited):\n",
    "        visited.add((r, c))\n",
    "        temp = [0 if mat[r][c] == -1 else mat[r][c]]\n",
    "        for r_, c_ in moves:\n",
    "            if r + r_ < len(g) and c + c_ < len(g[0]) and g[r][c] < g[r + r_][c + c_]:\n",
    "                temp.append(1 + solve(g, r + r_, c + c_, mat, visited))\n",
    "        mat[r][c] = max(temp)\n",
    "        return mat[r][c]\n",
    "\n",
    "    dp = []\n",
    "    for x in range(len(grid)):\n",
    "        t = []\n",
    "        for y in range(len(grid[0])):\n",
    "            t.append(-1)\n",
    "        dp.append(t)\n",
    "\n",
    "    for i in range(len(grid)):\n",
    "        for j in range(len(grid[0])):\n",
    "            solve(grid, i, j, dp, set())\n",
    "\n",
    "    return max(dp[i][j] for i in range(len(grid)) for j in range(len(grid[0])))"
   ]
  },
  {
   "cell_type": "code",
   "execution_count": 6,
   "metadata": {
    "collapsed": false,
    "jupyter": {
     "outputs_hidden": false
    }
   },
   "outputs": [
    {
     "name": "stdout",
     "output_type": "stream",
     "text": [
      "2\n"
     ]
    }
   ],
   "source": [
    "print(max_steps([[\"d\", \"b\"], [\"c\", \"a\"]]))"
   ]
  },
  {
   "cell_type": "code",
   "execution_count": 7,
   "metadata": {
    "collapsed": false,
    "jupyter": {
     "outputs_hidden": false
    }
   },
   "outputs": [
    {
     "name": "stdout",
     "output_type": "stream",
     "text": [
      "4\n"
     ]
    }
   ],
   "source": [
    "print(max_steps([['t', 'o', 'y'], ['c', 'a', 't'], ['t', 'o' , 'p']]))"
   ]
  },
  {
   "cell_type": "code",
   "execution_count": 8,
   "metadata": {
    "collapsed": false,
    "jupyter": {
     "outputs_hidden": false
    }
   },
   "outputs": [],
   "source": [
    "# q3\n",
    "def get_max_coconuts(nums):\n",
    "    n = (len(nums) + 2)\n",
    "    dp = [-1] * n\n",
    "    dp[0] = 0\n",
    "    dp[1] = 0\n",
    "\n",
    "    for i in range(2, n):\n",
    "        dp[i] = max(nums[i - 2] + dp[i - 2], dp[i - 1])\n",
    "\n",
    "    return dp[n - 1]"
   ]
  },
  {
   "cell_type": "code",
   "execution_count": 9,
   "metadata": {
    "collapsed": false,
    "jupyter": {
     "outputs_hidden": false
    }
   },
   "outputs": [
    {
     "name": "stdout",
     "output_type": "stream",
     "text": [
      "12\n"
     ]
    }
   ],
   "source": [
    "print(get_max_coconuts([2,7,9,3,1]))"
   ]
  },
  {
   "cell_type": "code",
   "execution_count": 10,
   "metadata": {
    "collapsed": false,
    "jupyter": {
     "outputs_hidden": false
    }
   },
   "outputs": [
    {
     "name": "stdout",
     "output_type": "stream",
     "text": [
      "1006\n"
     ]
    }
   ],
   "source": [
    "print(get_max_coconuts([6,2,1,100,999]))"
   ]
  },
  {
   "cell_type": "code",
   "execution_count": 11,
   "metadata": {
    "collapsed": false,
    "jupyter": {
     "outputs_hidden": false
    }
   },
   "outputs": [],
   "source": [
    "# q4\n",
    "def subset_divisible(nums, target):\n",
    "    path = []\n",
    "    dp = {0: path}\n",
    "\n",
    "    for num in nums:\n",
    "        temp = {}\n",
    "        for n in dp.keys():\n",
    "            temp[n + num] = dp[n] + [num]\n",
    "            if n != 0 and (n + num) % target == 0:\n",
    "                return temp[n + num]\n",
    "        dp.update(temp)\n",
    "\n",
    "    return []"
   ]
  },
  {
   "cell_type": "code",
   "execution_count": 12,
   "metadata": {
    "collapsed": false,
    "jupyter": {
     "outputs_hidden": false
    }
   },
   "outputs": [
    {
     "name": "stdout",
     "output_type": "stream",
     "text": [
      "[1, 5]\n"
     ]
    }
   ],
   "source": [
    "print(subset_divisible([3, 1, 7, 5], 6))"
   ]
  },
  {
   "cell_type": "code",
   "execution_count": 13,
   "metadata": {
    "collapsed": false,
    "jupyter": {
     "outputs_hidden": false
    }
   },
   "outputs": [
    {
     "name": "stdout",
     "output_type": "stream",
     "text": [
      "[]\n"
     ]
    }
   ],
   "source": [
    "print(subset_divisible([1,6], 5))"
   ]
  },
  {
   "cell_type": "code",
   "execution_count": 14,
   "metadata": {
    "collapsed": false,
    "jupyter": {
     "outputs_hidden": false
    }
   },
   "outputs": [
    {
     "name": "stdout",
     "output_type": "stream",
     "text": [
      "[1, 3, 6, 8]\n"
     ]
    }
   ],
   "source": [
    "print(subset_divisible([1,3,6,8,10], 18))"
   ]
  },
  {
   "cell_type": "code",
   "execution_count": 15,
   "metadata": {
    "collapsed": false,
    "jupyter": {
     "outputs_hidden": false
    }
   },
   "outputs": [],
   "source": [
    "# q5\n",
    "def get_max_sbstr(s, c1, c2):\n",
    "    s1 = c1 + s\n",
    "    s2 = s + c2\n",
    "\n",
    "    additive_1 = 0\n",
    "    counter_1 = 0\n",
    "\n",
    "    additive_2 = 0\n",
    "    counter_2 = 0\n",
    "\n",
    "    for i in range(len(s1)):\n",
    "        if s1[i] == c1:\n",
    "            additive_1 += 1\n",
    "        if s1[i] == c2:\n",
    "            counter_1 = counter_1 + additive_1\n",
    "        if s2[i] == c1:\n",
    "            additive_2 += 1\n",
    "        if s2[i] == c2:\n",
    "            counter_2 = counter_2 + additive_2\n",
    "\n",
    "    return max(counter_1, counter_2)"
   ]
  },
  {
   "cell_type": "code",
   "execution_count": 16,
   "metadata": {
    "collapsed": false,
    "jupyter": {
     "outputs_hidden": false
    }
   },
   "outputs": [
    {
     "name": "stdout",
     "output_type": "stream",
     "text": [
      "4\n"
     ]
    }
   ],
   "source": [
    "print(get_max_sbstr(\"bcedecd\", \"b\", \"d\"))"
   ]
  },
  {
   "cell_type": "code",
   "execution_count": 17,
   "metadata": {
    "collapsed": false,
    "jupyter": {
     "outputs_hidden": false
    }
   },
   "outputs": [
    {
     "name": "stdout",
     "output_type": "stream",
     "text": [
      "3\n"
     ]
    }
   ],
   "source": [
    "print(get_max_sbstr('abca','a','b'))"
   ]
  },
  {
   "cell_type": "code",
   "execution_count": 18,
   "metadata": {
    "collapsed": false,
    "jupyter": {
     "outputs_hidden": false
    }
   },
   "outputs": [],
   "source": [
    "# q6\n",
    "def num_passwords(nums):\n",
    "    if len(nums) == 0:\n",
    "        return [[]]\n",
    "    res = []\n",
    "    for num in num_passwords(nums[1:]):\n",
    "        res += [num, num + [nums[0]]]\n",
    "\n",
    "    return res"
   ]
  },
  {
   "cell_type": "code",
   "execution_count": 19,
   "metadata": {
    "collapsed": false,
    "jupyter": {
     "outputs_hidden": false
    }
   },
   "outputs": [
    {
     "name": "stdout",
     "output_type": "stream",
     "text": [
      "13\n"
     ]
    }
   ],
   "source": [
    "ans = set([tuple(i) for i in num_passwords([1, 2, 1, 3])[1:]])\n",
    "print(len(ans))"
   ]
  },
  {
   "cell_type": "code",
   "execution_count": 20,
   "metadata": {
    "collapsed": false,
    "jupyter": {
     "outputs_hidden": false
    }
   },
   "outputs": [
    {
     "name": "stdout",
     "output_type": "stream",
     "text": [
      "4\n"
     ]
    }
   ],
   "source": [
    "ans = set([tuple(i) for i in num_passwords([9,9,9,9])[1:]])\n",
    "print(len(ans))"
   ]
  }
 ],
 "metadata": {
  "kernelspec": {
   "display_name": "Python 3 (ipykernel)",
   "language": "python",
   "name": "python3"
  },
  "language_info": {
   "codemirror_mode": {
    "name": "ipython",
    "version": 3
   },
   "file_extension": ".py",
   "mimetype": "text/x-python",
   "name": "python",
   "nbconvert_exporter": "python",
   "pygments_lexer": "ipython3",
   "version": "3.10.8"
  }
 },
 "nbformat": 4,
 "nbformat_minor": 4
}
