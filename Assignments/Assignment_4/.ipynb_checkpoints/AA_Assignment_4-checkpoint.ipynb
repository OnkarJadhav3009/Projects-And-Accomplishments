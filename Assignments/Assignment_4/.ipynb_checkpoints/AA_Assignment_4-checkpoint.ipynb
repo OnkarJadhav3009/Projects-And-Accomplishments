{
 "cells": [
  {
   "cell_type": "code",
   "execution_count": 1,
   "metadata": {
    "collapsed": false,
    "jupyter": {
     "outputs_hidden": false
    }
   },
   "outputs": [],
   "source": [
    "class Node:\n",
    "\n",
    "    def __init__(self, data, left=None, right=None):\n",
    "        self.data = data\n",
    "        self.left = left\n",
    "        self.right = right\n",
    "\n",
    "\n",
    "def get_height(r):\n",
    "    if r is None:\n",
    "        return 0\n",
    "    else:\n",
    "        lft = get_height(r.left)\n",
    "        rgt = get_height(r.right)\n",
    "        return 1 + max(lft, rgt)\n",
    "\n",
    "\n",
    "class BST:\n",
    "\n",
    "    def __init__(self, root):\n",
    "        self.root = root\n",
    "\n",
    "    def __contains__(self, data):\n",
    "        r = self.root\n",
    "        while r is not None:\n",
    "            if data < r.data:\n",
    "                r = r.left\n",
    "            elif data > r.data:\n",
    "                r = r.right\n",
    "            else:\n",
    "                return True\n",
    "        return False\n",
    "\n",
    "    def insert(self, data=None):\n",
    "\n",
    "        root = self.root\n",
    "\n",
    "        while root is not None:\n",
    "            prev = root\n",
    "            if data is None:\n",
    "                print(\"DATA IS NULL!!!\")\n",
    "                break\n",
    "            if data in self:\n",
    "                print(data, \"ALREADY IN THE TREE!!!\")\n",
    "                break\n",
    "            if data > root.data:\n",
    "                root = root.right\n",
    "                if root is None:\n",
    "                    prev.right = Node(data)\n",
    "                    break\n",
    "            elif data < root.data:\n",
    "                root = root.left\n",
    "                if root is None:\n",
    "                    prev.left = Node(data)\n",
    "                    break\n",
    "\n",
    "    def delete(self, data):\n",
    "\n",
    "        r = self.root\n",
    "\n",
    "        if data not in self:\n",
    "            print(\"DATA NOT IN THE TREE\")\n",
    "        else:\n",
    "            prev = r\n",
    "            while r is not None:\n",
    "                if r.data == data:\n",
    "                    break\n",
    "                if data < r.data:\n",
    "                    prev = r\n",
    "                    r = r.left\n",
    "                elif data > r.data:\n",
    "                    prev = r\n",
    "                    r = r.right\n",
    "\n",
    "            # print(prev.data, r.data)\n",
    "\n",
    "            if r.right is None and r.left is None:\n",
    "                if prev == r:\n",
    "                    self.root = None\n",
    "                if prev.right == r:\n",
    "                    prev.right = None\n",
    "                elif prev.left == r:\n",
    "                    prev.left = None\n",
    "            elif r.right and r.left is None:\n",
    "                if prev == r:\n",
    "                    self.root = prev.right\n",
    "                if prev.right == r:\n",
    "                    prev.right = r.right\n",
    "                elif prev.left == r:\n",
    "                    prev.left = r.right\n",
    "            elif r.left and r.right is None:\n",
    "                if prev == r:\n",
    "                    self.root = prev.left\n",
    "                if prev.right == r:\n",
    "                    prev.right = r.left\n",
    "                elif prev.left == r:\n",
    "                    prev.left = r.left\n",
    "            elif r.left and r.right:\n",
    "                temp = r.right\n",
    "                p = r\n",
    "                while temp.left is not None:\n",
    "                    p = temp\n",
    "                    temp = temp.left\n",
    "                temp.data, r.data = r.data, temp.data\n",
    "                if p == r:\n",
    "                    p.right = None\n",
    "                else:\n",
    "                    p.left = None\n",
    "\n",
    "    def preorder(self):\n",
    "        def preorder_(r, c):\n",
    "            if r:\n",
    "                c.append(r.data)\n",
    "                preorder_(r.left, c)\n",
    "                preorder_(r.right, c)\n",
    "            return c\n",
    "\n",
    "        res = []\n",
    "        return preorder_(self.root, res)\n",
    "\n",
    "    def postorder(self):\n",
    "        def postorder_(r, c):\n",
    "            if r:\n",
    "                postorder_(r.left, c)\n",
    "                postorder_(r.right, c)\n",
    "                c.append(r.data)\n",
    "            return c\n",
    "\n",
    "        res = []\n",
    "        return postorder_(self.root, res)\n",
    "\n",
    "    def inorder(self):\n",
    "        def inorder_(r, c):\n",
    "            if r:\n",
    "                inorder_(r.left, c)\n",
    "                c.append(r.data)\n",
    "                inorder_(r.right, c)\n",
    "            return c\n",
    "\n",
    "        res = []\n",
    "        return inorder_(self.root, res)\n",
    "\n",
    "    def level_order(self):\n",
    "        def count_element(r, c_):\n",
    "            if r:\n",
    "                count_element(r.left, c_)\n",
    "                c_.append(r)\n",
    "                count_element(r.right, c_)\n",
    "\n",
    "        def level_order_(r, l_, c_):\n",
    "            if r is None:\n",
    "                return\n",
    "            elif l_ == 0:\n",
    "                c_.append(r.data)\n",
    "            else:\n",
    "                level_order_(r.left, l_ - 1, c_)\n",
    "                level_order_(r.right, l_ - 1, c_)\n",
    "            return res\n",
    "\n",
    "        lvl = 0\n",
    "        c = []\n",
    "        count = 0\n",
    "        res = []\n",
    "        count_element(self.root, c)\n",
    "        while count < len(c):\n",
    "            res = level_order_(self.root, lvl, res)\n",
    "            lvl += 1\n",
    "            count += 1\n",
    "        return res\n",
    "\n",
    "    def diameter(self):\n",
    "        def get_diameter(node):\n",
    "            max_ = 0\n",
    "            lft = get_height(node.left)\n",
    "            rht = get_height(node.right)\n",
    "            if node.left and node.right:\n",
    "                return lft + rht\n",
    "            elif node.left and not node.right:\n",
    "                return lft\n",
    "            elif node.right and not node.left:\n",
    "                return rht\n",
    "            return 0\n",
    "\n",
    "        def traverse(r_, c):\n",
    "            if r_ is None:\n",
    "                return\n",
    "            else:\n",
    "                # print(r_.data, get_diameter(r_))\n",
    "                if c < get_diameter(r_):\n",
    "                    c = get_diameter(r_)\n",
    "                traverse(r_.right, c)\n",
    "                traverse(r_.left, c)\n",
    "            return c\n",
    "\n",
    "        r = self.root\n",
    "        return traverse(r, 0)\n",
    "\n",
    "    def heights(self):\n",
    "        root = self.root\n",
    "        return get_height(root)\n",
    "\n",
    "    def max(self):\n",
    "        temp = self.root\n",
    "        while temp.right is not None:\n",
    "            temp = temp.right\n",
    "        return temp.data"
   ]
  },
  {
   "cell_type": "code",
   "execution_count": 2,
   "metadata": {
    "collapsed": false,
    "jupyter": {
     "outputs_hidden": false
    }
   },
   "outputs": [
    {
     "name": "stdout",
     "output_type": "stream",
     "text": [
      "DATA IS NULL!!!\n",
      "10 ALREADY IN THE TREE!!!\n"
     ]
    }
   ],
   "source": [
    "# Create root\n",
    "t = BST(Node(10))\n",
    "# # Insertion\n",
    "t.insert(15)\n",
    "t.insert(12)\n",
    "t.insert(16)\n",
    "t.insert(9)\n",
    "# Null case\n",
    "t.insert()\n",
    "t.insert(11)\n",
    "# duplicate\n",
    "t.insert(10)"
   ]
  },
  {
   "cell_type": "code",
   "execution_count": 3,
   "metadata": {
    "collapsed": false,
    "jupyter": {
     "outputs_hidden": false
    }
   },
   "outputs": [
    {
     "name": "stdout",
     "output_type": "stream",
     "text": [
      "CONTAINS DUNDER METHOD:\n",
      "12 in t?:  True\n",
      "1 in t?:  False "
     ]
    }
   ],
   "source": [
    "print(\"CONTAINS DUNDER METHOD:\")\n",
    "print(\"12 in t?: \", 12 in t)\n",
    "print(\"1 in t?: \", 1 in t, end=\" \")"
   ]
  },
  {
   "cell_type": "code",
   "execution_count": 4,
   "metadata": {
    "collapsed": false,
    "jupyter": {
     "outputs_hidden": false
    }
   },
   "outputs": [
    {
     "name": "stdout",
     "output_type": "stream",
     "text": [
      "MAXIMUM OF THE TREE:\n",
      "16\n"
     ]
    }
   ],
   "source": [
    "print(\"MAXIMUM OF THE TREE:\")\n",
    "print(t.max())"
   ]
  },
  {
   "cell_type": "code",
   "execution_count": 5,
   "metadata": {
    "collapsed": false,
    "jupyter": {
     "outputs_hidden": false
    }
   },
   "outputs": [
    {
     "name": "stdout",
     "output_type": "stream",
     "text": [
      "IN ORDER:\n",
      "[9, 10, 11, 12, 15, 16]\n"
     ]
    }
   ],
   "source": [
    "print(\"IN ORDER:\")\n",
    "print(t.inorder())"
   ]
  },
  {
   "cell_type": "code",
   "execution_count": 6,
   "metadata": {
    "collapsed": false,
    "jupyter": {
     "outputs_hidden": false
    }
   },
   "outputs": [
    {
     "name": "stdout",
     "output_type": "stream",
     "text": [
      "PRE ORDER:\n",
      "[10, 9, 15, 12, 11, 16]\n"
     ]
    }
   ],
   "source": [
    "print(\"PRE ORDER:\")\n",
    "print(t.preorder())"
   ]
  },
  {
   "cell_type": "code",
   "execution_count": 7,
   "metadata": {
    "collapsed": false,
    "jupyter": {
     "outputs_hidden": false
    }
   },
   "outputs": [
    {
     "name": "stdout",
     "output_type": "stream",
     "text": [
      "POST ORDER:\n",
      "[9, 11, 12, 16, 15, 10]\n"
     ]
    }
   ],
   "source": [
    "print(\"POST ORDER:\")\n",
    "print(t.postorder())"
   ]
  },
  {
   "cell_type": "code",
   "execution_count": 8,
   "metadata": {
    "collapsed": false,
    "jupyter": {
     "outputs_hidden": false
    }
   },
   "outputs": [
    {
     "name": "stdout",
     "output_type": "stream",
     "text": [
      "LEVEL ORDER:\n",
      "[10, 9, 15, 12, 16, 11]\n"
     ]
    }
   ],
   "source": [
    "print(\"LEVEL ORDER:\")\n",
    "print(t.level_order())"
   ]
  },
  {
   "cell_type": "code",
   "execution_count": 9,
   "metadata": {
    "collapsed": false,
    "jupyter": {
     "outputs_hidden": false
    }
   },
   "outputs": [
    {
     "name": "stdout",
     "output_type": "stream",
     "text": [
      "MAX HEIGHT:\n",
      "4\n"
     ]
    }
   ],
   "source": [
    "print(\"MAX HEIGHT:\")\n",
    "print(t.heights())"
   ]
  },
  {
   "cell_type": "code",
   "execution_count": 10,
   "metadata": {
    "collapsed": false,
    "jupyter": {
     "outputs_hidden": false
    }
   },
   "outputs": [
    {
     "name": "stdout",
     "output_type": "stream",
     "text": [
      "DIAMETER:\n",
      "4\n"
     ]
    }
   ],
   "source": [
    "print(\"DIAMETER:\")\n",
    "print(t.diameter())"
   ]
  },
  {
   "cell_type": "code",
   "execution_count": 11,
   "metadata": {
    "collapsed": false,
    "jupyter": {
     "outputs_hidden": false
    }
   },
   "outputs": [
    {
     "name": "stdout",
     "output_type": "stream",
     "text": [
      "DELETE:\n",
      "[10, 9, 15, 12, 16, 11]\n",
      "AFTER DELETION\n",
      "[11, 9, 15, 12, 16]\n"
     ]
    }
   ],
   "source": [
    "print(\"DELETE:\")\n",
    "print(t.level_order())\n",
    "t.delete(10)\n",
    "print(\"AFTER DELETION\")\n",
    "print(t.level_order())"
   ]
  },
  {
   "cell_type": "code",
   "execution_count": 12,
   "metadata": {
    "collapsed": false,
    "jupyter": {
     "outputs_hidden": false
    }
   },
   "outputs": [
    {
     "name": "stdout",
     "output_type": "stream",
     "text": [
      "DELETE:\n",
      "[11, 9, 15, 12, 16]\n",
      "AFTER DELETION\n",
      "[11, 9, 15, 12]\n"
     ]
    }
   ],
   "source": [
    "print(\"DELETE:\")\n",
    "print(t.level_order())\n",
    "t.delete(16)\n",
    "print(\"AFTER DELETION\")\n",
    "print(t.level_order())"
   ]
  },
  {
   "cell_type": "code",
   "execution_count": 13,
   "metadata": {
    "collapsed": false,
    "jupyter": {
     "outputs_hidden": false
    }
   },
   "outputs": [
    {
     "name": "stdout",
     "output_type": "stream",
     "text": [
      "DELETE:\n",
      "[11, 9, 15, 12]\n",
      "AFTER DELETION\n",
      "[11, 9, 12]\n"
     ]
    }
   ],
   "source": [
    "print(\"DELETE:\")\n",
    "print(t.level_order())\n",
    "t.delete(15)\n",
    "print(\"AFTER DELETION\")\n",
    "print(t.level_order())"
   ]
  },
  {
   "cell_type": "code",
   "execution_count": 14,
   "metadata": {
    "collapsed": false,
    "jupyter": {
     "outputs_hidden": false
    }
   },
   "outputs": [],
   "source": [
    "# skewb\n",
    "s = BST(Node(10))\n",
    "s.insert(12)\n",
    "s.insert(15)\n",
    "s.insert(16)"
   ]
  },
  {
   "cell_type": "code",
   "execution_count": 15,
   "metadata": {
    "collapsed": false,
    "jupyter": {
     "outputs_hidden": false
    }
   },
   "outputs": [
    {
     "name": "stdout",
     "output_type": "stream",
     "text": [
      "DIAMETER:\n",
      "3\n"
     ]
    }
   ],
   "source": [
    "print(\"DIAMETER:\")\n",
    "print(s.diameter())"
   ]
  },
  {
   "cell_type": "code",
   "execution_count": 16,
   "metadata": {
    "collapsed": false,
    "jupyter": {
     "outputs_hidden": false
    }
   },
   "outputs": [
    {
     "name": "stdout",
     "output_type": "stream",
     "text": [
      "HEIGHTS:\n",
      "2\n"
     ]
    }
   ],
   "source": [
    "print(\"HEIGHTS:\")\n",
    "print(t.heights())"
   ]
  },
  {
   "cell_type": "code",
   "execution_count": 17,
   "metadata": {
    "collapsed": false,
    "jupyter": {
     "outputs_hidden": false
    }
   },
   "outputs": [],
   "source": [
    "x = BST(Node(10))\n",
    "x.insert(5)\n",
    "x.insert(15)\n",
    "x.insert(1)\n",
    "x.insert(7)\n",
    "x.insert(12)\n",
    "x.insert(17)"
   ]
  },
  {
   "cell_type": "code",
   "execution_count": 18,
   "metadata": {
    "collapsed": false,
    "jupyter": {
     "outputs_hidden": false
    }
   },
   "outputs": [
    {
     "name": "stdout",
     "output_type": "stream",
     "text": [
      "CONTAINS DUNDER METHOD:\n",
      "16 in x?:  False\n",
      "1 in x?:  True "
     ]
    }
   ],
   "source": [
    "print(\"CONTAINS DUNDER METHOD:\")\n",
    "print(\"16 in x?: \", 16 in x)\n",
    "print(\"1 in x?: \", 1 in x, end=\" \")"
   ]
  },
  {
   "cell_type": "code",
   "execution_count": 19,
   "metadata": {
    "collapsed": false,
    "jupyter": {
     "outputs_hidden": false
    }
   },
   "outputs": [
    {
     "name": "stdout",
     "output_type": "stream",
     "text": [
      "MAX:\n",
      "17\n"
     ]
    }
   ],
   "source": [
    "print(\"MAX:\")\n",
    "print(x.max())"
   ]
  },
  {
   "cell_type": "code",
   "execution_count": 20,
   "metadata": {
    "collapsed": false,
    "jupyter": {
     "outputs_hidden": false
    }
   },
   "outputs": [
    {
     "name": "stdout",
     "output_type": "stream",
     "text": [
      "INORDER: \n",
      "[1, 5, 7, 10, 12, 15, 17]\n"
     ]
    }
   ],
   "source": [
    "print(\"INORDER: \")\n",
    "print(x.inorder())"
   ]
  },
  {
   "cell_type": "code",
   "execution_count": 21,
   "metadata": {
    "collapsed": false,
    "jupyter": {
     "outputs_hidden": false
    }
   },
   "outputs": [
    {
     "name": "stdout",
     "output_type": "stream",
     "text": [
      "PREORDER:\n",
      "[10, 5, 1, 7, 15, 12, 17]\n"
     ]
    }
   ],
   "source": [
    "print(\"PREORDER:\")\n",
    "print(x.preorder())"
   ]
  },
  {
   "cell_type": "code",
   "execution_count": 22,
   "metadata": {
    "collapsed": false,
    "jupyter": {
     "outputs_hidden": false
    }
   },
   "outputs": [
    {
     "name": "stdout",
     "output_type": "stream",
     "text": [
      "POSTORDER:\n",
      "[1, 7, 5, 12, 17, 15, 10]\n"
     ]
    }
   ],
   "source": [
    "print(\"POSTORDER:\")\n",
    "print(x.postorder())"
   ]
  },
  {
   "cell_type": "code",
   "execution_count": 23,
   "metadata": {
    "collapsed": false,
    "jupyter": {
     "outputs_hidden": false
    }
   },
   "outputs": [
    {
     "name": "stdout",
     "output_type": "stream",
     "text": [
      "LEVEL-ORDER:\n",
      "[10, 5, 15, 1, 7, 12, 17]\n"
     ]
    }
   ],
   "source": [
    "print(\"LEVEL-ORDER:\")\n",
    "print(x.level_order())"
   ]
  },
  {
   "cell_type": "code",
   "execution_count": 24,
   "metadata": {
    "collapsed": false,
    "jupyter": {
     "outputs_hidden": false
    }
   },
   "outputs": [
    {
     "name": "stdout",
     "output_type": "stream",
     "text": [
      "DIAMETER:\n",
      "4\n"
     ]
    }
   ],
   "source": [
    "print(\"DIAMETER:\")\n",
    "print(x.diameter())"
   ]
  },
  {
   "cell_type": "code",
   "execution_count": 25,
   "metadata": {
    "collapsed": false,
    "jupyter": {
     "outputs_hidden": false
    }
   },
   "outputs": [
    {
     "name": "stdout",
     "output_type": "stream",
     "text": [
      "HEIGHTS:\n",
      "4\n"
     ]
    }
   ],
   "source": [
    "print(\"HEIGHTS:\")\n",
    "print(s.heights())"
   ]
  }
 ],
 "metadata": {
  "kernelspec": {
   "display_name": "Python 3 (ipykernel)",
   "language": "python",
   "name": "python3"
  },
  "language_info": {
   "codemirror_mode": {
    "name": "ipython",
    "version": 3
   },
   "file_extension": ".py",
   "mimetype": "text/x-python",
   "name": "python",
   "nbconvert_exporter": "python",
   "pygments_lexer": "ipython3",
   "version": "3.10.8"
  }
 },
 "nbformat": 4,
 "nbformat_minor": 4
}
