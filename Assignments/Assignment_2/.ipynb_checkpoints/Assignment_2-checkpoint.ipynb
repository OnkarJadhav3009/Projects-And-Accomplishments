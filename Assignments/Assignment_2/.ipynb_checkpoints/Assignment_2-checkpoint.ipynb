{
 "cells": [
  {
   "cell_type": "code",
   "execution_count": 41,
   "metadata": {
    "pycharm": {
     "name": "#%%\n"
    },
    "tags": []
   },
   "outputs": [],
   "source": [
    "# Problem 1\n",
    "def max_cherries(cake):\n",
    "    # Function to return the rows of matrix 'cake' on the either side of the index k\n",
    "    # !!! 1<k<len(cake)-1\n",
    "    def _slice(c, k):\n",
    "        if len(c) == 1:\n",
    "            return c[0]\n",
    "        return c[0:k], c[k:]\n",
    "\n",
    "    # Function to return the transpose of a matrix 'm'\n",
    "    def transpose(m):\n",
    "        # Empty matrix to store the transpose of the matrix\n",
    "        transpose_matrix = []\n",
    "\n",
    "        for i in range(len(m[0])):  # for i = 0 to length of a row in matrix\n",
    "            temp = []\n",
    "            for j in m:  # for each element in m\n",
    "                temp.append(j[i])  # append the ith element of j to temp\n",
    "            transpose_matrix.append(temp)\n",
    "        return transpose_matrix\n",
    "\n",
    "    # Function to return count of '#' in both sides of the slice\n",
    "    def count_hash(a, b):\n",
    "        # Initialize variables to store count of '#' s\n",
    "        count_a = 0\n",
    "        count_b = 0\n",
    "        # loop through elements in the matrix a and increment count-a if the element is #\n",
    "        for i in a:\n",
    "            for j in i:\n",
    "                if j == '#':\n",
    "                    count_a += 1\n",
    "        # loop through elements in the matrix b and increment count-b if the element is #\n",
    "        for i in b:\n",
    "            for j in i:\n",
    "                if j == '#':\n",
    "                    count_b += 1\n",
    "        return count_a, count_b\n",
    "\n",
    "    # Function to return the map of differences between the counts of #s in the two slices'\n",
    "    def solve(matrix):\n",
    "        # map to store the tuple of counts of '#' and the key will be its difference\n",
    "        map_ = {}\n",
    "        for i in range(1, len(matrix)):\n",
    "            a, b = _slice(matrix, i)  # Get the slices a and b using the slice_ function\n",
    "            count_a, count_b = count_hash(a, b)  # Get the counts of #s in a and b and store it as a tuple\n",
    "            map_[abs(count_a - count_b)] = (count_a, count_b)  # map the tuple to their differences\n",
    "        return map_\n",
    "\n",
    "    # if the cake is just one row, just check the transpose of the matrix\n",
    "    if len(cake) == 1:\n",
    "        ans1 = solve(transpose(cake))\n",
    "        x = min(ans1.keys())\n",
    "        return min(ans1[x])\n",
    "    # get the maps of the differences of the counts of #s and store it in ans1 for cake and ans2 for transpose of it\n",
    "    ans1 = solve(cake)\n",
    "    ans2 = solve(transpose(cake))\n",
    "    # get minimum of both the ans1 and ans2 keys\n",
    "    x = min(ans1.keys())\n",
    "    y = min(ans2.keys())\n",
    "    res = min(x, y)\n",
    "    ans = 0\n",
    "    # return the minimum of the tuple of the minimum difference\n",
    "    if res in ans1:\n",
    "        ans = min(ans1[res])\n",
    "    elif res in ans2:\n",
    "        ans = min(ans2[res])\n",
    "    return ans\n"
   ]
  },
  {
   "cell_type": "code",
   "execution_count": 42,
   "metadata": {
    "collapsed": false,
    "jupyter": {
     "outputs_hidden": false
    },
    "pycharm": {
     "name": "#%%\n"
    }
   },
   "outputs": [
    {
     "name": "stdout",
     "output_type": "stream",
     "text": [
      "CASE 1: 2\n"
     ]
    }
   ],
   "source": [
    "print(\"CASE 1:\", max_cherries([[\".\", \"#\", \".\"], [\"#\", \".\", \".\"], [\"#\", \"#\", \"#\"]]))"
   ]
  },
  {
   "cell_type": "code",
   "execution_count": 43,
   "metadata": {
    "collapsed": false,
    "jupyter": {
     "outputs_hidden": false
    },
    "pycharm": {
     "name": "#%%\n"
    }
   },
   "outputs": [
    {
     "name": "stdout",
     "output_type": "stream",
     "text": [
      "CASE 2: 2\n"
     ]
    }
   ],
   "source": [
    "print(\"CASE 2:\", max_cherries([[\".\", \"#\", \"#\", \"#\", \"#\"], [\".\", \".\", \".\", \".\", \".\"]]))"
   ]
  },
  {
   "cell_type": "code",
   "execution_count": 44,
   "metadata": {
    "collapsed": false,
    "jupyter": {
     "outputs_hidden": false
    },
    "pycharm": {
     "name": "#%%\n"
    }
   },
   "outputs": [
    {
     "name": "stdout",
     "output_type": "stream",
     "text": [
      "CASE 3: 1\n"
     ]
    }
   ],
   "source": [
    "print(\"CASE 3:\", max_cherries([['#', '#', '#']]))"
   ]
  },
  {
   "cell_type": "code",
   "execution_count": 45,
   "metadata": {
    "collapsed": false,
    "jupyter": {
     "outputs_hidden": false
    },
    "pycharm": {
     "name": "#%%\n"
    }
   },
   "outputs": [],
   "source": [
    "# Problem 2\n",
    "def spy_locations(heights):\n",
    "    # Create a map to map the elements to the indices\n",
    "    map_ = {}\n",
    "    for i in range(len(heights)):\n",
    "        map_[heights[i]] = i\n",
    "\n",
    "    # push the 0th element to the stack\n",
    "    stack = [map_[heights[0]]]\n",
    "\n",
    "    # traverse the heights list and push the elements to the stack only if the element is greater than top of the stack\n",
    "    for tower in heights:\n",
    "        x = heights[stack[-1]]\n",
    "        if tower > x:\n",
    "            stack.append(map_[tower])\n",
    "\n",
    "    return stack\n"
   ]
  },
  {
   "cell_type": "code",
   "execution_count": 46,
   "metadata": {
    "collapsed": false,
    "jupyter": {
     "outputs_hidden": false
    },
    "pycharm": {
     "name": "#%%\n"
    }
   },
   "outputs": [
    {
     "name": "stdout",
     "output_type": "stream",
     "text": [
      "CASE 1: [0]\n"
     ]
    }
   ],
   "source": [
    "print(\"CASE 1:\", spy_locations([4, 3, 2, 1]))"
   ]
  },
  {
   "cell_type": "code",
   "execution_count": 47,
   "metadata": {
    "collapsed": false,
    "jupyter": {
     "outputs_hidden": false
    },
    "pycharm": {
     "name": "#%%\n"
    }
   },
   "outputs": [
    {
     "name": "stdout",
     "output_type": "stream",
     "text": [
      "CASE 2: [0, 1, 2, 3]\n"
     ]
    }
   ],
   "source": [
    "print(\"CASE 2:\", spy_locations([1, 2, 5, 7]))"
   ]
  },
  {
   "cell_type": "code",
   "execution_count": 48,
   "metadata": {
    "collapsed": false,
    "jupyter": {
     "outputs_hidden": false
    },
    "pycharm": {
     "name": "#%%\n"
    }
   },
   "outputs": [
    {
     "name": "stdout",
     "output_type": "stream",
     "text": [
      "CASE 3: [0, 2, 4]\n"
     ]
    }
   ],
   "source": [
    "print(\"CASE 3:\", spy_locations([4, 3, 7, 6, 9]))"
   ]
  },
  {
   "cell_type": "code",
   "execution_count": 49,
   "metadata": {
    "collapsed": false,
    "jupyter": {
     "outputs_hidden": false
    },
    "pycharm": {
     "name": "#%%\n"
    }
   },
   "outputs": [],
   "source": [
    "# Problem 3\n",
    "def whos_the_winner(s, p):\n",
    "\n",
    "    # Function to return the index of first occurrence of p\n",
    "    def find_p(s, p):\n",
    "        for i in range(len(s)):\n",
    "            if i + len(p) > len(s):\n",
    "                break\n",
    "            if s[i:i+len(p)] == p:\n",
    "                return i\n",
    "        return -1\n",
    "\n",
    "    if len(p) == 0:\n",
    "        return \"Walter\"\n",
    "\n",
    "    # Check if p is in the string s\n",
    "    if p in s:\n",
    "        # Check if the substring p is at the start of at the end of the string s\n",
    "        # if yes then Veidt wins everytime\n",
    "        if find_p(s, p) in [0, len(s) - len(p)]:\n",
    "            return \"Veidt\"\n",
    "        else:\n",
    "            # Else if the left side of the substring p is equal to the right side of substring p then and only then\n",
    "            # Walter wins\n",
    "            if len(s[0:find_p(s, p)]) == len(s[find_p(s, p) + len(p): len(s)]):\n",
    "                return \"Walter\"\n",
    "    return \"Veidt\""
   ]
  },
  {
   "cell_type": "code",
   "execution_count": 50,
   "metadata": {
    "collapsed": false,
    "jupyter": {
     "outputs_hidden": false
    },
    "pycharm": {
     "name": "#%%\n"
    }
   },
   "outputs": [
    {
     "name": "stdout",
     "output_type": "stream",
     "text": [
      "CASE 1: Veidt\n"
     ]
    }
   ],
   "source": [
    "print(\"CASE 1:\", whos_the_winner(\"Abcdefghi\", \"cdef\"))"
   ]
  },
  {
   "cell_type": "code",
   "execution_count": 51,
   "metadata": {
    "collapsed": false,
    "jupyter": {
     "outputs_hidden": false
    },
    "pycharm": {
     "name": "#%%\n"
    }
   },
   "outputs": [
    {
     "name": "stdout",
     "output_type": "stream",
     "text": [
      "CASE 2: Walter\n"
     ]
    }
   ],
   "source": [
    "print(\"CASE 2:\", whos_the_winner(\"xyzaaacbc\", \"aaa\"))"
   ]
  },
  {
   "cell_type": "code",
   "execution_count": 52,
   "metadata": {
    "collapsed": false,
    "jupyter": {
     "outputs_hidden": false
    },
    "pycharm": {
     "name": "#%%\n"
    }
   },
   "outputs": [
    {
     "name": "stdout",
     "output_type": "stream",
     "text": [
      "CASE 3: Veidt\n"
     ]
    }
   ],
   "source": [
    "print(\"CASE 3:\", whos_the_winner(\"\", \"asdasd\"))"
   ]
  },
  {
   "cell_type": "code",
   "execution_count": 53,
   "metadata": {
    "collapsed": false,
    "jupyter": {
     "outputs_hidden": false
    },
    "pycharm": {
     "name": "#%%\n"
    }
   },
   "outputs": [
    {
     "name": "stdout",
     "output_type": "stream",
     "text": [
      "CASE 4: Walter\n"
     ]
    }
   ],
   "source": [
    "print(\"CASE 4:\", whos_the_winner(\"asdasd\", \"\"))"
   ]
  },
  {
   "cell_type": "code",
   "execution_count": 54,
   "metadata": {
    "collapsed": false,
    "jupyter": {
     "outputs_hidden": false
    },
    "pycharm": {
     "is_executing": true,
     "name": "#%%\n"
    }
   },
   "outputs": [],
   "source": [
    "# Problem 4\n",
    "def return_resultant_string(s, p):\n",
    "    # While the substring p is in s, loop\n",
    "    \n",
    "    if len(p) == 0:\n",
    "        return s\n",
    "    \n",
    "    while p in s:\n",
    "        # Get where the string is present and then concatenate the left and right parts of the string together\n",
    "        for i in range(0, len(s)):\n",
    "            if s[i:i+len(p)] == p:\n",
    "                s = s[:i] + s[i+len(p):]\n",
    "                break\n",
    "    return s"
   ]
  },
  {
   "cell_type": "code",
   "execution_count": 55,
   "metadata": {
    "collapsed": false,
    "jupyter": {
     "outputs_hidden": false
    },
    "pycharm": {
     "is_executing": true,
     "name": "#%%\n"
    }
   },
   "outputs": [
    {
     "name": "stdout",
     "output_type": "stream",
     "text": [
      "CASE 1: \n"
     ]
    }
   ],
   "source": [
    "print(\"CASE 1:\", return_resultant_string(\"aababccbc\", \"abc\"))"
   ]
  },
  {
   "cell_type": "code",
   "execution_count": 56,
   "metadata": {
    "collapsed": false,
    "jupyter": {
     "outputs_hidden": false
    },
    "pycharm": {
     "is_executing": true,
     "name": "#%%\n"
    }
   },
   "outputs": [
    {
     "name": "stdout",
     "output_type": "stream",
     "text": [
      "CASE 2 xyzmno\n"
     ]
    }
   ],
   "source": [
    "print(\"CASE 2\", return_resultant_string(\"xyzabcmno\", \"abc\"))"
   ]
  },
  {
   "cell_type": "code",
   "execution_count": 57,
   "metadata": {
    "collapsed": false,
    "jupyter": {
     "outputs_hidden": false
    },
    "pycharm": {
     "name": "#%%\n"
    }
   },
   "outputs": [
    {
     "name": "stdout",
     "output_type": "stream",
     "text": [
      "CASE 3 xyzabcmno\n"
     ]
    }
   ],
   "source": [
    "print(\"CASE 3\", return_resultant_string(\"xyzabcmno\", \"\"))"
   ]
  },
  {
   "cell_type": "code",
   "execution_count": 58,
   "metadata": {},
   "outputs": [
    {
     "name": "stdout",
     "output_type": "stream",
     "text": [
      "CASE 4 xyzmno\n"
     ]
    }
   ],
   "source": [
    "print(\"CASE 4\", return_resultant_string(\"xyzabcmnoabc\", \"abc\"))"
   ]
  },
  {
   "cell_type": "code",
   "execution_count": 59,
   "metadata": {},
   "outputs": [
    {
     "name": "stdout",
     "output_type": "stream",
     "text": [
      "CASE 5 \n"
     ]
    }
   ],
   "source": [
    "print(\"CASE 5\", return_resultant_string(\"\", \"abc\"))"
   ]
  },
  {
   "cell_type": "code",
   "execution_count": 60,
   "metadata": {},
   "outputs": [],
   "source": [
    "# Problem 5\n",
    "def flip_game(s, queries):\n",
    "    result_list = []\n",
    "\n",
    "    def count_first_occurrence(string, h):\n",
    "        for i_ in range(len(string)):\n",
    "            if string[i_] == \"1\":\n",
    "                if string[i_] in h:\n",
    "                    # Create a list of occurrences for '1' if 1 already exists in the map\n",
    "                    h[string[i_]].append(i_)\n",
    "                else:\n",
    "                    # Create a list of occurrences for '1'\n",
    "                    h[string[i_]] = [i_]\n",
    "        h['count'] = len(h['1'])\n",
    "        return h\n",
    "\n",
    "    for i in queries:\n",
    "        hashmap = {}\n",
    "        hashmap = count_first_occurrence(s, hashmap)\n",
    "        if i == \"get\":\n",
    "            count = hashmap['count']\n",
    "            result_list.append(count)\n",
    "        else:\n",
    "            index = hashmap['1'][0]\n",
    "            s = '1' * index + '0' + s[index + 1:len(s)]\n",
    "\n",
    "    return result_list"
   ]
  },
  {
   "cell_type": "code",
   "execution_count": 61,
   "metadata": {},
   "outputs": [
    {
     "name": "stdout",
     "output_type": "stream",
     "text": [
      "CASE 1: [4, 6, 6]\n"
     ]
    }
   ],
   "source": [
    "print(\"CASE 1:\", flip_game(\"0000101011\", [\"get\", \"flip\", \"flip\", \"get\", \"flip\", \"flip\", \"flip\", \"get\"]))"
   ]
  },
  {
   "cell_type": "code",
   "execution_count": 62,
   "metadata": {},
   "outputs": [
    {
     "name": "stdout",
     "output_type": "stream",
     "text": [
      "CASE 2: [1, 3, 3]\n"
     ]
    }
   ],
   "source": [
    "print(\"CASE 2:\", flip_game(\"00001\", [\"get\", \"flip\", \"flip\", \"get\", \"flip\", \"flip\", \"flip\", \"get\"]))"
   ]
  },
  {
   "cell_type": "code",
   "execution_count": 63,
   "metadata": {},
   "outputs": [
    {
     "name": "stdout",
     "output_type": "stream",
     "text": [
      "CASE 3: [4, 6, 6, 6, 4]\n"
     ]
    }
   ],
   "source": [
    "print(\"CASE 3:\", flip_game(\"0000101011\", [\"get\", \"flip\", \"flip\", \"get\", \"flip\", \"flip\", \"flip\", \"get\", \"get\", \"flip\", \"flip\", \"flip\", \"get\"]))"
   ]
  },
  {
   "cell_type": "code",
   "execution_count": 64,
   "metadata": {},
   "outputs": [],
   "source": [
    "# Problem 6\n",
    "def calculate_points(list_):\n",
    "\n",
    "    # Calculate the sum of all elements in the list\n",
    "    def sum_(l_):\n",
    "        s = 0\n",
    "        for i_ in l_:\n",
    "            s += i_\n",
    "        return s\n",
    "\n",
    "    scoresheet = []\n",
    "    for i in list_:\n",
    "        if i == \"D\":\n",
    "            scoresheet.append(scoresheet[-1] * 2)\n",
    "        elif i == \"I\":\n",
    "            scoresheet.pop()\n",
    "        elif i == \"+\":\n",
    "            scoresheet.append(scoresheet[-2] + scoresheet[-1])\n",
    "        elif i == \"-\":\n",
    "            scoresheet.append(scoresheet[-2] - scoresheet[-1])\n",
    "        elif i == \"*\":\n",
    "            scoresheet.append(scoresheet[-2] * scoresheet[-1])\n",
    "        elif i == \"/\":\n",
    "            scoresheet.append(scoresheet[-2] // scoresheet[-1])\n",
    "        elif i == \"%\":\n",
    "            scoresheet.append(scoresheet[-2] % scoresheet[-1])\n",
    "        else:\n",
    "            scoresheet.append(int(i))\n",
    "    return sum_(scoresheet)"
   ]
  },
  {
   "cell_type": "code",
   "execution_count": 65,
   "metadata": {},
   "outputs": [
    {
     "name": "stdout",
     "output_type": "stream",
     "text": [
      "CASE 1: 14\n"
     ]
    }
   ],
   "source": [
    "print(\"CASE 1:\", calculate_points([\"5\", \"-2\", \"4\", \"I\", \"D\", \"9\", \"+\", \"/\"]))"
   ]
  },
  {
   "cell_type": "code",
   "execution_count": 66,
   "metadata": {},
   "outputs": [],
   "source": [
    "# Problem 7\n",
    "class Node:\n",
    "    def __init__(self, num, next=None):\n",
    "        self.num = num\n",
    "        self.next = next\n",
    "\n",
    "\n",
    "class Linked_List():\n",
    "    def __init__(self, head=None):\n",
    "        self.head = head\n",
    "\n",
    "    def Insert(self, element, position=None):\n",
    "        new_node = Node(element)\n",
    "        if self.head is None:\n",
    "            self.head = new_node\n",
    "        else:\n",
    "            temp = self.head\n",
    "            if position is None:\n",
    "                while temp.next is not None:\n",
    "                    temp = temp.next\n",
    "                temp.next = new_node\n",
    "            elif position > self.get_length():\n",
    "                print(\"INVALID POSITION\")\n",
    "            else:\n",
    "                c = 0\n",
    "                while c != position - 1:\n",
    "                    # if temp.next is None:\n",
    "                    #     break\n",
    "                    temp = temp.next\n",
    "                    c += 1\n",
    "                new_node.next = temp.next\n",
    "                temp.next = new_node\n",
    "\n",
    "    def Delete(self, element):\n",
    "        if self.head is None:\n",
    "            print(\"No element in the list!\")\n",
    "        else:\n",
    "            temp = self.head\n",
    "            prev = None\n",
    "            while temp is not None:\n",
    "                if temp.num == element:\n",
    "                    if prev is not None:\n",
    "                        prev.next = temp.next\n",
    "                    else:\n",
    "                        temp = prev\n",
    "                    break\n",
    "                prev = temp\n",
    "                temp = temp.next\n",
    "            if temp is None:\n",
    "                print(\"Element not in the list!\")\n",
    "\n",
    "    def Update(self, search_element, replace_element):\n",
    "        temp = self.head\n",
    "        while temp is not None:\n",
    "            if temp.num == search_element:\n",
    "                temp.num = replace_element\n",
    "                break\n",
    "            temp = temp.next\n",
    "        if temp is None:\n",
    "            print(\"Element not in the list!\")\n",
    "\n",
    "    def Search(self, element):\n",
    "        temp = self.head\n",
    "        while temp is not None:\n",
    "            if temp.num == element:\n",
    "                return True\n",
    "            temp = temp.next\n",
    "        return False\n",
    "\n",
    "    def merge_linkedlists(self, ll):\n",
    "        if ll is None:\n",
    "            self.print()\n",
    "        else:\n",
    "            res = []\n",
    "            temp1 = self.head\n",
    "            temp2 = ll\n",
    "            sorted_ll = Linked_List()\n",
    "            while temp1 is not None and temp2 is not None:\n",
    "                if temp1.num >= temp2.num:\n",
    "                    sorted_ll.Insert(temp2.num)\n",
    "                    sorted_ll.Insert(temp1.num)\n",
    "                else:\n",
    "                    sorted_ll.Insert(temp1.num)\n",
    "                    sorted_ll.Insert(temp2.num)\n",
    "                if temp1 is None:\n",
    "                    temp2 = temp2.next\n",
    "                elif temp2 is None:\n",
    "                    temp1 = temp1.next\n",
    "                else:\n",
    "                    temp1 = temp1.next\n",
    "                    temp2 = temp2.next\n",
    "            sorted_ll.print()\n",
    "\n",
    "    def get_length(self):\n",
    "        length = 0\n",
    "        temp = self.head\n",
    "        while temp is not None:\n",
    "            length += 1\n",
    "            temp = temp.next\n",
    "        return length\n",
    "\n",
    "    def print(self):\n",
    "        if self.head is None:\n",
    "            print(\"Linked_List not created yet\")\n",
    "        temp = self.head\n",
    "        print(\"______________LINK LIST___________________\")\n",
    "        while temp is not None:\n",
    "            print(temp.num)\n",
    "            temp = temp.next\n",
    "        print(\"______________LINK LIST___________________\")"
   ]
  },
  {
   "cell_type": "code",
   "execution_count": 67,
   "metadata": {},
   "outputs": [
    {
     "name": "stdout",
     "output_type": "stream",
     "text": [
      "______________LINK LIST___________________\n",
      "1\n",
      "3\n",
      "5\n",
      "______________LINK LIST___________________\n"
     ]
    }
   ],
   "source": [
    "# Insert\n",
    "a = Linked_List()\n",
    "a.Insert(1)\n",
    "a.Insert(3)\n",
    "a.Insert(5)\n",
    "a.print()"
   ]
  },
  {
   "cell_type": "code",
   "execution_count": 68,
   "metadata": {},
   "outputs": [
    {
     "name": "stdout",
     "output_type": "stream",
     "text": [
      "______________LINK LIST___________________\n",
      "1\n",
      "8\n",
      "3\n",
      "5\n",
      "______________LINK LIST___________________\n"
     ]
    }
   ],
   "source": [
    "# Insert in between\n",
    "a.Insert(8,1)\n",
    "a.print()"
   ]
  },
  {
   "cell_type": "code",
   "execution_count": 69,
   "metadata": {},
   "outputs": [
    {
     "name": "stdout",
     "output_type": "stream",
     "text": [
      "INVALID POSITION\n",
      "______________LINK LIST___________________\n",
      "1\n",
      "8\n",
      "3\n",
      "5\n",
      "______________LINK LIST___________________\n"
     ]
    }
   ],
   "source": [
    "# Insert position invalid\n",
    "a.Insert(9,100)\n",
    "a.print()"
   ]
  },
  {
   "cell_type": "code",
   "execution_count": 70,
   "metadata": {},
   "outputs": [
    {
     "name": "stdout",
     "output_type": "stream",
     "text": [
      "______________LINK LIST___________________\n",
      "1\n",
      "3\n",
      "5\n",
      "______________LINK LIST___________________\n"
     ]
    }
   ],
   "source": [
    "# Delete\n",
    "a.Delete(8)\n",
    "a.print()"
   ]
  },
  {
   "cell_type": "code",
   "execution_count": 71,
   "metadata": {},
   "outputs": [
    {
     "name": "stdout",
     "output_type": "stream",
     "text": [
      "______________LINK LIST___________________\n",
      "1\n",
      "3\n",
      "7\n",
      "______________LINK LIST___________________\n"
     ]
    }
   ],
   "source": [
    "# Update element\n",
    "a.Update(5,7)\n",
    "a.print()"
   ]
  },
  {
   "cell_type": "code",
   "execution_count": 72,
   "metadata": {},
   "outputs": [
    {
     "name": "stdout",
     "output_type": "stream",
     "text": [
      "Element not in the list!\n",
      "______________LINK LIST___________________\n",
      "1\n",
      "3\n",
      "7\n",
      "______________LINK LIST___________________\n"
     ]
    }
   ],
   "source": [
    "# Element not in list\n",
    "a.Update(6,7)\n",
    "a.print()"
   ]
  },
  {
   "cell_type": "code",
   "execution_count": 73,
   "metadata": {},
   "outputs": [
    {
     "data": {
      "text/plain": [
       "True"
      ]
     },
     "execution_count": 73,
     "metadata": {},
     "output_type": "execute_result"
    }
   ],
   "source": [
    "# Search\n",
    "a.Search(3)"
   ]
  },
  {
   "cell_type": "code",
   "execution_count": 74,
   "metadata": {},
   "outputs": [
    {
     "data": {
      "text/plain": [
       "False"
      ]
     },
     "execution_count": 74,
     "metadata": {},
     "output_type": "execute_result"
    }
   ],
   "source": [
    "# Search not present\n",
    "a.Search(5)"
   ]
  },
  {
   "cell_type": "code",
   "execution_count": 75,
   "metadata": {},
   "outputs": [
    {
     "name": "stdout",
     "output_type": "stream",
     "text": [
      "______________LINK LIST___________________\n",
      "2\n",
      "4\n",
      "6\n",
      "______________LINK LIST___________________\n",
      "______________LINK LIST___________________\n",
      "1\n",
      "2\n",
      "3\n",
      "4\n",
      "6\n",
      "7\n",
      "______________LINK LIST___________________\n"
     ]
    }
   ],
   "source": [
    "# Merge Link List\n",
    "b = Linked_List()\n",
    "b.Insert(2)\n",
    "b.Insert(4)\n",
    "b.Insert(6)\n",
    "b.print()\n",
    "\n",
    "a.merge_linkedlists(b.head)"
   ]
  },
  {
   "cell_type": "code",
   "execution_count": 76,
   "metadata": {},
   "outputs": [
    {
     "name": "stdout",
     "output_type": "stream",
     "text": [
      "______________LINK LIST___________________\n",
      "1\n",
      "3\n",
      "7\n",
      "______________LINK LIST___________________\n"
     ]
    }
   ],
   "source": [
    "# Empty head Case\n",
    "c = Linked_List()\n",
    "a.merge_linkedlists(c.head)"
   ]
  },
  {
   "cell_type": "code",
   "execution_count": 77,
   "metadata": {},
   "outputs": [],
   "source": [
    "# Problem 8\n",
    "def validate_order(nums):\n",
    "    # Function to check whether the waiting list is sorted or not\n",
    "    def check_waiting(w):\n",
    "        w = w[::-1]\n",
    "        if len(w) < 2:\n",
    "            return 1\n",
    "        cur = w[0]\n",
    "        for i in w[1:]:\n",
    "            if i < cur:\n",
    "                return 0\n",
    "            else:\n",
    "                cur = i\n",
    "        return 1\n",
    "\n",
    "    ans = 0\n",
    "    arrival = nums\n",
    "    waiting = []\n",
    "    nest = []\n",
    "    current_priority = 1\n",
    "\n",
    "    # Run while loop until the first priority element is enqueued in to the nest\n",
    "    while len(arrival) > 1:\n",
    "        curr = arrival.pop(0)\n",
    "        if curr != current_priority:\n",
    "            waiting.append(curr)\n",
    "        else:\n",
    "            # if the current element is not the current priority, enqueue it into the waiting list\n",
    "            nest.append(curr)\n",
    "            current_priority += 1\n",
    "\n",
    "    # if the waiting list is sorted then and only then the problem can be solved else it cannot be solved\n",
    "    return check_waiting(waiting)"
   ]
  },
  {
   "cell_type": "code",
   "execution_count": 78,
   "metadata": {},
   "outputs": [
    {
     "name": "stdout",
     "output_type": "stream",
     "text": [
      "CASE 1: 1\n"
     ]
    }
   ],
   "source": [
    "print(\"CASE 1:\", validate_order([5,3,2,1,4]))"
   ]
  },
  {
   "cell_type": "code",
   "execution_count": 79,
   "metadata": {},
   "outputs": [
    {
     "name": "stdout",
     "output_type": "stream",
     "text": [
      "CASE 2: 0\n"
     ]
    }
   ],
   "source": [
    "print(\"CASE 2:\", validate_order([4, 1, 5, 3, 2]))"
   ]
  }
 ],
 "metadata": {
  "kernelspec": {
   "display_name": "Python 3 (ipykernel)",
   "language": "python",
   "name": "python3"
  },
  "language_info": {
   "codemirror_mode": {
    "name": "ipython",
    "version": 3
   },
   "file_extension": ".py",
   "mimetype": "text/x-python",
   "name": "python",
   "nbconvert_exporter": "python",
   "pygments_lexer": "ipython3",
   "version": "3.10.7"
  }
 },
 "nbformat": 4,
 "nbformat_minor": 4
}
