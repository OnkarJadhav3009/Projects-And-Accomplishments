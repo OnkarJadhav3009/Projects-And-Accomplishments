{
  "nbformat": 4,
  "nbformat_minor": 0,
  "metadata": {
    "colab": {
      "provenance": [],
      "collapsed_sections": []
    },
    "kernelspec": {
      "name": "python3",
      "display_name": "Python 3"
    },
    "language_info": {
      "name": "python"
    }
  },
  "cells": [
    {
      "cell_type": "code",
      "execution_count": 72,
      "metadata": {
        "id": "kEt14EZf_UPp"
      },
      "outputs": [],
      "source": [
        "# Problem 1"
      ]
    },
    {
      "cell_type": "code",
      "source": [
        "def max_cherries(cake):\n",
        "\n",
        "  def slice_according_to_rows(c,k):\n",
        "\n",
        "    if len(c) == 1:\n",
        "      return c[0]\n",
        "    return c[0:k], c[k:]\n",
        "  \n",
        "  def transpose_to_get_columns(m):\n",
        "    resultant_matrix = [[m[j][i] for j in range(len(m))] for i in range(len(m[0]))]\n",
        "    return resultant_matrix\n",
        "  \n",
        "  def count_hash(a, b):\n",
        "    count_of_cherries_right_side = 0\n",
        "    count_of_cherries_left_side = 0\n",
        "    for i in a:\n",
        "      count_of_cherries_right_side = count_of_cherries_right_side + i.count('#')\n",
        "    for i in b:\n",
        "      count_of_cherries_left_side  = count_of_cherries_left_side + i.count('#')\n",
        "    return count_of_cherries_right_side, count_of_cherries_left_side\n",
        "  \n",
        "  \n",
        "  def solve_for_cherries(matrix):\n",
        "    count_a = 0\n",
        "    count_b = 0\n",
        "    dict_for_mapping_count = {}\n",
        "    for i in range(1, len(matrix)):\n",
        "      a, b = slice_according_to_rows(matrix, i)\n",
        "      count_a, count_b = count_hash(a,b)\n",
        "      # print(\"COUNT A\",count_a,\"COUNT B\",count_b)\n",
        "      dict_for_mapping_count[abs(count_a - count_b)] = (count_a, count_b)\n",
        "    return dict_for_mapping_count\n",
        "  \n",
        "  if len(cake) > 1:\n",
        "   get_row = solve_for_cherries(cake)\n",
        "   get_col = solve_for_cherries(transpose_to_get_columns(cake))\n",
        "   x = min(get_row.keys())\n",
        "   y = min(get_col.keys())\n",
        "   res = min(x, y)\n",
        "\n",
        "   if res in get_row:\n",
        "    final_ans = min(get_row[res])\n",
        "   elif res in get_col:\n",
        "    final_ans = min(get_col[res])\n",
        "   print(final_ans)\n",
        "\n",
        "  if len(cake) == 1:\n",
        "    final_ans = solve_for_cherries(transpose_to_get_columns(cake))\n",
        "    print(\"ANNNS\",min(final_ans.keys()))\n",
        "max_cherries([[\".\", \"#\", \".\"],[\"#\",\".\",\".\"],[\"#\",\"#\",\"#\"]])\n",
        "max_cherries([[\".\",\"#\",\"#\",\"#\",\"#\"],[\".\",\".\",\".\",\".\",\".\"]])"
      ],
      "metadata": {
        "colab": {
          "base_uri": "https://localhost:8080/"
        },
        "id": "WpGp5urE_icA",
        "outputId": "76a905bb-5e9a-4e0f-dd09-93ea59e13e2a"
      },
      "execution_count": 76,
      "outputs": [
        {
          "output_type": "stream",
          "name": "stdout",
          "text": [
            "2\n",
            "2\n"
          ]
        }
      ]
    },
    {
      "cell_type": "code",
      "source": [
        "#Problem 2"
      ],
      "metadata": {
        "id": "z7LmNwu7_-Q5"
      },
      "execution_count": 10,
      "outputs": []
    },
    {
      "cell_type": "code",
      "source": [
        "def spy_locations(heights):\n",
        "    spy_buildings_list = []\n",
        "    max_val = heights[0]\n",
        "    #Append the indexes in the list\n",
        "    spy_buildings_list.append(heights.index(heights[0]))\n",
        "    #Check when the index of max element changes if the index changes we need a spy\n",
        "    for i in range(len(heights)):\n",
        "        if heights[i] > max_val:\n",
        "            max_val = heights[i]\n",
        "            spy_buildings_list.append(heights.index(max_val))\n",
        "    print(\"SPIES\",spy_buildings_list)\n",
        "spy_locations([4, 3, 7 ,6 ,9])\n",
        "spy_locations([4, 3, 2, 1])\n",
        "spy_locations([1, 2, 5, 7])"
      ],
      "metadata": {
        "colab": {
          "base_uri": "https://localhost:8080/"
        },
        "id": "dv1kL3toH0wf",
        "outputId": "d8103857-13eb-4d75-c2ec-503b11efd5ff"
      },
      "execution_count": 44,
      "outputs": [
        {
          "output_type": "stream",
          "name": "stdout",
          "text": [
            "SPIES [0, 2, 4]\n",
            "SPIES [0]\n",
            "SPIES [0, 1, 2, 3]\n"
          ]
        }
      ]
    },
    {
      "cell_type": "code",
      "source": [
        "#Problem 3"
      ],
      "metadata": {
        "id": "Klt0NrxxILYs"
      },
      "execution_count": 14,
      "outputs": []
    },
    {
      "cell_type": "code",
      "source": [
        "def whos_the_winner(s,p):\n",
        "    index_of_substring = []\n",
        "    \n",
        "    #Getting indices of the substring\n",
        "    positions = [(i, i + len(p) - 1)\n",
        "                for i in range(int(len(s)/2))\n",
        "                if s[i:].startswith(p)]\n",
        "    \n",
        "                \n",
        "    \n",
        "    # print(\"POSS\",max(positions)[0])\n",
        "    \n",
        "    #Slice left part of the string and count characters\n",
        "    count_left = 0\n",
        "    left_string = s[0:max(positions)[0]]\n",
        "    # print(\"LEFT STRING\",left_string)\n",
        "    for i in range(0,len(left_string)):\n",
        "        if left_string[i] != ' ':\n",
        "            count_left = count_left + 1 \n",
        "    # print(\"Count left\",count_left)\n",
        "            \n",
        "    \n",
        "    #Slice right part of the string and count characters\n",
        "    count_right = 0\n",
        "    right_string = s[(max(positions)[1])+1:len(s)]\n",
        "    # print(\"RIGHT STRING\",right_string)\n",
        "    for i in range(0,len(right_string)):\n",
        "        if right_string[i] != ' ':\n",
        "            count_right = count_right + 1\n",
        "    # print(\"Count right\",count_right)\n",
        "    \n",
        "    #Walter win condition\n",
        "    if count_left == count_right:\n",
        "        print(\"Walter\")\n",
        "    else:\n",
        "        print(\"Veidt\")\n",
        "\n",
        "    \n",
        "whos_the_winner('Abcdefghij','cdef')\n",
        "whos_the_winner('Abcdj','bc')\n",
        "whos_the_winner('xyzaaaxyz','aaa')"
      ],
      "metadata": {
        "colab": {
          "base_uri": "https://localhost:8080/"
        },
        "id": "5O7QjgG1K7TN",
        "outputId": "5b494998-6296-4fa7-ad6e-0e129599122a"
      },
      "execution_count": 79,
      "outputs": [
        {
          "output_type": "stream",
          "name": "stdout",
          "text": [
            "Veidt\n",
            "Veidt\n",
            "Walter\n"
          ]
        }
      ]
    },
    {
      "cell_type": "code",
      "source": [
        "#Problem 4"
      ],
      "metadata": {
        "id": "Bb_eE2XhJifw"
      },
      "execution_count": 22,
      "outputs": []
    },
    {
      "cell_type": "code",
      "source": [
        "\n",
        "def return_resultant_string(s, p):\n",
        "        stack = []\n",
        "        # Append in Stack\n",
        "        for i in s:\n",
        "            stack.append(i)\n",
        "            \n",
        "            #Check for lengths for stack and pattern p.\n",
        "            if len(stack) >= len(p):\n",
        "                # If find a pattern pop\n",
        "                if ''.join(stack[-len(p):]) == p:\n",
        "                    for _ in range(len(p)):\n",
        "                        stack.pop()\n",
        "\n",
        "        #Check condition for empty string and concatenate the remaining string\n",
        "        if (''.join(stack)):\n",
        "            return ''.join(stack)\n",
        "        else:\n",
        "            return None\n",
        "  \n",
        "#Check for empty string\n",
        "a = return_resultant_string('aababccbc','abc')\n",
        "b = return_resultant_string('ikoollm','ool')\n",
        "if a == None:\n",
        "    print(\"\\\"\\\"\")\n",
        "else:\n",
        "    print(a)\n",
        "\n",
        "if b == None:\n",
        "    print(\"\\\"\\\"\")\n",
        "else:\n",
        "    print(b)"
      ],
      "metadata": {
        "colab": {
          "base_uri": "https://localhost:8080/"
        },
        "id": "5OBiDPe4JjwS",
        "outputId": "3a34fd9f-f212-453e-f57b-359dd8479ee7"
      },
      "execution_count": 73,
      "outputs": [
        {
          "output_type": "stream",
          "name": "stdout",
          "text": [
            "\"\"\n",
            "iklm\n"
          ]
        }
      ]
    },
    {
      "cell_type": "code",
      "source": [
        "#Problem 5"
      ],
      "metadata": {
        "id": "h3ojB-bPIdbn"
      },
      "execution_count": 38,
      "outputs": []
    },
    {
      "cell_type": "code",
      "source": [
        "def flip_game(s, queries):\n",
        "  resultant_list = []\n",
        "\n",
        "  def count_first(string, p):\n",
        "    for j in range(len(string)):\n",
        "      if string[j] == \"1\":\n",
        "        #Create list of occurence\n",
        "        if string[j] in p:\n",
        "          p[string[j]].append(j)\n",
        "        else:\n",
        "          # 1 list\n",
        "          p[string[j]] = [j]\n",
        "      \n",
        "    p['count'] = len(p['1'])\n",
        "    return p\n",
        "  \n",
        "  for i in queries:\n",
        "    dict_for_count = {}\n",
        "    dict_for_count = count_first(s, dict_for_count)\n",
        "\n",
        "    if i == \"get\":\n",
        "      count = dict_for_count['count']\n",
        "      resultant_list.append(count)\n",
        "    else:\n",
        "      _index = dict_for_count['1'][0]\n",
        "      s = '1' * _index + '0' + s[_index + 1:len(s)] \n",
        "  \n",
        "  return resultant_list\n",
        "\n",
        "\n",
        "\n",
        "print(flip_game('0000101011',['get','flip','flip','get','flip','flip','flip','get']))\n",
        "print(flip_game(\"00110011\",[\"get\",\"flip\",\"get\",\"flip\",\"flip\",\"get\"]))\n",
        "\n"
      ],
      "metadata": {
        "colab": {
          "base_uri": "https://localhost:8080/"
        },
        "id": "Sa8x4StcODuA",
        "outputId": "d8f7fe7e-90de-4e9c-f84c-1ede4590c610"
      },
      "execution_count": 71,
      "outputs": [
        {
          "output_type": "stream",
          "name": "stdout",
          "text": [
            "[4, 6, 6]\n",
            "[4, 5, 4]\n"
          ]
        }
      ]
    },
    {
      "cell_type": "code",
      "source": [
        "#Problem 6"
      ],
      "metadata": {
        "id": "EA0NSSqkN_qn"
      },
      "execution_count": 39,
      "outputs": []
    },
    {
      "cell_type": "code",
      "source": [
        "def calculate_points(list):\n",
        "    l = list\n",
        "    resultant_list = []\n",
        "    # Check for operations in a list\n",
        "    for i in l:\n",
        "        # Strip because taking negative\n",
        "        if  i.lstrip('-').isdigit():\n",
        "            resultant_list.append(int(i))\n",
        "        elif i == 'I':\n",
        "            resultant_list.pop()\n",
        "        elif i == 'D':\n",
        "            resultant_list.append(int(resultant_list[-1]) * 2)\n",
        "        elif i == '+':\n",
        "            sum_of_last_two = resultant_list[-2] + resultant_list[-1]\n",
        "            resultant_list.append(sum_of_last_two)\n",
        "        elif i == '-':\n",
        "            minus_last_two = resultant_list[-2] - resultant_list[-1]\n",
        "            resultant_list.append(minus_last_two)\n",
        "        elif i == '/':\n",
        "            floor_div_last_two = resultant_list[-2] // resultant_list[-1]\n",
        "            resultant_list.append(floor_div_last_two)\n",
        "        elif i == '*':\n",
        "            multiply_last_two = resultant_list[-2] * resultant_list[-1]\n",
        "            resultant_list.append(multiply_last_two)\n",
        "        elif i == '%':\n",
        "            mod_of_last_two = resultant_list[-2] % resultant_list[-1]\n",
        "            resultant_list.append(mod_of_last_two)\n",
        "    print(\"TOTAL SUM IS:\",sum(resultant_list))\n",
        "\n",
        "calculate_points([\"5\",\"2\",\"I\",\"D\",\"+\"])\n",
        "calculate_points([\"7\",\"2\",\"/\",\"D\",\"+\"])"
      ],
      "metadata": {
        "colab": {
          "base_uri": "https://localhost:8080/"
        },
        "id": "vv_UDCWkOERb",
        "outputId": "6f2d0c37-6006-4b92-ef94-bffe46bb777a"
      },
      "execution_count": 80,
      "outputs": [
        {
          "output_type": "stream",
          "name": "stdout",
          "text": [
            "TOTAL SUM IS: 30\n",
            "TOTAL SUM IS: 27\n"
          ]
        }
      ]
    },
    {
      "cell_type": "code",
      "source": [
        "#Problem 7"
      ],
      "metadata": {
        "id": "3rX-WQQ0P2zy"
      },
      "execution_count": 45,
      "outputs": []
    },
    {
      "cell_type": "code",
      "source": [
        "class Node:\n",
        "  # constructor\n",
        "  def __init__(self, num = None, next=None): \n",
        "    self.num = num\n",
        "    self.next = next\n",
        "\n",
        "# A Linked List class with a single head node\n",
        "class Linked_List:\n",
        "  def __init__(self):  \n",
        "    self.head = None\n",
        "   \n",
        "\n",
        "  def print_list(self):\n",
        "        if self.head is None:\n",
        "            return \"\"\n",
        "\n",
        "        node = self.head\n",
        "        while node:\n",
        "            print(node.num, end = \"   \")\n",
        "            node = node.next\n",
        "        \n",
        "  \n",
        "  def insert(self, data):\n",
        "    newNode = Node(data)\n",
        "    if(self.head):\n",
        "      current = self.head\n",
        "      while(current.next):\n",
        "        current = current.next\n",
        "      current.next = newNode\n",
        "    else:\n",
        "      self.head = newNode\n",
        "    \n",
        "  \n",
        "  \n",
        "  def insert_position(self,element, position):\n",
        "    # create a new node\n",
        "    new = Node(element)\n",
        "    \n",
        "    current_pointer = self.head\n",
        "    \n",
        "    counter = 1\n",
        "\n",
        "    while current_pointer.next is not None:\n",
        "        if counter == position:\n",
        "            new.next = current_pointer.next\n",
        "            current_pointer.next = new\n",
        "            break\n",
        "        counter = counter + 1\n",
        "        current_pointer = current_pointer.next\n",
        "    return self.head\n",
        "\n",
        "\n",
        "  def deleteNode(self,element):\n",
        "    temp = self.head\n",
        "    if temp is not None:\n",
        "        if temp.num == element:\n",
        "            self.head = temp.next\n",
        "            temp = None\n",
        "            return\n",
        "\n",
        "    while temp is not None:\n",
        "        if temp.num == element:\n",
        "            break\n",
        "        prev = temp\n",
        "        temp = temp.next\n",
        "    if temp == None:\n",
        "        return\n",
        "    prev.next = temp.next\n",
        "    temp = None\n",
        "\n",
        "\n",
        "  def search_element(self,element):\n",
        "    curr = self.head\n",
        "    flag = 0\n",
        "    while curr is not None:\n",
        "      if curr.num == element:\n",
        "        flag = 1\n",
        "        break\n",
        "      curr = curr.next\n",
        "    \n",
        "    if flag == 1:\n",
        "      print(\"Element Found\")\n",
        "    else:\n",
        "      print(\"Element Not Found\")\n",
        "  \n",
        "  def update(self,search_element, replace_element):\n",
        "    flag = 0\n",
        "    curr = self.head\n",
        "    while curr.next is not None:\n",
        "       if curr.num == search_element:\n",
        "         curr.num = replace_element\n",
        "         flag = 1\n",
        "         break\n",
        "       curr = curr.next\n",
        "    if flag == 1:\n",
        "      print(\"Element To Update found\")\n",
        "    else:\n",
        "      print(\"Element To Update Not Found\")\n",
        "\n",
        "def merge(L1, L2):\n",
        "    head_p = temp_p = Node() \n",
        "    while L1 or L2:\n",
        "        if L1 and (not L2 or L1.num <= L2.num):\n",
        "            temp_p.next = Node(L1.num)\n",
        "            L1 = L1.next\n",
        "        # otherwise insert List_2 node in the ouput list\n",
        "        else:\n",
        "            temp_p.next = Node(L2.num)\n",
        "            L2 = L2.next\n",
        "        # move temp_pointer to next position\n",
        "        temp_p = temp_p.next\n",
        "    # return output list\n",
        "    return head_p.next   \n",
        "  \n",
        " \n",
        "LL =  Linked_List()\n",
        "\n",
        "\n",
        "for i in range(1,20):\n",
        "  LL.insert(i)\n",
        "\n",
        "#Insert \n",
        "LL.insert_position(2, 89)\n",
        "LL.print_list()\n",
        "print('\\n..........................................................................................................')\n",
        "#Delete\n",
        "LL.deleteNode(3)\n",
        "LL.print_list()\n",
        "print('\\n..........................................................................................................')\n",
        "#Search\n",
        "LL.search_element(7)\n",
        "LL.print_list()\n",
        "print('\\n..........................................................................................................')\n",
        "#Update\n",
        "LL.update(18,100)\n",
        "LL.print_list()\n",
        "print('\\n..........................................................................................................')\n",
        "\n",
        "\n",
        "#Merge LL1\n",
        "LL1 = Linked_List()\n",
        "LL1.insert(1)\n",
        "LL1.insert(2)\n",
        "LL1.insert(3)\n",
        "LL1.insert(4)\n",
        "#Merge LL2\n",
        "LL2 = Linked_List()\n",
        "LL2.insert(5)\n",
        "LL2.insert(6)\n",
        "LL2.insert(7)\n",
        "LL2.insert(8)\n",
        "\n",
        "# Merge\n",
        "LL3 = Linked_List()\n",
        "LL3.head=merge(LL1.head, LL2.head)\n",
        "LL3.print_list()\n",
        "\n",
        "\n",
        "\n",
        "\n",
        "\n",
        "\n"
      ],
      "metadata": {
        "colab": {
          "base_uri": "https://localhost:8080/"
        },
        "id": "D5BK4jHnP2co",
        "outputId": "538b3766-2101-437a-ea3c-f53e3d47dfab"
      },
      "execution_count": 57,
      "outputs": [
        {
          "output_type": "stream",
          "name": "stdout",
          "text": [
            "1   2   3   4   5   6   7   8   9   10   11   12   13   14   15   16   17   18   19   \n",
            "..........................................................................................................\n",
            "1   2   4   5   6   7   8   9   10   11   12   13   14   15   16   17   18   19   \n",
            "..........................................................................................................\n",
            "Element Found\n",
            "1   2   4   5   6   7   8   9   10   11   12   13   14   15   16   17   18   19   \n",
            "..........................................................................................................\n",
            "Element To Update found\n",
            "1   2   4   5   6   7   8   9   10   11   12   13   14   15   16   17   100   19   \n",
            "..........................................................................................................\n",
            "1   2   3   4   5   6   7   8   "
          ]
        }
      ]
    },
    {
      "cell_type": "code",
      "source": [
        "#Problem 8"
      ],
      "metadata": {
        "id": "JBvVWK4rId5P"
      },
      "execution_count": 19,
      "outputs": []
    },
    {
      "cell_type": "code",
      "source": [
        "def validate_order(nums):\n",
        "\n",
        "  wait_list = []\n",
        "  nest_list = []\n",
        "  final_wait_list = []\n",
        "  wait_list_reversed = []\n",
        "  count = (len(nest_list) + 1)\n",
        "  j = 0\n",
        "  length = len(nums)\n",
        "  i = 1\n",
        "\n",
        "  while i < (length):\n",
        "    # print(\"III\",i)\n",
        "    # print(\"COUNT\",count)\n",
        "    if nums[j] == count:\n",
        "      # print(\"INSIDE IFF\",nums[j])\n",
        "      nest_list.append(nums[j])\n",
        "      count = count + 1\n",
        "      nums.pop(0)\n",
        "    else:\n",
        "      # print(\"JJJJ\",j,\"NUMBEEER\",nums[j])\n",
        "      wait_list.append(nums[j])\n",
        "      nums.pop(0)\n",
        "     \n",
        "    i = i+1\n",
        "  \n",
        "  wait_list_reversed = wait_list[::-1]\n",
        " \n",
        "\n",
        "  if(wait_list_reversed == sorted(wait_list_reversed)):\n",
        "    print(1)\n",
        "  else:\n",
        "    print(0)\n",
        "validate_order([5, 3, 2, 1, 4])\n",
        "validate_order([4, 1, 5, 3, 2])\n",
        "    \n"
      ],
      "metadata": {
        "colab": {
          "base_uri": "https://localhost:8080/"
        },
        "id": "XFJ9du23Ihsq",
        "outputId": "3acb7a12-7f94-40d3-ee9e-3ba954de4a0b"
      },
      "execution_count": 59,
      "outputs": [
        {
          "output_type": "stream",
          "name": "stdout",
          "text": [
            "1\n",
            "0\n"
          ]
        }
      ]
    },
    {
      "cell_type": "code",
      "source": [],
      "metadata": {
        "id": "_oEmp2M9I_i9"
      },
      "execution_count": 80,
      "outputs": []
    },
    {
      "cell_type": "code",
      "source": [],
      "metadata": {
        "id": "DnWU0vN3JQoH"
      },
      "execution_count": null,
      "outputs": []
    }
  ]
}