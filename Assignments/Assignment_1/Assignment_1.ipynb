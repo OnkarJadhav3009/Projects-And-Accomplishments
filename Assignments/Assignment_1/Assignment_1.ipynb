{
 "cells": [
  {
   "cell_type": "code",
   "execution_count": null,
   "outputs": [],
   "source": [
    "# Name: Onkar Jadhav\n",
    "# Username: ojadhav\n",
    "# Email: ojadhav@iu.edu"
   ],
   "metadata": {
    "collapsed": false,
    "pycharm": {
     "name": "#%%\n"
    }
   }
  },
  {
   "cell_type": "code",
   "execution_count": null,
   "outputs": [],
   "source": [
    "# Problem 1\n",
    "# Olivia is always fascinated by prime numbers. She wanted to know the number of English letters\n",
    "# that are required for writing them.\n",
    "# Write a program which takes the natural number N and gives the number of english letters\n",
    "# required to write the prime numbers below N.\n",
    "\n",
    "def count_prime_letters(n):\n",
    "\n",
    "    # Function to count the number of letters that are required to write the prime numbers\n",
    "    def countLetters(num):\n",
    "        # Map for storing the length of the words of the corresponding numbers\n",
    "        len_map = {\n",
    "            1: 3, 2: 3, 3: 5, 4: 4, 5: 4, 6: 3, 7: 5, 8: 5, 9: 4,\n",
    "            10: 3, 11: 6, 12: 6, 13: 8, 14: 8, 15: 7, 16: 7, 17: 9, 18: 8, 19: 8,\n",
    "            20: 6, 30: 6, 40: 5, 50: 5, 60: 5, 70: 7, 80: 6, 90: 6\n",
    "        } \n",
    "\n",
    "        if num < 20:\n",
    "            return len_map[num]\n",
    "        elif num > 20:\n",
    "            # Return the number of letters for that number.\n",
    "            # // is used for floor division to get the tens digit and mod 10 returns the units digit\n",
    "            return (len_map[num // 10] * 10) + len_map[num % 10]\n",
    "\n",
    "    def checkPrime(num):\n",
    "        # Since 1 is not a prime number...\n",
    "        if num == 1:\n",
    "            return False\n",
    "        # We only check from 2 to root(n) + 1 because any number greater than root(n) which is a factor of n also has a factor in the range 2 to root(n)\n",
    "        for k in range(2, int(num ** 0.5) + 1):\n",
    "            if num % k == 0:\n",
    "                return False\n",
    "        return True\n",
    "\n",
    "    # logic of the function\n",
    "    count = 0\n",
    "    res = []\n",
    "    i = 1\n",
    "    while i < n:\n",
    "\n",
    "        if checkPrime(i):\n",
    "            res.append(i)\n",
    "        if i < 3:\n",
    "            i += 1\n",
    "        else:\n",
    "            i += 2\n",
    "\n",
    "    for i in res:\n",
    "        count += countLetters(i)\n",
    "        # print(count)\n",
    "    return count"
   ],
   "metadata": {
    "collapsed": false,
    "pycharm": {
     "name": "#%%\n"
    }
   }
  },
  {
   "cell_type": "code",
   "execution_count": 2,
   "id": "ea26167b-dd0a-4c73-87e1-345d72f46b94",
   "metadata": {
    "pycharm": {
     "name": "#%%\n"
    }
   },
   "outputs": [],
   "source": [
    "# Problem 1\n",
    "# Olivia is always fascinated by prime numbers. She wanted to know the number of English letters\n",
    "# that are required for writing them.\n",
    "# Write a program which takes the natural number N and gives the number of english letters\n",
    "# required to write the prime numbers below N.\n",
    "\n",
    "def count_prime_letters(n):\n",
    "\n",
    "    # Function to count the number of letters that are required to write the prime numbers\n",
    "    def countLetters(num):\n",
    "        # Map for storing the length of the words of the corresponding numbers\n",
    "        len_map = {\n",
    "            1: 3, 2: 3, 3: 5, 4: 4, 5: 4, 6: 3, 7: 5, 8: 5, 9: 4,\n",
    "            10: 3, 11: 6, 12: 6, 13: 8, 14: 8, 15: 7, 16: 7, 17: 9, 18: 8, 19: 8,\n",
    "            20: 6, 30: 6, 40: 5, 50: 5, 60: 5, 70: 7, 80: 6, 90: 6\n",
    "        } \n",
    "\n",
    "        if num < 20:\n",
    "            return len_map[num]\n",
    "        elif num > 20:\n",
    "            # Return the number of letters for that number.\n",
    "            # // is used for floor division to get the tens digit and mod 10 returns the units digit\n",
    "            return (len_map[num // 10] * 10) + len_map[num % 10]\n",
    "\n",
    "    def checkPrime(num):\n",
    "        # Since 1 is not a prime number...\n",
    "        if num == 1:\n",
    "            return False\n",
    "        # We only check from 2 to root(n) + 1 because any number greater than root(n) which is a factor of n also has a factor in the range 2 to root(n)\n",
    "        for k in range(2, int(num ** 0.5) + 1):\n",
    "            if num % k == 0:\n",
    "                return False\n",
    "        return True\n",
    "\n",
    "    # logic of the function\n",
    "    count = 0\n",
    "    res = []\n",
    "    i = 1\n",
    "    while i < n:\n",
    "\n",
    "        if checkPrime(i):\n",
    "            res.append(i)\n",
    "        if i < 3:\n",
    "            i += 1\n",
    "        else:\n",
    "            i += 2\n",
    "\n",
    "    for i in res:\n",
    "        count += countLetters(i)\n",
    "        # print(count)\n",
    "    return count"
   ]
  },
  {
   "cell_type": "code",
   "execution_count": 3,
   "id": "c44d4936",
   "metadata": {
    "pycharm": {
     "name": "#%%\n"
    }
   },
   "outputs": [
    {
     "name": "stdout",
     "output_type": "stream",
     "text": [
      "17\n"
     ]
    }
   ],
   "source": [
    "ans = count_prime_letters(8)\n",
    "print(ans)"
   ]
  },
  {
   "cell_type": "code",
   "execution_count": 4,
   "id": "b17caa05",
   "metadata": {
    "pycharm": {
     "name": "#%%\n"
    }
   },
   "outputs": [
    {
     "name": "stdout",
     "output_type": "stream",
     "text": [
      "3\n"
     ]
    }
   ],
   "source": [
    "ans = count_prime_letters(3)\n",
    "print(ans)"
   ]
  },
  {
   "cell_type": "code",
   "execution_count": 5,
   "id": "be225187",
   "metadata": {
    "pycharm": {
     "name": "#%%\n"
    }
   },
   "outputs": [
    {
     "name": "stdout",
     "output_type": "stream",
     "text": [
      "40\n"
     ]
    }
   ],
   "source": [
    "ans = count_prime_letters(18)\n",
    "print(ans)"
   ]
  },
  {
   "cell_type": "code",
   "execution_count": 6,
   "id": "d6c08f22",
   "metadata": {
    "pycharm": {
     "name": "#%%\n"
    }
   },
   "outputs": [],
   "source": [
    "# Problem 2\n",
    "# A perfect square is a number that can be expressed as a product of an integer with itself.\n",
    "# (For example, 49 is the product of 7 with itself).A function F (N ) is defined such that it returns the\n",
    "# sum of all perfect squares less than or equal to N, where N is a positive integer. An advanced\n",
    "# version of F (N ), function get_square_sum(M, N ) , is defined such that it applies operation\n",
    "# F (N ) ’M’ times to the result of the previous operation, starting from N.\n",
    "# Write the function get_square_sum(M, N ).You may assume M >= 1, N >= 1.\n",
    "\n",
    "def get_square_sum(M, N):\n",
    "\n",
    "    # Function to check whether a number is a perfect square or not\n",
    "    def isPerfectSquare(x):\n",
    "\n",
    "        # Get the square root of the number. mod 1 returns the digit or digits after the decimal point.\n",
    "        # So if the sqrt of a number mod 1 is 0, that means the square root of the number is not a fractional number.\n",
    "        # So if not fractional number return true\n",
    "        return (x**0.5) % 1 == 0\n",
    "\n",
    "    output = 0\n",
    "    i = 0\n",
    "    start = 1\n",
    "\n",
    "    # Loop M times\n",
    "    while i < M:\n",
    "\n",
    "        # Loop from start = 1 to N + 1.\n",
    "        for j in range(start, N+1):\n",
    "            # if j is perfect square add it to the output.\n",
    "\n",
    "            if isPerfectSquare(j):\n",
    "                # print(j)\n",
    "                output += j\n",
    "\n",
    "        # For consecutive iterations change start to the end i.e N and then change N to the current output.\n",
    "        start = N\n",
    "        N = output\n",
    "\n",
    "        i += 1\n",
    "    return output"
   ]
  },
  {
   "cell_type": "code",
   "execution_count": 7,
   "id": "5fda0fd3-715d-41ca-9212-b60cb57873cf",
   "metadata": {
    "pycharm": {
     "name": "#%%\n"
    }
   },
   "outputs": [
    {
     "name": "stdout",
     "output_type": "stream",
     "text": [
      "14\n"
     ]
    }
   ],
   "source": [
    "print(get_square_sum(1,10))"
   ]
  },
  {
   "cell_type": "code",
   "execution_count": 8,
   "id": "0ed05bfe-7a20-45cd-ace1-dc5c2551b71f",
   "metadata": {
    "pycharm": {
     "name": "#%%\n"
    }
   },
   "outputs": [
    {
     "name": "stdout",
     "output_type": "stream",
     "text": [
      "55\n"
     ]
    }
   ],
   "source": [
    "print(get_square_sum(2,20))"
   ]
  },
  {
   "cell_type": "code",
   "execution_count": 9,
   "id": "7a1e6bb2-6894-4988-a995-8424b23dd901",
   "metadata": {
    "pycharm": {
     "name": "#%%\n"
    }
   },
   "outputs": [
    {
     "name": "stdout",
     "output_type": "stream",
     "text": [
      "14\n"
     ]
    }
   ],
   "source": [
    "print(get_square_sum(3,10))"
   ]
  },
  {
   "cell_type": "code",
   "execution_count": 10,
   "id": "564ed5c3-40e8-4527-ad7d-e7b81bb4a024",
   "metadata": {
    "pycharm": {
     "name": "#%%\n"
    }
   },
   "outputs": [
    {
     "name": "stdout",
     "output_type": "stream",
     "text": [
      "140\n"
     ]
    }
   ],
   "source": [
    "print(get_square_sum(3,20))"
   ]
  },
  {
   "cell_type": "code",
   "execution_count": 11,
   "id": "cb5555eb-6672-4687-822c-6aafa703ceda",
   "metadata": {
    "pycharm": {
     "name": "#%%\n"
    }
   },
   "outputs": [],
   "source": [
    "# Problem 3\n",
    "# Every integer can be represented in binary notation, which is a string of 1s and 0s.\n",
    "# For example,\n",
    "# 2 = 10\n",
    "# 7 = 111\n",
    "# 8 = 1000\n",
    "# You can explore this in python by using the python function ‘bin‘.\n",
    "# Given an Integer N. The task is to find the second set bit position and return the position. If\n",
    "# an Integer is not having the second bit set, return -1. The second set bit position is the index of\n",
    "# the second 1 in the binary representation of a number when viewed from right to left.\n",
    "# Note: Position count starts from 1.\n",
    "\n",
    "def check_bit(N):\n",
    "    # set starting pos to negative 1\n",
    "    pos = -1\n",
    "    # get the binary number. Just using bin returns 0b in the first two places. Therefore, take everything from index 2.\n",
    "    bin_N = bin(N)[2::]\n",
    "    # construct a list from the binary representation. convert str to integer\n",
    "    l = [int(i) for i in bin_N] # list comprehension\n",
    "\n",
    "    # if count of 1 in the binary representation is less than 2, return -1.\n",
    "    if l.count(1) < 2:\n",
    "        return pos\n",
    "    else:\n",
    "        # get the index of first occurrence of 1.\n",
    "        i = l.index(1)\n",
    "        i += 1\n",
    "        # loop from the first occurrence + 1 till the index where we get a 1\n",
    "        while l[i] != 1:\n",
    "            i += 1\n",
    "\n",
    "        # we will reach the index prior to the bit 1. Therefore, return +1 that index\n",
    "        return i + 1"
   ]
  },
  {
   "cell_type": "code",
   "execution_count": 12,
   "id": "40b83a35-2830-4213-8f25-d16ab1aae977",
   "metadata": {
    "pycharm": {
     "name": "#%%\n"
    }
   },
   "outputs": [
    {
     "name": "stdout",
     "output_type": "stream",
     "text": [
      "-1\n"
     ]
    }
   ],
   "source": [
    "print(check_bit(2)) # 2 = 10. No 2nd bit. Therefore, return -1"
   ]
  },
  {
   "cell_type": "code",
   "execution_count": 13,
   "id": "a772cc43-95cc-4f8d-b466-c58b7c5e518b",
   "metadata": {
    "pycharm": {
     "name": "#%%\n"
    }
   },
   "outputs": [
    {
     "name": "stdout",
     "output_type": "stream",
     "text": [
      "3\n"
     ]
    }
   ],
   "source": [
    "print(check_bit(5)) # 5 = 101"
   ]
  },
  {
   "cell_type": "code",
   "execution_count": 14,
   "id": "ac14ff4d-bf3f-4f98-9bd0-00f631859477",
   "metadata": {
    "pycharm": {
     "name": "#%%\n"
    }
   },
   "outputs": [
    {
     "name": "stdout",
     "output_type": "stream",
     "text": [
      "2\n"
     ]
    }
   ],
   "source": [
    "print(check_bit(3)) # 3 = 11"
   ]
  },
  {
   "cell_type": "code",
   "execution_count": 15,
   "id": "a28c9a72-be88-461f-a1ca-8458566d0459",
   "metadata": {
    "pycharm": {
     "name": "#%%\n"
    }
   },
   "outputs": [],
   "source": [
    "# Problem 4\n",
    "# Given a 3 digit prime number n, print an integer that is perfectly divisible by 7, 11, 13 and n.\n",
    "# Accomplish the above task without using arithmetic operator ’*’ or any kind of loop or recursion,\n",
    "# and clearly explain your solution in the comments.\n",
    "\n",
    "\n",
    "# ----------------------------------\n",
    "# n = 101\n",
    "# while True:\n",
    "#\n",
    "#     if n % 7 == 0 and n % 11 == 0 and n % 13 == 0 and n % 101 == 0:\n",
    "#         break\n",
    "#     n += 1\n",
    "#\n",
    "# print(n)\n",
    "# ----------------------------------\n",
    "\n",
    "# I tried out the above code before jumping into the problem.\n",
    "# I realized that the number which is divisible by 7 , 11, 13 and the given prime number n is n x 1000 + n.\n",
    "# provided n has to be a 3-digit number (that's why multiplying by 1000)\n",
    "# answer for above code is 101101 == 101 x 1000  + 101\n",
    "\n",
    "def find_multiple(n):\n",
    "\n",
    "    output = (n * 1000) + n\n",
    "    return output"
   ]
  },
  {
   "cell_type": "code",
   "execution_count": 16,
   "id": "df506ef0-f0a4-4f3b-9a20-e2e4578cb50c",
   "metadata": {
    "pycharm": {
     "name": "#%%\n"
    }
   },
   "outputs": [
    {
     "name": "stdout",
     "output_type": "stream",
     "text": [
      "101101\n"
     ]
    }
   ],
   "source": [
    "print(find_multiple(101))"
   ]
  },
  {
   "cell_type": "code",
   "execution_count": 17,
   "id": "5ddb9719-63e4-4487-9e00-d157fbd68398",
   "metadata": {
    "pycharm": {
     "name": "#%%\n"
    }
   },
   "outputs": [
    {
     "name": "stdout",
     "output_type": "stream",
     "text": [
      "911911\n"
     ]
    }
   ],
   "source": [
    "print(find_multiple(911))"
   ]
  },
  {
   "cell_type": "code",
   "execution_count": 18,
   "id": "c98aef8f-b4fc-4226-b93e-a72124aed40c",
   "metadata": {
    "pycharm": {
     "name": "#%%\n"
    }
   },
   "outputs": [],
   "source": [
    "# Problem 5\n",
    "# There are ‘n’ number of teams participating in a football tournament. In every match the winning\n",
    "# team is awarded 3 points while the losing team receives 0 points.\n",
    "# In case of a tie, both the teams receive 1 point each. Given three arrays matches_won, matches_drawn\n",
    "# and goals_scored each of length ‘n’ with value at matches_won[i] indicating number of matches\n",
    "# the ith team won, matches_drawn[i] indicating the number of matches played by ith team that\n",
    "# resulted in a tie and goals_scored[i] indicating the number of goals scored by the ith team in the\n",
    "# entire tournament([0,n)).\n",
    "# HomeWork No1 Page 4\n",
    "# The team with the most number of points is declared the champions of the tournament. In case\n",
    "# two or more teams score the same number of points the team with the highest number of goals\n",
    "# scored in the tournament is declared the winner. Assuming there is always a unique winner,\n",
    "# return the index of the winning team.\n",
    "#\n",
    "# Example:\n",
    "# Input:\n",
    "# matches_won = [3,1,2,0]\n",
    "# matches_drawn = [0,1,0,1]\n",
    "# goals_scored=[6,4,5,2]\n",
    "# Output: 0\n",
    "\n",
    "def find_the_winner(matches_won, matches_drawn, goals_scored):\n",
    "    # Store length of matches\n",
    "    n = len(matches_won)\n",
    "    # Store the total points: won x 3 + drawn\n",
    "    points = [(matches_won[i] * 3) + matches_drawn[i] for i in range(n)]\n",
    "\n",
    "    # if no duplicate of the winner, return the index of the winning team\n",
    "    if points.count(max(points)) < 2:\n",
    "        return points.index(max(points))\n",
    "    else:\n",
    "        max_g = 0\n",
    "        # loop n times.\n",
    "        for i in range(n):\n",
    "            # check only the winning team and get hte max goals between them (We have to assume there is a unique winner)\n",
    "            if points[i] == max(points):\n",
    "                if goals_scored[i] > max_g:\n",
    "                    max_g = goals_scored[i]\n",
    "        return goals_scored.index(max_g)"
   ]
  },
  {
   "cell_type": "code",
   "execution_count": 19,
   "id": "fba95d96-ddfd-4873-a501-8e3467797e9d",
   "metadata": {
    "pycharm": {
     "name": "#%%\n"
    }
   },
   "outputs": [
    {
     "name": "stdout",
     "output_type": "stream",
     "text": [
      "0\n"
     ]
    }
   ],
   "source": [
    "print(find_the_winner([3, 1, 2, 0], [0, 1, 0, 1], [6, 4, 5, 2]))"
   ]
  },
  {
   "cell_type": "code",
   "execution_count": 20,
   "id": "b02e5c49-60a7-4fd4-bade-8c678b06c864",
   "metadata": {
    "pycharm": {
     "name": "#%%\n"
    }
   },
   "outputs": [
    {
     "name": "stdout",
     "output_type": "stream",
     "text": [
      "1\n"
     ]
    }
   ],
   "source": [
    "print(find_the_winner([1, 2, 0], [3, 0, 1], [4, 6, 5]))"
   ]
  },
  {
   "cell_type": "code",
   "execution_count": 21,
   "id": "ba1bd261-2c28-46f5-bec1-35892a6f1dc0",
   "metadata": {
    "pycharm": {
     "name": "#%%\n"
    }
   },
   "outputs": [],
   "source": [
    "# Problem 6\n",
    "# Mr.Jack spent his last weekend busy decoding the cipher to open the lock of a treasure.\n",
    "# He was able to decode at the end but figured out from Mr. Smith later that the decoded string\n",
    "# wouldn’t be valid as there are some extra characters added into the string.\n",
    "# Mr.Smith knew that the characters which were added to the string are the 3rd occurrences of\n",
    "# the character. Could you help Mr.Jack to figure out the cipher.\n",
    "\n",
    "def decoded_String(S):\n",
    "    # List comprehension to extract characters from the string\n",
    "    l = [i for i in S]\n",
    "    # Get unique characters.\n",
    "    s = set(S)\n",
    "    # iterate through unique characters\n",
    "    for i in s:\n",
    "        # if that chars count is greater than 3 then proceed as we have to remove the 3rd occurrences.\n",
    "        if S.count(i) >= 3:\n",
    "            # initiate counter at 1 to find the 3rd occurrence.\n",
    "            counter = 1\n",
    "            for j in range(len(l)):\n",
    "                # increase counter by one each time we find the occurrence.\n",
    "                if l[j] == i:\n",
    "                    counter += 1\n",
    "                # for the 3rd occurrence, change the value of the string to empty string\n",
    "                if counter - 1 == 3:\n",
    "                    l[j] = \"\"\n",
    "                    counter = 1\n",
    "\n",
    "    return \"\".join(l) # .join to return the string formed by joining the characters of l"
   ]
  },
  {
   "cell_type": "code",
   "execution_count": 22,
   "id": "7c17f0d4-4edd-41d3-b0f9-414c27cfc5e6",
   "metadata": {
    "pycharm": {
     "name": "#%%\n"
    }
   },
   "outputs": [
    {
     "name": "stdout",
     "output_type": "stream",
     "text": [
      "aaaa\n"
     ]
    }
   ],
   "source": [
    "print(decoded_String(\"aaaaaa\")) # a has 6 occurrences so 2 a's will  be removed"
   ]
  },
  {
   "cell_type": "code",
   "execution_count": 23,
   "id": "f4328de0-0cd2-49bc-9445-f766eb914d8d",
   "metadata": {
    "pycharm": {
     "name": "#%%\n"
    }
   },
   "outputs": [
    {
     "name": "stdout",
     "output_type": "stream",
     "text": [
      "abzzbaz\n"
     ]
    }
   ],
   "source": [
    "print(decoded_String(\"abzzbabzz\")) # b has 3 occurrences and z has 3 occurrences. So 1 b and 1 z will be removed"
   ]
  },
  {
   "cell_type": "code",
   "execution_count": 24,
   "id": "522c2a65-60c3-4bc1-b277-feb6acde01fb",
   "metadata": {
    "pycharm": {
     "name": "#%%\n"
    }
   },
   "outputs": [
    {
     "name": "stdout",
     "output_type": "stream",
     "text": [
      "\n"
     ]
    }
   ],
   "source": [
    "print(decoded_String(\"\"))"
   ]
  },
  {
   "cell_type": "code",
   "execution_count": 25,
   "id": "a5efe34a",
   "metadata": {
    "collapsed": false,
    "jupyter": {
     "outputs_hidden": false
    },
    "pycharm": {
     "name": "#%%\n"
    }
   },
   "outputs": [
    {
     "name": "stdout",
     "output_type": "stream",
     "text": [
      "qwerty\n"
     ]
    }
   ],
   "source": [
    "print(\"qwerty\")"
   ]
  }
 ],
 "metadata": {
  "kernelspec": {
   "display_name": "Python 3 (ipykernel)",
   "language": "python",
   "name": "python3"
  },
  "language_info": {
   "codemirror_mode": {
    "name": "ipython",
    "version": 3
   },
   "file_extension": ".py",
   "mimetype": "text/x-python",
   "name": "python",
   "nbconvert_exporter": "python",
   "pygments_lexer": "ipython3",
   "version": "3.10.7"
  }
 },
 "nbformat": 4,
 "nbformat_minor": 5
}