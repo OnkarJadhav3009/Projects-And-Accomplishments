{
 "cells": [
  {
   "cell_type": "code",
   "execution_count": 1,
   "metadata": {
    "tags": []
   },
   "outputs": [],
   "source": [
    "# q1: Amortized Dictionary\n",
    "import math\n",
    "\n",
    "\n",
    "class amor_dict():\n",
    "\n",
    "    def __init__(self, nums):\n",
    "        self.nums = nums\n",
    "        self.dict = {}\n",
    "        self.total_levels = int(math.log(len(nums), 2)) + 1\n",
    "\n",
    "        for num in self.nums:\n",
    "            self.insert(num)\n",
    "\n",
    "    def insert(self, num):\n",
    "\n",
    "        def is_completely_full(d):\n",
    "            for key, val in enumerate(d.values()):\n",
    "                if len(val) != 2 ** key:\n",
    "                    return False\n",
    "            return True\n",
    "\n",
    "        d = self.dict\n",
    "\n",
    "        if is_completely_full(d):\n",
    "            self.total_levels += 1\n",
    "\n",
    "        levels = self.total_levels\n",
    "        w = [num]\n",
    "        i = 0\n",
    "        while i < levels:\n",
    "            if i not in d:\n",
    "                d[i] = []\n",
    "            if len(d[i]) == 0:\n",
    "                d[i] = w\n",
    "                break\n",
    "            else:\n",
    "                w, d[i] = d[i] + w, []\n",
    "            i += 1\n",
    "\n",
    "    def search(self, num):\n",
    "        def binary_search(arr, x):\n",
    "            low = 0\n",
    "            mid = 0\n",
    "            high = len(arr)\n",
    "            if len(arr) == 0:\n",
    "                return False\n",
    "            while low <= high:\n",
    "                mid = (high + low) // 2\n",
    "                # print(low, mid, high)\n",
    "                if mid >= len(arr):\n",
    "                    return False\n",
    "                if arr[mid] == x:\n",
    "                    return True\n",
    "                elif x < arr[mid]:\n",
    "                    high = mid - 1\n",
    "                elif x > arr[mid]:\n",
    "                    low = mid + 1\n",
    "            return False\n",
    "\n",
    "        i = 0\n",
    "        d = self.dict\n",
    "        for key, val in zip(d.keys(), d.values()):\n",
    "            if binary_search(val, num):\n",
    "                return \"level \" + str(key)\n",
    "\n",
    "        return \"level \" + str(-1)\n",
    "\n",
    "    def print(self):\n",
    "        d = self.dict\n",
    "        for key, value in enumerate(d.values()):\n",
    "            print(key, \":\", value)"
   ]
  },
  {
   "cell_type": "code",
   "execution_count": 2,
   "metadata": {
    "collapsed": false,
    "jupyter": {
     "outputs_hidden": false
    }
   },
   "outputs": [
    {
     "name": "stdout",
     "output_type": "stream",
     "text": [
      "0 : []\n",
      "1 : []\n",
      "2 : [17, 18, 19, 20]\n",
      "3 : []\n",
      "4 : [1, 2, 3, 4, 5, 6, 7, 8, 9, 10, 11, 12, 13, 14, 15, 16]\n"
     ]
    }
   ],
   "source": [
    "a = amor_dict([1, 2, 3, 4, 5, 6, 7, 8, 9, 10, 11, 12, 13, 14, 15, 16, 17, 18, 19, 20])\n",
    "a.print()"
   ]
  },
  {
   "cell_type": "code",
   "execution_count": 3,
   "metadata": {
    "collapsed": false,
    "jupyter": {
     "outputs_hidden": false
    }
   },
   "outputs": [
    {
     "name": "stdout",
     "output_type": "stream",
     "text": [
      "0 : []\n",
      "1 : []\n",
      "2 : []\n",
      "3 : [17, 18, 19, 20, 21, 22, 23, 24]\n",
      "4 : [1, 2, 3, 4, 5, 6, 7, 8, 9, 10, 11, 12, 13, 14, 15, 16]\n"
     ]
    }
   ],
   "source": [
    "a.insert(21)\n",
    "a.insert(22)\n",
    "a.insert(23)\n",
    "a.insert(24)\n",
    "a.print()"
   ]
  },
  {
   "cell_type": "code",
   "execution_count": 4,
   "metadata": {
    "collapsed": false,
    "jupyter": {
     "outputs_hidden": false
    }
   },
   "outputs": [
    {
     "name": "stdout",
     "output_type": "stream",
     "text": [
      "0 : [55]\n",
      "1 : []\n",
      "2 : []\n",
      "3 : [17, 18, 19, 20, 21, 22, 23, 24]\n",
      "4 : [1, 2, 3, 4, 5, 6, 7, 8, 9, 10, 11, 12, 13, 14, 15, 16]\n"
     ]
    }
   ],
   "source": [
    "a.insert(55)\n",
    "a.print()"
   ]
  },
  {
   "cell_type": "code",
   "execution_count": 5,
   "metadata": {
    "collapsed": false,
    "jupyter": {
     "outputs_hidden": false
    }
   },
   "outputs": [
    {
     "name": "stdout",
     "output_type": "stream",
     "text": [
      "0 : [35]\n",
      "1 : [55, 45]\n",
      "2 : []\n",
      "3 : [17, 18, 19, 20, 21, 22, 23, 24]\n",
      "4 : [1, 2, 3, 4, 5, 6, 7, 8, 9, 10, 11, 12, 13, 14, 15, 16]\n"
     ]
    }
   ],
   "source": [
    "a.insert(45)\n",
    "a.insert(35)\n",
    "a.print()"
   ]
  },
  {
   "cell_type": "code",
   "execution_count": 6,
   "metadata": {
    "collapsed": false,
    "jupyter": {
     "outputs_hidden": false
    }
   },
   "outputs": [
    {
     "name": "stdout",
     "output_type": "stream",
     "text": [
      "0 : [151]\n",
      "1 : [211, 102]\n",
      "2 : [55, 45, 35, 100]\n",
      "3 : [17, 18, 19, 20, 21, 22, 23, 24]\n",
      "4 : [1, 2, 3, 4, 5, 6, 7, 8, 9, 10, 11, 12, 13, 14, 15, 16]\n"
     ]
    }
   ],
   "source": [
    "a.insert(100)\n",
    "a.insert(211)\n",
    "a.insert(102)\n",
    "a.insert(151)\n",
    "a.print()"
   ]
  },
  {
   "cell_type": "code",
   "execution_count": 7,
   "metadata": {
    "collapsed": false,
    "jupyter": {
     "outputs_hidden": false
    }
   },
   "outputs": [
    {
     "name": "stdout",
     "output_type": "stream",
     "text": [
      "level 1\n"
     ]
    }
   ],
   "source": [
    "print(a.search(102))"
   ]
  },
  {
   "cell_type": "code",
   "execution_count": 8,
   "metadata": {
    "collapsed": false,
    "jupyter": {
     "outputs_hidden": false
    }
   },
   "outputs": [
    {
     "name": "stdout",
     "output_type": "stream",
     "text": [
      "0 : []\n",
      "1 : []\n",
      "2 : []\n",
      "3 : []\n",
      "4 : []\n",
      "5 : [1, 2, 3, 4, 5, 6, 7, 8, 9, 10, 11, 12, 13, 14, 15, 16, 17, 18, 19, 20, 21, 22, 23, 24, 55, 45, 35, 100, 211, 102, 151, 101]\n"
     ]
    }
   ],
   "source": [
    "a.insert(101)\n",
    "a.print()"
   ]
  },
  {
   "cell_type": "code",
   "execution_count": 210,
   "metadata": {
    "collapsed": false,
    "jupyter": {
     "outputs_hidden": false
    }
   },
   "outputs": [
    {
     "name": "stdout",
     "output_type": "stream",
     "text": [
      "level 5\n"
     ]
    }
   ],
   "source": [
    "print(a.search(1))"
   ]
  },
  {
   "cell_type": "code",
   "execution_count": 10,
   "metadata": {
    "collapsed": false,
    "jupyter": {
     "outputs_hidden": false
    }
   },
   "outputs": [
    {
     "name": "stdout",
     "output_type": "stream",
     "text": [
      "level -1\n"
     ]
    }
   ],
   "source": [
    "print(a.search(1000))"
   ]
  },
  {
   "cell_type": "code",
   "execution_count": 11,
   "metadata": {
    "collapsed": false,
    "jupyter": {
     "outputs_hidden": false
    }
   },
   "outputs": [],
   "source": [
    "#q5\n",
    "\n",
    "def count_digit_string(n):\n",
    "    if n == 1:\n",
    "        return \"1\"\n",
    "    s = count_digit_string(n-1)\n",
    "    curr = s[0]\n",
    "    count = 1\n",
    "    res = \"\"\n",
    "    for i in s[1:]:\n",
    "        if curr != i:\n",
    "            res += str(count) + curr\n",
    "            count = 1\n",
    "            curr = i\n",
    "        else:\n",
    "            count += 1\n",
    "    res += str(count) + curr\n",
    "    return res"
   ]
  },
  {
   "cell_type": "code",
   "execution_count": 12,
   "metadata": {
    "collapsed": false,
    "jupyter": {
     "outputs_hidden": false
    }
   },
   "outputs": [
    {
     "name": "stdout",
     "output_type": "stream",
     "text": [
      "21\n"
     ]
    }
   ],
   "source": [
    "print(count_digit_string(3))"
   ]
  },
  {
   "cell_type": "code",
   "execution_count": 13,
   "metadata": {
    "collapsed": false,
    "jupyter": {
     "outputs_hidden": false
    }
   },
   "outputs": [
    {
     "name": "stdout",
     "output_type": "stream",
     "text": [
      "1211\n"
     ]
    }
   ],
   "source": [
    "print(count_digit_string(4))"
   ]
  },
  {
   "cell_type": "code",
   "execution_count": 14,
   "metadata": {
    "collapsed": false,
    "jupyter": {
     "outputs_hidden": false
    }
   },
   "outputs": [
    {
     "name": "stdout",
     "output_type": "stream",
     "text": [
      "111221\n"
     ]
    }
   ],
   "source": [
    "print(count_digit_string(5))"
   ]
  },
  {
   "cell_type": "code",
   "execution_count": 15,
   "metadata": {
    "collapsed": false,
    "jupyter": {
     "outputs_hidden": false
    }
   },
   "outputs": [
    {
     "name": "stdout",
     "output_type": "stream",
     "text": [
      "312211\n"
     ]
    }
   ],
   "source": [
    "print(count_digit_string(6))"
   ]
  }
 ],
 "metadata": {
  "kernelspec": {
   "display_name": "Python 3 (ipykernel)",
   "language": "python",
   "name": "python3"
  },
  "language_info": {
   "codemirror_mode": {
    "name": "ipython",
    "version": 3
   },
   "file_extension": ".py",
   "mimetype": "text/x-python",
   "name": "python",
   "nbconvert_exporter": "python",
   "pygments_lexer": "ipython3",
   "version": "3.10.7"
  }
 },
 "nbformat": 4,
 "nbformat_minor": 4
}
