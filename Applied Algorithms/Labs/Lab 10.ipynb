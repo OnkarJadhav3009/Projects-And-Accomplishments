{
 "cells": [
  {
   "cell_type": "code",
   "execution_count": 6,
   "metadata": {
    "collapsed": true
   },
   "outputs": [
    {
     "name": "stdout",
     "output_type": "stream",
     "text": [
      "[]\n"
     ]
    }
   ],
   "source": [
    "def BFS(a):\n",
    "    fringe = []\n",
    "    visited = []\n",
    "    fringe.append(0)\n",
    "    visited.append(0)\n",
    "    while fringe:\n",
    "        curr = fringe.pop(0)\n",
    "        for i in range(len(a[curr])) :\n",
    "            if a[curr][i] == 1:\n",
    "                if i not in visited :\n",
    "                    fringe.append(i)\n",
    "                    visited.append(i)\n",
    "\n",
    "    return visited\n",
    "\n",
    "\n",
    "print(BFS([[0, 1, 1, 1, 0],[1, 0, 0, 0, 0],[1, 0, 0, 0, 1],[1, 0, 0, 0, 0],[0, 0, 1, 0, 0]]))"
   ]
  },
  {
   "cell_type": "code",
   "execution_count": null,
   "outputs": [],
   "source": [],
   "metadata": {
    "collapsed": false
   }
  }
 ],
 "metadata": {
  "kernelspec": {
   "display_name": "Python 3",
   "language": "python",
   "name": "python3"
  },
  "language_info": {
   "codemirror_mode": {
    "name": "ipython",
    "version": 2
   },
   "file_extension": ".py",
   "mimetype": "text/x-python",
   "name": "python",
   "nbconvert_exporter": "python",
   "pygments_lexer": "ipython2",
   "version": "2.7.6"
  }
 },
 "nbformat": 4,
 "nbformat_minor": 0
}
