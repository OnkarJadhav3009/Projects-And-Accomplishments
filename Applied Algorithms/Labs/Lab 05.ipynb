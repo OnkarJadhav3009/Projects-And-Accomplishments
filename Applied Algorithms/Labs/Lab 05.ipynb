{
 "cells": [
  {
   "cell_type": "code",
   "execution_count": 1,
   "metadata": {
    "tags": []
   },
   "outputs": [],
   "source": [
    "class Node:\n",
    "    def __init__(self, val):\n",
    "        self.val = val\n",
    "        self.right = None\n",
    "        self.left = None\n",
    "        self.root = self\n",
    "\n",
    "    def insert(self, val = None):\n",
    "        new_node = Node(val)\n",
    "        right_flag, left_flag, invalid_flag = False, False, False\n",
    "        invalid_num = 0\n",
    "        temp = self.root\n",
    "        next = self.root\n",
    "        if val > temp.val:\n",
    "            next = next.right\n",
    "            right_flag = True\n",
    "        elif val < temp.val:\n",
    "            next = next.left\n",
    "            left_flag = True\n",
    "        else:\n",
    "            invalid_num = val\n",
    "            invalid_flag = True\n",
    "\n",
    "        while next is not None:\n",
    "            if val > next.val:\n",
    "                temp = next\n",
    "                next = next.right\n",
    "                right_flag = True\n",
    "                left_flag = False\n",
    "            elif val < next.val:\n",
    "                temp = next\n",
    "                next = next.left\n",
    "                left_flag = True\n",
    "                right_flag = False\n",
    "            else:\n",
    "                invalid_num = val\n",
    "                invalid_flag = True\n",
    "                break\n",
    "\n",
    "        if invalid_flag:\n",
    "            print(invalid_num, \" is INVALID\")\n",
    "\n",
    "        if right_flag:\n",
    "            temp.right = new_node\n",
    "        elif left_flag:\n",
    "            temp.left = new_node\n",
    "\n",
    "    def inorder_traversal(self):\n",
    "        temp = self.root\n",
    "        stack = []\n",
    "        while True:\n",
    "            if temp is not None:\n",
    "                stack.append(temp)\n",
    "                temp = temp.left\n",
    "            elif stack:\n",
    "                temp = stack.pop()\n",
    "                print(temp.val, end=\" \")\n",
    "                temp = temp.right\n",
    "            else:\n",
    "                break\n",
    "\n",
    "    def print(self):\n",
    "        self.inorder_traversal()"
   ]
  },
  {
   "cell_type": "code",
   "execution_count": 3,
   "metadata": {
    "collapsed": false,
    "jupyter": {
     "outputs_hidden": false
    }
   },
   "outputs": [
    {
     "name": "stdout",
     "output_type": "stream",
     "text": [
      "4 6 7 9 10 11 12 "
     ]
    }
   ],
   "source": [
    "tree = Node(9)\n",
    "tree.insert(6)\n",
    "tree.insert(4)\n",
    "tree.insert(10)\n",
    "tree.insert(12)\n",
    "tree.insert(11)\n",
    "tree.insert(7)\n",
    "# tree.insert()\n",
    "tree.print()"
   ]
  },
  {
   "cell_type": "code",
   "execution_count": null,
   "metadata": {
    "collapsed": false,
    "jupyter": {
     "outputs_hidden": false
    }
   },
   "outputs": [],
   "source": []
  }
 ],
 "metadata": {
  "kernelspec": {
   "display_name": "Python 3 (ipykernel)",
   "language": "python",
   "name": "python3"
  },
  "language_info": {
   "codemirror_mode": {
    "name": "ipython",
    "version": 3
   },
   "file_extension": ".py",
   "mimetype": "text/x-python",
   "name": "python",
   "nbconvert_exporter": "python",
   "pygments_lexer": "ipython3",
   "version": "3.10.8"
  }
 },
 "nbformat": 4,
 "nbformat_minor": 4
}
