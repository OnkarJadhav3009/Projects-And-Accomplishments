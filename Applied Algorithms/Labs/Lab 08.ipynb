{
 "cells": [
  {
   "cell_type": "code",
   "execution_count": 6,
   "outputs": [
    {
     "name": "stdout",
     "output_type": "stream",
     "text": [
      "[(1, 'Database Design'), (2, 'Data Science'), (3, 'Data Analysis'), (4, 'Applied Algorithms')]\n",
      "Applied Algorithms\n",
      "Data Analysis\n"
     ]
    }
   ],
   "source": [
    "class PriorityQueue:\n",
    "\n",
    "    def __init__(self, q=None):\n",
    "        self.pq = []\n",
    "\n",
    "        if q:\n",
    "            for i in q:\n",
    "                self.insert(i)\n",
    "\n",
    "    def insert(self, element):\n",
    "        if element[0] > len(self.pq):\n",
    "            self.pq.append(element)\n",
    "            return self.pq\n",
    "        else:\n",
    "            counter = 0\n",
    "            while self.pq[counter][0] < element[0] and counter < len(self.pq):\n",
    "                counter += 1\n",
    "            self.pq = self.pq[:counter] + [element] + self.pq[counter:]\n",
    "\n",
    "    def get_max(self):\n",
    "        return self.pq.pop()\n",
    "\n",
    "    def print(self):\n",
    "        print(self.pq)\n",
    "\n",
    "\n",
    "pq = PriorityQueue()\n",
    "pq.insert((4, 'Applied Algorithms'))\n",
    "pq.insert((1, \"Database Design\"))\n",
    "pq.insert((2, \"Data Science\"))\n",
    "pq.insert((3, \"Data Analysis\"))\n",
    "\n",
    "pq.print()\n",
    "\n",
    "k, v = pq.get_max()\n",
    "print(v)\n",
    "\n",
    "k, v = pq.get_max()\n",
    "print(v)\n"
   ],
   "metadata": {
    "collapsed": false
   }
  },
  {
   "cell_type": "code",
   "execution_count": null,
   "outputs": [],
   "source": [],
   "metadata": {
    "collapsed": false
   }
  }
 ],
 "metadata": {
  "kernelspec": {
   "display_name": "Python 3",
   "language": "python",
   "name": "python3"
  },
  "language_info": {
   "codemirror_mode": {
    "name": "ipython",
    "version": 2
   },
   "file_extension": ".py",
   "mimetype": "text/x-python",
   "name": "python",
   "nbconvert_exporter": "python",
   "pygments_lexer": "ipython2",
   "version": "2.7.6"
  }
 },
 "nbformat": 4,
 "nbformat_minor": 0
}
