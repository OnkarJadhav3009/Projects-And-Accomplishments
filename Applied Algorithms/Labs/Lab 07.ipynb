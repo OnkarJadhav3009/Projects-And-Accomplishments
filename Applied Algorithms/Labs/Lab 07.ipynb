{
 "cells": [
  {
   "cell_type": "code",
   "execution_count": 24,
   "metadata": {
    "collapsed": true
   },
   "outputs": [],
   "source": [
    "# from pprint import pprint\n",
    "\n",
    "def edit_distance(string1, string2):\n",
    "    n1 = len(string1) + 1\n",
    "    n2 = len(string2) + 1\n",
    "    mat = []\n",
    "\n",
    "    for i in range(n1):\n",
    "        mat.append([0] * n2)\n",
    "\n",
    "    for i in range(n1):\n",
    "        mat[i][0] = i\n",
    "    for i in range(n2):\n",
    "        mat[0][i] = i\n",
    "    for i in range(1, n1):\n",
    "        for j in range(1, n2):\n",
    "            if string1[i - 1] == string2[j - 1]:\n",
    "                mat[i][j] = mat[i - 1][j - 1]\n",
    "            else:\n",
    "                mat[i][j] = min(mat[i - 1][j - 1], mat[i][j - 1], mat[i - 1][j]) + 1\n",
    "            # print(\"--------------------------------------------------------------\")\n",
    "            # print(string1[i - 1], string2[j - 1])\n",
    "            # print(i, j)\n",
    "            # pprint(mat)\n",
    "\n",
    "    return mat[n1 - 1][n2 - 1]"
   ]
  },
  {
   "cell_type": "code",
   "execution_count": 27,
   "outputs": [
    {
     "name": "stdout",
     "output_type": "stream",
     "text": [
      "4\n"
     ]
    }
   ],
   "source": [
    "print( edit_distance(\"dussehra\", \"dsusehar\"))"
   ],
   "metadata": {
    "collapsed": false
   }
  },
  {
   "cell_type": "code",
   "execution_count": null,
   "outputs": [],
   "source": [],
   "metadata": {
    "collapsed": false
   }
  }
 ],
 "metadata": {
  "kernelspec": {
   "display_name": "Python 3",
   "language": "python",
   "name": "python3"
  },
  "language_info": {
   "codemirror_mode": {
    "name": "ipython",
    "version": 2
   },
   "file_extension": ".py",
   "mimetype": "text/x-python",
   "name": "python",
   "nbconvert_exporter": "python",
   "pygments_lexer": "ipython2",
   "version": "2.7.6"
  }
 },
 "nbformat": 4,
 "nbformat_minor": 0
}
