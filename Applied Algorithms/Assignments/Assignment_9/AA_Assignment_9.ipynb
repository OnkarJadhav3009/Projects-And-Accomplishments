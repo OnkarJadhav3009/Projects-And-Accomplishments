{
 "cells": [
  {
   "cell_type": "code",
   "execution_count": 1,
   "metadata": {
    "tags": []
   },
   "outputs": [],
   "source": [
    "# q1\n",
    "def can_color(adj_mat):\n",
    "    col_map = {}\n",
    "    for i in range(len(adj_mat)):\n",
    "        col_map[i] = 0\n",
    "\n",
    "    def isValid(i, c):\n",
    "        for j in range(len(adj_mat)):\n",
    "            if adj_mat[j][i] == 1 and col_map[j] == c:\n",
    "                return False\n",
    "        return True\n",
    "\n",
    "    def graph_color(i):\n",
    "        for c in range(1, 3):\n",
    "            if isValid(i, c):\n",
    "                col_map[i] = c\n",
    "                if i + 1 < len(adj_mat):\n",
    "                    graph_color(i + 1)\n",
    "                else:\n",
    "                    return\n",
    "\n",
    "    graph_color(0)\n",
    "    return 0 not in col_map.values()"
   ]
  },
  {
   "cell_type": "code",
   "execution_count": 2,
   "metadata": {
    "collapsed": false,
    "jupyter": {
     "outputs_hidden": false
    }
   },
   "outputs": [
    {
     "name": "stdout",
     "output_type": "stream",
     "text": [
      "True\n"
     ]
    }
   ],
   "source": [
    "print(can_color([[0, 1, 1, 0], [1, 0, 0, 1], [1, 0, 0, 1],[0, 1, 1, 0]]))"
   ]
  },
  {
   "cell_type": "code",
   "execution_count": 3,
   "metadata": {
    "collapsed": false,
    "jupyter": {
     "outputs_hidden": false
    }
   },
   "outputs": [
    {
     "name": "stdout",
     "output_type": "stream",
     "text": [
      "False\n"
     ]
    }
   ],
   "source": [
    "print(can_color([[0, 1, 1, 1], [1, 0, 0, 1], [1, 0, 0, 1],[1, 1, 1, 0]]))"
   ]
  },
  {
   "cell_type": "code",
   "execution_count": 4,
   "metadata": {
    "collapsed": false,
    "jupyter": {
     "outputs_hidden": false
    }
   },
   "outputs": [],
   "source": [
    "# q2\n",
    "def all_routes_to_dest(n: int, connections, begin: int, end: int) -> bool:\n",
    "    source_destination_map = {}\n",
    "    for src, dst in connections:\n",
    "        if src not in source_destination_map:\n",
    "            source_destination_map[src] = [dst]\n",
    "        else:\n",
    "            source_destination_map[src] += [dst]\n",
    "\n",
    "    visited = set()\n",
    "    visited_loop = set()\n",
    "\n",
    "    def dfs(node):\n",
    "        if node in visited_loop:\n",
    "            return False\n",
    "        if node not in source_destination_map:\n",
    "            return node == end\n",
    "        if node in visited:\n",
    "            return True\n",
    "\n",
    "        visited_loop.add(node)\n",
    "        for node_ in source_destination_map[node]:\n",
    "            if not dfs(node_):\n",
    "                return False\n",
    "        visited_loop.remove(node)\n",
    "\n",
    "        visited.add(node)\n",
    "        return True\n",
    "\n",
    "    return dfs(begin)"
   ]
  },
  {
   "cell_type": "code",
   "execution_count": 5,
   "metadata": {
    "collapsed": false,
    "jupyter": {
     "outputs_hidden": false
    }
   },
   "outputs": [
    {
     "name": "stdout",
     "output_type": "stream",
     "text": [
      "False\n"
     ]
    }
   ],
   "source": [
    "print(all_routes_to_dest(n = 3, connections = [[0,1],[0,2]], begin = 0, end = 2))"
   ]
  },
  {
   "cell_type": "code",
   "execution_count": 6,
   "metadata": {
    "collapsed": false,
    "jupyter": {
     "outputs_hidden": false
    }
   },
   "outputs": [
    {
     "name": "stdout",
     "output_type": "stream",
     "text": [
      "False\n"
     ]
    }
   ],
   "source": [
    "print(all_routes_to_dest(n = 4, connections = [[0,1],[0,3],[1,2],[2,1]], begin = 0, end = 3))"
   ]
  },
  {
   "cell_type": "code",
   "execution_count": 7,
   "metadata": {
    "collapsed": false,
    "jupyter": {
     "outputs_hidden": false
    }
   },
   "outputs": [
    {
     "name": "stdout",
     "output_type": "stream",
     "text": [
      "True\n"
     ]
    }
   ],
   "source": [
    "print(all_routes_to_dest(n = 4, connections = [[0,1],[0,2],[1,3],[2,3]], begin = 0, end = 3))"
   ]
  },
  {
   "cell_type": "code",
   "execution_count": 8,
   "metadata": {
    "collapsed": false,
    "jupyter": {
     "outputs_hidden": false
    }
   },
   "outputs": [],
   "source": [
    "# q3\n",
    "def checkCycle(arr):\n",
    "    def index(i_):\n",
    "        return i_ % len(arr)\n",
    "\n",
    "    i = index(0)\n",
    "    visited = set()\n",
    "    while True:\n",
    "        prev = i\n",
    "        if arr[i] < 0:\n",
    "            i += arr[i]\n",
    "        elif arr[i] > 0:\n",
    "            i += arr[i]\n",
    "        elif arr[i] == 0:\n",
    "            break\n",
    "\n",
    "        if index(prev) == index(i):\n",
    "            i = index(prev) + 1\n",
    "        else:\n",
    "            i = index(i)\n",
    "\n",
    "        # print(i, index(i))\n",
    "        if len(visited) > 1:\n",
    "            if i in visited:\n",
    "                return True\n",
    "        visited.add(i)\n",
    "        if len(visited) == len(arr):\n",
    "            break\n",
    "\n",
    "    return False"
   ]
  },
  {
   "cell_type": "code",
   "execution_count": 9,
   "metadata": {
    "collapsed": false,
    "jupyter": {
     "outputs_hidden": false
    }
   },
   "outputs": [
    {
     "name": "stdout",
     "output_type": "stream",
     "text": [
      "False\n"
     ]
    }
   ],
   "source": [
    "print(checkCycle([0, 1, 2, 3]))"
   ]
  },
  {
   "cell_type": "code",
   "execution_count": 10,
   "metadata": {
    "collapsed": false,
    "jupyter": {
     "outputs_hidden": false
    }
   },
   "outputs": [
    {
     "name": "stdout",
     "output_type": "stream",
     "text": [
      "False\n"
     ]
    }
   ],
   "source": [
    "print(checkCycle([4,1,1,1]))"
   ]
  },
  {
   "cell_type": "code",
   "execution_count": 11,
   "metadata": {
    "collapsed": false,
    "jupyter": {
     "outputs_hidden": false
    }
   },
   "outputs": [
    {
     "name": "stdout",
     "output_type": "stream",
     "text": [
      "True\n"
     ]
    }
   ],
   "source": [
    "print(checkCycle([1, -1, 2, -2]))"
   ]
  },
  {
   "cell_type": "code",
   "execution_count": 12,
   "metadata": {
    "collapsed": false,
    "jupyter": {
     "outputs_hidden": false
    }
   },
   "outputs": [
    {
     "name": "stdout",
     "output_type": "stream",
     "text": [
      "False\n"
     ]
    }
   ],
   "source": [
    "print(checkCycle([1]))"
   ]
  },
  {
   "cell_type": "code",
   "execution_count": 13,
   "metadata": {
    "collapsed": false,
    "jupyter": {
     "outputs_hidden": false
    }
   },
   "outputs": [
    {
     "name": "stdout",
     "output_type": "stream",
     "text": [
      "True\n"
     ]
    }
   ],
   "source": [
    "print(checkCycle([1, -4, 2, -1, -3]))"
   ]
  },
  {
   "cell_type": "code",
   "execution_count": 14,
   "metadata": {
    "collapsed": false,
    "jupyter": {
     "outputs_hidden": false
    }
   },
   "outputs": [],
   "source": [
    "# q4\n",
    "import heapq\n",
    "\n",
    "\n",
    "def get_min_cost(n, costs):\n",
    "    d = {}\n",
    "\n",
    "    for src, dst, cost in costs:\n",
    "        if src not in d:\n",
    "            d[src] = [[cost, dst]]\n",
    "        else:\n",
    "            d[src] += [[cost, dst]]\n",
    "        if dst not in d:\n",
    "            d[dst] = [[cost, src]]\n",
    "        else:\n",
    "            d[dst] += [[cost, src]]\n",
    "\n",
    "    minCost = 0\n",
    "    adj = [[0, n]]\n",
    "    visited = set()\n",
    "\n",
    "    while adj:\n",
    "        cost, destination = heapq.heappop(adj)\n",
    "        if destination not in visited:\n",
    "            visited.add(destination)\n",
    "            minCost = minCost + cost\n",
    "\n",
    "        if len(visited) == n:\n",
    "            return minCost\n",
    "\n",
    "        while d[destination]:\n",
    "            heapq.heappush(adj, d[destination].pop())\n",
    "\n",
    "    return -1"
   ]
  },
  {
   "cell_type": "code",
   "execution_count": 15,
   "metadata": {
    "collapsed": false,
    "jupyter": {
     "outputs_hidden": false
    }
   },
   "outputs": [
    {
     "name": "stdout",
     "output_type": "stream",
     "text": [
      "11\n"
     ]
    }
   ],
   "source": [
    "print(get_min_cost(n=3, costs=[[1, 2, 4], [1, 3, 9], [2, 3, 7]]))"
   ]
  },
  {
   "cell_type": "code",
   "execution_count": 16,
   "metadata": {
    "collapsed": false,
    "jupyter": {
     "outputs_hidden": false
    }
   },
   "outputs": [
    {
     "name": "stdout",
     "output_type": "stream",
     "text": [
      "-1\n"
     ]
    }
   ],
   "source": [
    "print(get_min_cost(n=4, costs=[[1, 2, 3], [3, 4, 4]]))"
   ]
  },
  {
   "cell_type": "code",
   "execution_count": 17,
   "metadata": {
    "collapsed": false,
    "jupyter": {
     "outputs_hidden": false
    }
   },
   "outputs": [
    {
     "name": "stdout",
     "output_type": "stream",
     "text": [
      "10\n"
     ]
    }
   ],
   "source": [
    "print(get_min_cost(n=4, costs=[[1, 2, 4], [1, 3, 5], [4, 3, 1]]))"
   ]
  }
 ],
 "metadata": {
  "kernelspec": {
   "display_name": "Python 3 (ipykernel)",
   "language": "python",
   "name": "python3"
  },
  "language_info": {
   "codemirror_mode": {
    "name": "ipython",
    "version": 3
   },
   "file_extension": ".py",
   "mimetype": "text/x-python",
   "name": "python",
   "nbconvert_exporter": "python",
   "pygments_lexer": "ipython3",
   "version": "3.10.8"
  }
 },
 "nbformat": 4,
 "nbformat_minor": 4
}
