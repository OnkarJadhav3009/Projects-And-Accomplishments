{
 "cells": [
  {
   "cell_type": "code",
   "execution_count": 1,
   "metadata": {
    "tags": []
   },
   "outputs": [],
   "source": [
    "#q1\n",
    "import heapq\n",
    "\n",
    "\n",
    "def max_employees(clock_in, clock_out):\n",
    "    temp = []\n",
    "    for i, j in zip(clock_in, clock_out):\n",
    "        temp.append([i, 1])\n",
    "        temp.append([j, 2])\n",
    "\n",
    "    clockInOut = []\n",
    "    while temp:\n",
    "        heapq.heapify(temp)\n",
    "        clockInOut.append(temp.pop(0))\n",
    "\n",
    "    res = []\n",
    "    mx = 0\n",
    "    c = 0\n",
    "    for i in clockInOut:\n",
    "        if i[1] == 2:\n",
    "            i[1] = -1\n",
    "        c += i[1]\n",
    "        if c > mx:\n",
    "            mx = c\n",
    "            res = [i[0]]\n",
    "        elif c == mx:\n",
    "            res.append(i[0])\n",
    "\n",
    "    return mx, len(res)"
   ]
  },
  {
   "cell_type": "code",
   "execution_count": 2,
   "metadata": {
    "collapsed": false,
    "jupyter": {
     "outputs_hidden": false
    }
   },
   "outputs": [
    {
     "name": "stdout",
     "output_type": "stream",
     "text": [
      "(3, 5)\n"
     ]
    }
   ],
   "source": [
    "print(max_employees([2, 2, 3, 5, 6, 7, 10], [4, 5, 7, 10, 6, 10, 11]))"
   ]
  },
  {
   "cell_type": "code",
   "execution_count": 3,
   "metadata": {
    "collapsed": false,
    "jupyter": {
     "outputs_hidden": false
    }
   },
   "outputs": [
    {
     "name": "stdout",
     "output_type": "stream",
     "text": [
      "(3, 2)\n"
     ]
    }
   ],
   "source": [
    "print(max_employees([1, 2, 4, 7, 8, 12], [3, 7, 8, 12, 10, 15 ]))"
   ]
  },
  {
   "cell_type": "code",
   "execution_count": 4,
   "metadata": {
    "collapsed": false,
    "jupyter": {
     "outputs_hidden": false
    }
   },
   "outputs": [],
   "source": [
    "#q2\n",
    "\n",
    "def find_largest_integer(num):\n",
    "    nums = [int(i) for i in str(num)]\n",
    "    index = -1\n",
    "    n = -1\n",
    "    for i in range(len(nums) - 1)[::-1]:\n",
    "        if nums[i] > nums[i + 1]:\n",
    "            index = i\n",
    "            break\n",
    "\n",
    "    for i in range(len(nums) - 1, index, -1):\n",
    "        if nums[i] < nums[index]:\n",
    "            if n == -1 or nums[i] > nums[n]:\n",
    "                n = i\n",
    "\n",
    "    if index == -1:\n",
    "        return -1\n",
    "    else:\n",
    "        nums[index], nums[n] = nums[n], nums[index]\n",
    "        return int(\"\".join([str(i) for i in nums]))"
   ]
  },
  {
   "cell_type": "code",
   "execution_count": 5,
   "metadata": {
    "collapsed": false,
    "jupyter": {
     "outputs_hidden": false
    }
   },
   "outputs": [
    {
     "name": "stdout",
     "output_type": "stream",
     "text": [
      "14324235\n"
     ]
    }
   ],
   "source": [
    "print(find_largest_integer(14325234))"
   ]
  },
  {
   "cell_type": "code",
   "execution_count": 6,
   "metadata": {
    "collapsed": false,
    "jupyter": {
     "outputs_hidden": false
    }
   },
   "outputs": [
    {
     "name": "stdout",
     "output_type": "stream",
     "text": [
      "16258\n"
     ]
    }
   ],
   "source": [
    "print(find_largest_integer(18256))"
   ]
  },
  {
   "cell_type": "code",
   "execution_count": 7,
   "metadata": {
    "collapsed": false,
    "jupyter": {
     "outputs_hidden": false
    }
   },
   "outputs": [
    {
     "name": "stdout",
     "output_type": "stream",
     "text": [
      "12\n"
     ]
    }
   ],
   "source": [
    "print(find_largest_integer(21))"
   ]
  },
  {
   "cell_type": "code",
   "execution_count": 8,
   "metadata": {
    "collapsed": false,
    "jupyter": {
     "outputs_hidden": false
    }
   },
   "outputs": [
    {
     "name": "stdout",
     "output_type": "stream",
     "text": [
      "-1\n"
     ]
    }
   ],
   "source": [
    "print(find_largest_integer(12))"
   ]
  },
  {
   "cell_type": "code",
   "execution_count": 9,
   "metadata": {
    "collapsed": false,
    "jupyter": {
     "outputs_hidden": false
    }
   },
   "outputs": [],
   "source": [
    "#q3\n",
    "def getPivotIndex(num, l, h):\n",
    "    i = l - 1\n",
    "    p = num[h]\n",
    "    for j in range(l, h):\n",
    "        if num[j] <= p:\n",
    "            i += 1\n",
    "            num[i], num[j] = num[j], num[i]\n",
    "    num[i + 1], num[h] = num[h], num[i + 1]\n",
    "    return i + 1\n",
    "\n",
    "\n",
    "def quicksort(a, l=0, h=None):\n",
    "    if h is None:\n",
    "        h = len(a) - 1\n",
    "    if l < h:\n",
    "        pivot_index = getPivotIndex(a, l, h)\n",
    "        quicksort(a, l, (pivot_index - 1))\n",
    "        quicksort(a, (pivot_index + 1), h)"
   ]
  },
  {
   "cell_type": "code",
   "execution_count": 10,
   "metadata": {
    "collapsed": false,
    "jupyter": {
     "outputs_hidden": false
    }
   },
   "outputs": [
    {
     "name": "stdout",
     "output_type": "stream",
     "text": [
      "[7, 7, 1, 3, 2]\n",
      "[1, 2, 3, 7, 7]\n"
     ]
    }
   ],
   "source": [
    "a = [7, 7, 1, 3, 2]\n",
    "print(a)\n",
    "quicksort(a)\n",
    "print(a)"
   ]
  },
  {
   "cell_type": "code",
   "execution_count": 11,
   "metadata": {
    "collapsed": false,
    "jupyter": {
     "outputs_hidden": false
    }
   },
   "outputs": [
    {
     "name": "stdout",
     "output_type": "stream",
     "text": [
      "[5, 4, 7, 2, 8, 1]\n",
      "[1, 2, 4, 5, 7, 8]\n"
     ]
    }
   ],
   "source": [
    "a = [5,4,7,2,8,1]\n",
    "print(a)\n",
    "quicksort(a)\n",
    "print(a)"
   ]
  },
  {
   "cell_type": "code",
   "execution_count": 12,
   "metadata": {
    "collapsed": false,
    "jupyter": {
     "outputs_hidden": false
    }
   },
   "outputs": [],
   "source": [
    "#q4\n",
    "class Node:\n",
    "\n",
    "    def __init__(self, element_list=None, type_list=None, rank_list=None, left=None, right=None):\n",
    "        self.element_list = element_list\n",
    "        self.type_list = type_list\n",
    "        self.rank_list = rank_list\n",
    "        self.left = left\n",
    "        self.right = right\n",
    "\n",
    "\n",
    "def calc_type(A):\n",
    "    if len(A) <= 1:\n",
    "        return []\n",
    "    m = (min(A) + max(A)) / 2\n",
    "    return [0 if i <= m else 1 for i in A]\n",
    "\n",
    "\n",
    "def calc_rank(e):\n",
    "    if e is None:\n",
    "        return []\n",
    "    prefix_sums = []\n",
    "    c = 0\n",
    "    for i in e:\n",
    "        if i == 1:\n",
    "            c += 1\n",
    "        prefix_sums.append(c)\n",
    "    return prefix_sums\n",
    "\n",
    "\n",
    "def insert(n, A, t, r):\n",
    "    if n is None:\n",
    "        return\n",
    "    if len(A) == 1:\n",
    "        return\n",
    "    l_A = [A[i] for i in range(len(A)) if t[i] == 0]\n",
    "    r_A = [A[i] for i in range(len(A)) if t[i] == 1]\n",
    "    l_t = calc_type(l_A)\n",
    "    r_t = calc_type(r_A)\n",
    "    l_r = calc_rank(l_t)\n",
    "    r_r = calc_rank(r_t)\n",
    "    if l_t is None:\n",
    "        n.left = None\n",
    "    else:\n",
    "        n.left = Node(l_A, l_t, l_r)\n",
    "    if r_t is None:\n",
    "        n.right = None\n",
    "    else:\n",
    "        n.right = Node(r_A, r_t, r_r)\n",
    "    insert(n.left, l_A, l_t, l_r)\n",
    "    insert(n.right, r_A, r_t, r_r)\n",
    "\n",
    "\n",
    "def levelOrder(root):\n",
    "    d = {}\n",
    "    Q = [root]\n",
    "    i = 0\n",
    "    level = 0\n",
    "    while Q:\n",
    "        num_of_elements = 2 ** level\n",
    "        if i < num_of_elements:\n",
    "            node = Q.pop(0)\n",
    "            if node is None:\n",
    "                continue\n",
    "            if not node.type_list:\n",
    "                x = \"X\"\n",
    "            else:\n",
    "                x = node.type_list\n",
    "            if level not in d:\n",
    "                d[level] = [x]\n",
    "            else:\n",
    "                d[level] += [x]\n",
    "            i += 1\n",
    "            Q.append(node.left)\n",
    "            Q.append(node.right)\n",
    "        else:\n",
    "            level += 1\n",
    "            i = 0\n",
    "    return d\n",
    "\n",
    "\n",
    "class WaveletTree:\n",
    "\n",
    "    def __init__(self, A):\n",
    "        self.A = A\n",
    "        type_list = calc_type(self.A)\n",
    "        rank_list = calc_rank(type_list)\n",
    "\n",
    "        self.root = Node(self.A, type_list, rank_list)\n",
    "\n",
    "        insert(self.root, self.A, type_list, rank_list)\n",
    "\n",
    "    def print(self):\n",
    "        w_tree = levelOrder(self.root)\n",
    "        for k, v in w_tree.items():\n",
    "            print(\"Level\", k, \":\", v)\n",
    "\n",
    "    def RQQ(self, k, l, r):\n",
    "        node = self.root\n",
    "\n",
    "        l = l - 1\n",
    "        r = r - 1\n",
    "        while True:\n",
    "            print(k, l + 1, r + 1, node.element_list, node.element_list[l:r + 1])\n",
    "            if k == 1:\n",
    "                break\n",
    "            x = 0\n",
    "            if l == 0:\n",
    "                x = 0\n",
    "            else:\n",
    "                x = node.rank_list[l - 1]\n",
    "\n",
    "            if r == 0:\n",
    "                y = 0\n",
    "            else:\n",
    "                y = node.rank_list[r]\n",
    "\n",
    "            cb = y - x\n",
    "            cs = len(node.element_list[l:r + 1]) - cb\n",
    "            m = (max(node.element_list) + min(node.element_list)) / 2\n",
    "\n",
    "            if cs >= k:\n",
    "                if l != 0:\n",
    "                    l = node.type_list[:l].count(0)\n",
    "\n",
    "                r_ = 0\n",
    "                if r != len(node.element_list) - 1:\n",
    "                    r_ = node.type_list[r + 1:].count(0)\n",
    "                node = node.left\n",
    "                r = len(node.element_list) - 1 - r_\n",
    "\n",
    "            else:\n",
    "                k -= cs\n",
    "                if l != 0:\n",
    "                    l = node.type_list[:l].count(1)\n",
    "\n",
    "                r_ = 0\n",
    "                if r != len(node.element_list) - 1:\n",
    "                    r_ = node.type_list[r + 1:].count(1)\n",
    "                node = node.right\n",
    "                r = len(node.element_list) - 1 - r_\n",
    "\n",
    "        return node.element_list[0]"
   ]
  },
  {
   "cell_type": "code",
   "execution_count": 13,
   "metadata": {
    "collapsed": false,
    "jupyter": {
     "outputs_hidden": false
    }
   },
   "outputs": [
    {
     "name": "stdout",
     "output_type": "stream",
     "text": [
      "Level 0 : [[1, 0, 0, 1, 1, 0, 0, 1, 1, 0]]\n",
      "Level 1 : [[0, 0, 1, 0, 1], [0, 0, 1, 1, 0]]\n",
      "Level 2 : [[1, 0, 0], [0, 1], [0, 1, 0], [1, 0]]\n",
      "Level 3 : [[0, 1], 'X', 'X', 'X', [1, 0], 'X', 'X', 'X']\n",
      "Level 4 : ['X', 'X', 'X', 'X']\n",
      "\n",
      "5 3 9 [6, 2, 0, 7, 9, 3, 1, 8, 5, 4] [0, 7, 9, 3, 1, 8, 5]\n",
      "2 2 5 [6, 7, 9, 8, 5] [7, 9, 8, 5]\n",
      "2 2 3 [6, 7, 5] [7, 5]\n",
      "1 1 1 [7] [7]\n",
      "7\n"
     ]
    }
   ],
   "source": [
    "wv_tree = WaveletTree([6, 2, 0, 7, 9, 3, 1, 8, 5, 4])\n",
    "wv_tree.print()\n",
    "print()\n",
    "print(wv_tree.RQQ(5, 3, 9))"
   ]
  },
  {
   "cell_type": "code",
   "execution_count": 14,
   "metadata": {
    "collapsed": false,
    "jupyter": {
     "outputs_hidden": false
    }
   },
   "outputs": [
    {
     "name": "stdout",
     "output_type": "stream",
     "text": [
      "Level 0 : [[1, 0, 0, 1, 1, 0, 0, 1, 1, 0]]\n",
      "Level 1 : [[0, 0, 1, 0, 1], [0, 0, 1, 1, 0]]\n",
      "Level 2 : [[1, 0, 0], [0, 1], [0, 1, 0], [1, 0]]\n",
      "Level 3 : [[0, 1], 'X', 'X', 'X', [1, 0], 'X', 'X', 'X']\n",
      "Level 4 : ['X', 'X', 'X', 'X']\n",
      "\n",
      "5 3 9 [6, 2, 0, 7, 9, 3, 1, 8, 5, 4] [0, 7, 9, 3, 1, 8, 5]\n",
      "2 2 5 [6, 7, 9, 8, 5] [7, 9, 8, 5]\n",
      "2 2 3 [6, 7, 5] [7, 5]\n",
      "1 1 1 [7] [7]\n",
      "7\n"
     ]
    }
   ],
   "source": [
    "wv_tree = WaveletTree([6, 2, 0, 7, 9, 3, 1, 8, 5, 4])\n",
    "wv_tree.print()\n",
    "print()\n",
    "print(wv_tree.RQQ(5, 3, 9))"
   ]
  },
  {
   "cell_type": "code",
   "execution_count": 15,
   "metadata": {
    "collapsed": false,
    "jupyter": {
     "outputs_hidden": false
    }
   },
   "outputs": [],
   "source": [
    "#q5\n",
    "def solve(s1, s2, s3):\n",
    "    mx = float('-inf')\n",
    "    for i in range(1, (min(len(s1), len(s2))) + 1):\n",
    "        if s1[len(s1) - i:] == s2[0:i]:\n",
    "            if mx < i:\n",
    "                mx = i\n",
    "                s3 = s1 + s2[i:]\n",
    "\n",
    "    for i in range(1, (min(len(s1), len(s2)))):\n",
    "        if s1[0:i] == s2[(len(s2) - i):]:\n",
    "            if mx < i:\n",
    "                mx = i\n",
    "                s3 = s2 + s1[i:]\n",
    "\n",
    "    return mx, s3\n",
    "\n",
    "\n",
    "# The time complexity of this algo is (On^3). This is optimal solution assuming that the shortest possible\n",
    "# superstring. It will not provide the correct output for all the cases\n",
    "def shortest_superstring(A):\n",
    "    n = len(A)\n",
    "    l = r = 0\n",
    "    while n != 1:\n",
    "        mx = float('-inf')\n",
    "        ans = \"\"\n",
    "        for i in range(0, n):\n",
    "            for j in range(i + 1, n):\n",
    "                temp = \"\"\n",
    "                result, temp = solve(A[i], A[j], temp)\n",
    "                if mx < result:\n",
    "                    mx = result\n",
    "                    ans = temp\n",
    "                    l = i\n",
    "                    r = j\n",
    "        n = n - 1\n",
    "        if mx == float('-inf'):\n",
    "            A[0] = A[0] + A[n]\n",
    "        else:\n",
    "            A[l] = ans\n",
    "            A[r] = A[n]\n",
    "\n",
    "    return A[0]"
   ]
  },
  {
   "cell_type": "code",
   "execution_count": 16,
   "metadata": {
    "collapsed": false,
    "jupyter": {
     "outputs_hidden": false
    }
   },
   "outputs": [
    {
     "name": "stdout",
     "output_type": "stream",
     "text": [
      "gctaagttcatgcatc\n"
     ]
    }
   ],
   "source": [
    "print(shortest_superstring([\"catgc\", \"ctaagt\", \"gcta\", \"ttca\", \"atgcatc\"]))"
   ]
  },
  {
   "cell_type": "code",
   "execution_count": 17,
   "metadata": {
    "collapsed": false,
    "jupyter": {
     "outputs_hidden": false
    }
   },
   "outputs": [],
   "source": [
    "#q6\n",
    "def find_circle_A(B):\n",
    "    A = [0] * len(B)\n",
    "\n",
    "    A_Sum = 0\n",
    "    B_Sum = 0\n",
    "    for i in B:\n",
    "        B_Sum += i\n",
    "\n",
    "    A_Sum = B_Sum / 3\n",
    "\n",
    "    if len(B) % 3 == 1:\n",
    "        for i in range(len(B)):\n",
    "            k = (i + 2) % len(B)\n",
    "            j = i\n",
    "            A[k] += B[j % len(B)]\n",
    "            j += 4\n",
    "            while j < i + len(B):\n",
    "                A[k] += B[j % len(B)]\n",
    "                j += 3\n",
    "            A[k] = A_Sum - A[k]\n",
    "    else:\n",
    "        for i in range(len(B)):\n",
    "            k = i + 1\n",
    "            for j in range(k, k + len(B), 3):\n",
    "                A[i] += B[j % len(B)]\n",
    "            A[i] -= A_Sum\n",
    "\n",
    "    return A"
   ]
  },
  {
   "cell_type": "code",
   "execution_count": 18,
   "metadata": {
    "collapsed": false,
    "jupyter": {
     "outputs_hidden": false
    }
   },
   "outputs": [
    {
     "name": "stdout",
     "output_type": "stream",
     "text": [
      "[1.333333333333333, 2.333333333333333, 0.33333333333333304, 2.333333333333333, 1.333333333333333]\n"
     ]
    }
   ],
   "source": [
    "print(find_circle_A([5, 4, 5, 4, 5]))"
   ]
  },
  {
   "cell_type": "code",
   "execution_count": 19,
   "metadata": {
    "collapsed": false,
    "jupyter": {
     "outputs_hidden": false
    }
   },
   "outputs": [
    {
     "name": "stdout",
     "output_type": "stream",
     "text": [
      "[79.0, 9.0, 41.0, 12.0, 91.0]\n"
     ]
    }
   ],
   "source": [
    "print(find_circle_A([179,129,62,144,182]))"
   ]
  }
 ],
 "metadata": {
  "kernelspec": {
   "display_name": "Python 3 (ipykernel)",
   "language": "python",
   "name": "python3"
  },
  "language_info": {
   "codemirror_mode": {
    "name": "ipython",
    "version": 3
   },
   "file_extension": ".py",
   "mimetype": "text/x-python",
   "name": "python",
   "nbconvert_exporter": "python",
   "pygments_lexer": "ipython3",
   "version": "3.10.8"
  }
 },
 "nbformat": 4,
 "nbformat_minor": 4
}
