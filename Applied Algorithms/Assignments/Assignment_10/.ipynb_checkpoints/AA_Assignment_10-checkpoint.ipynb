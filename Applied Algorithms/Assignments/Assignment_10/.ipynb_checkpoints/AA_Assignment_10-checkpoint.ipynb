{
 "cells": [
  {
   "cell_type": "code",
   "execution_count": 1,
   "metadata": {
    "tags": []
   },
   "outputs": [],
   "source": [
    "# q1\n",
    "\n",
    "def solve(syn_list):\n",
    "    dp = [False] * len(syn_list)\n",
    "\n",
    "    def dfs(n, ind):\n",
    "        dp[ind] = True\n",
    "        temp = n\n",
    "        for i, j in enumerate(syn_list):\n",
    "            if not dp[i] and not temp.isdisjoint(j):\n",
    "                temp.update(dfs(j, i))\n",
    "        return temp\n",
    "\n",
    "    res = []\n",
    "    for i, node in enumerate(syn_list):\n",
    "        if not dp[i]:\n",
    "            res.append(list(dfs(node, i)))\n",
    "    return res\n",
    "\n",
    "\n",
    "def get_combined_list(syn_list):\n",
    "    syn_list = [set(word) for word in syn_list]\n",
    "    return solve(syn_list)"
   ]
  },
  {
   "cell_type": "code",
   "execution_count": 2,
   "metadata": {
    "collapsed": false,
    "jupyter": {
     "outputs_hidden": false
    }
   },
   "outputs": [
    {
     "name": "stdout",
     "output_type": "stream",
     "text": [
      "[['dogs', 'apples', 'cats', 'oranges'], ['peach', 'mango']]\n"
     ]
    }
   ],
   "source": [
    "print(get_combined_list([[\"oranges\", \"dogs\", \"apples\"], [\"peach\", \"mango\"], [\"dogs\", \"cats\"]]))"
   ]
  },
  {
   "cell_type": "code",
   "execution_count": 3,
   "metadata": {
    "collapsed": false,
    "jupyter": {
     "outputs_hidden": false
    }
   },
   "outputs": [
    {
     "name": "stdout",
     "output_type": "stream",
     "text": [
      "[['dogs', 'cats', 'mango', 'peach'], ['tree', 'plant']]\n"
     ]
    }
   ],
   "source": [
    "print(get_combined_list([[\"cats\", \"dogs\"], [\"peach\", \"mango\", \"dogs\", \"cats\"], [\"tree\", \"plant\"]]))"
   ]
  },
  {
   "cell_type": "code",
   "execution_count": 4,
   "metadata": {
    "collapsed": false,
    "jupyter": {
     "outputs_hidden": false
    }
   },
   "outputs": [],
   "source": [
    "# q2\n",
    "\n",
    "def SymmetricPairs(array_pairs):\n",
    "    hashmap = {}\n",
    "\n",
    "    for pairs in array_pairs:\n",
    "        hashVal = (pairs[0] + pairs[1]) / (pairs[0] * pairs[1] + 10)\n",
    "        if hashVal not in hashmap:\n",
    "            hashmap[(pairs[0] + pairs[1]) / (pairs[0] * pairs[1] + 10)] = [tuple(pairs)]\n",
    "        else:\n",
    "            hashmap[(pairs[0] + pairs[1]) / (pairs[0] * pairs[1] + 10)] += [tuple(pairs)]\n",
    "\n",
    "    return [value[0] for key, value in hashmap.items() if len(value) == 2]"
   ]
  },
  {
   "cell_type": "code",
   "execution_count": 5,
   "metadata": {
    "collapsed": false,
    "jupyter": {
     "outputs_hidden": false
    }
   },
   "outputs": [
    {
     "name": "stdout",
     "output_type": "stream",
     "text": [
      "[(30, 40), (5, 10)]\n"
     ]
    }
   ],
   "source": [
    "print(SymmetricPairs([[11, 20], [30, 40], [5, 10], [40, 30], [10, 5]]))"
   ]
  },
  {
   "cell_type": "code",
   "execution_count": 6,
   "metadata": {
    "collapsed": false,
    "jupyter": {
     "outputs_hidden": false
    }
   },
   "outputs": [
    {
     "name": "stdout",
     "output_type": "stream",
     "text": [
      "[]\n"
     ]
    }
   ],
   "source": [
    "print(SymmetricPairs([[11, 20], [40, 30], [10, 5]]))"
   ]
  },
  {
   "cell_type": "code",
   "execution_count": 7,
   "metadata": {
    "collapsed": false,
    "jupyter": {
     "outputs_hidden": false
    }
   },
   "outputs": [
    {
     "name": "stdout",
     "output_type": "stream",
     "text": [
      "[(1, 0)]\n"
     ]
    }
   ],
   "source": [
    "print(SymmetricPairs([[1, 0], [10, 100], [9, 7], [0, 1]]))"
   ]
  },
  {
   "cell_type": "code",
   "execution_count": 8,
   "metadata": {
    "collapsed": false,
    "jupyter": {
     "outputs_hidden": false
    }
   },
   "outputs": [],
   "source": [
    "# q3\n",
    "\n",
    "def custom_dict(queries, values):\n",
    "    ans = []\n",
    "\n",
    "    d_ = {}\n",
    "\n",
    "    for op, v in zip(queries, values):\n",
    "        if op == 'Add':\n",
    "            d_[v[0]] = v[1]\n",
    "\n",
    "        elif op == 'Add_to_vals':\n",
    "            for key in d_.keys():\n",
    "                d_[key] += v[0]\n",
    "\n",
    "        elif op == 'Add_to_keys':\n",
    "            new_dict = {}\n",
    "            for k, vl in d_.items():\n",
    "                new_dict[k + v[0]] = vl\n",
    "            d_ = new_dict\n",
    "\n",
    "        elif op == 'Return':\n",
    "            ans.append(d_[v[0]])\n",
    "\n",
    "    return ans"
   ]
  },
  {
   "cell_type": "code",
   "execution_count": 9,
   "metadata": {
    "collapsed": false,
    "jupyter": {
     "outputs_hidden": false
    }
   },
   "outputs": [
    {
     "name": "stdout",
     "output_type": "stream",
     "text": [
      "[4, 2]\n"
     ]
    }
   ],
   "source": [
    "print(custom_dict([\"Add\", \"Add_to_vals\", \"Return\", \"Add\", \"Add_to_keys\", \"Add_to_vals\", \"Return\"],\n",
    "                  [[1, 2], [2], [1], [2, 3], [1], [-1], [3]]))"
   ]
  },
  {
   "cell_type": "code",
   "execution_count": 10,
   "metadata": {
    "collapsed": false,
    "jupyter": {
     "outputs_hidden": false
    }
   },
   "outputs": [],
   "source": [
    "# q4\n",
    "\n",
    "import heapq\n",
    "\n",
    "\n",
    "def get_travel_plan(cities, priorities):\n",
    "    priorityDictionary = {}\n",
    "    city_priorities = {}\n",
    "\n",
    "    travel_plan = []\n",
    "\n",
    "    for city in cities:\n",
    "        city_priorities[city] = 0\n",
    "\n",
    "    for city1, city2 in priorities:\n",
    "        priorityDictionary[city1] = city2\n",
    "\n",
    "    for city1, city2 in priorities:\n",
    "        visited = set()\n",
    "        while True:\n",
    "            city_priorities[city1] += 1\n",
    "            if city1 in visited:\n",
    "                return []\n",
    "            visited.add(city1)\n",
    "            if city1 not in priorityDictionary:\n",
    "                city_priorities[city1] += 2\n",
    "                break\n",
    "            city1 = priorityDictionary[city1]\n",
    "\n",
    "    res = []\n",
    "    for k, v in city_priorities.items():\n",
    "        heapq.heappush(res, (v, k))\n",
    "\n",
    "    while res:\n",
    "        travel_plan.append(heapq.heappop(res))\n",
    "\n",
    "    return [city for priority, city in travel_plan]"
   ]
  },
  {
   "cell_type": "code",
   "execution_count": 11,
   "metadata": {
    "collapsed": false,
    "jupyter": {
     "outputs_hidden": false
    }
   },
   "outputs": [
    {
     "name": "stdout",
     "output_type": "stream",
     "text": [
      "[]\n"
     ]
    }
   ],
   "source": [
    "print(get_travel_plan([\"New York\", \"Honolulu\"], [(\"New York\", \"Honolulu\"), (\"Honolulu\", \"New York\")]))"
   ]
  },
  {
   "cell_type": "code",
   "execution_count": 12,
   "metadata": {
    "collapsed": false,
    "jupyter": {
     "outputs_hidden": false
    }
   },
   "outputs": [
    {
     "name": "stdout",
     "output_type": "stream",
     "text": [
      "['Ladakh', 'Nice', 'London', 'Prague', 'Medellin', 'Berlin', 'São Paulo']\n"
     ]
    }
   ],
   "source": [
    "\n",
    "print(get_travel_plan([\"London\", \"Berlin\", \"Medellin\", \"São Paulo\", \"Prague\", \"Ladakh\", \"Nice\"],\n",
    "                      [(\"London\", \"Medellin\"), (\"Medellin\", \"São Paulo\"), (\"Prague\", \"Berlin\")]))\n"
   ]
  },
  {
   "cell_type": "code",
   "execution_count": 13,
   "metadata": {
    "collapsed": false,
    "jupyter": {
     "outputs_hidden": false
    }
   },
   "outputs": [
    {
     "name": "stdout",
     "output_type": "stream",
     "text": [
      "['Toronto', 'Madrid', 'Paris', 'New York', 'Rome', 'Los Angeles']\n"
     ]
    }
   ],
   "source": [
    "\n",
    "print(get_travel_plan([\"Paris\", \"Rome\", \"Madrid\", \"New York\", \"Los Angeles\", \"Toronto\"],\n",
    "                      [(\"Paris\", \"Rome\"), (\"Madrid\", \"New York\"), (\"New York\", \"Los Angeles\")]))\n"
   ]
  },
  {
   "cell_type": "code",
   "execution_count": 14,
   "metadata": {
    "collapsed": false,
    "jupyter": {
     "outputs_hidden": false
    }
   },
   "outputs": [
    {
     "name": "stdout",
     "output_type": "stream",
     "text": [
      "['Amsterdam', 'Brussels', 'Copenhagen', 'Helsinki', 'Paris', 'Berlin', 'Rome']\n"
     ]
    }
   ],
   "source": [
    "\n",
    "print(get_travel_plan([\"Amsterdam\", \"Brussels\", \"Copenhagen\", \"Helsinki\", \"Paris\", \"Berlin\", \"Rome\"],\n",
    "                      [(\"Amsterdam\", \"Brussels\"), (\"Brussels\", \"Copenhagen\"), (\"Copenhagen\", \"Helsinki\"),\n",
    "                       (\"Helsinki\", \"Paris\"), (\"Paris\", \"Berlin\"), (\"Berlin\", \"Rome\")]))"
   ]
  }
 ],
 "metadata": {
  "kernelspec": {
   "display_name": "Python 3 (ipykernel)",
   "language": "python",
   "name": "python3"
  },
  "language_info": {
   "codemirror_mode": {
    "name": "ipython",
    "version": 3
   },
   "file_extension": ".py",
   "mimetype": "text/x-python",
   "name": "python",
   "nbconvert_exporter": "python",
   "pygments_lexer": "ipython3",
   "version": "3.10.8"
  }
 },
 "nbformat": 4,
 "nbformat_minor": 4
}
