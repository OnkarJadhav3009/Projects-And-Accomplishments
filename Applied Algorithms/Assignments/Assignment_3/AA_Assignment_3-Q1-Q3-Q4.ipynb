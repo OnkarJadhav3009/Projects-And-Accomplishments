{
 "cells": [
  {
   "cell_type": "code",
   "execution_count": 1,
   "metadata": {
    "tags": []
   },
   "outputs": [],
   "source": [
    "#q1\n",
    "def commands_count(commands):\n",
    "    def retrieve_keys(_map, index):\n",
    "        i_ = index\n",
    "        temp = 0\n",
    "        while index not in [\"ls\", \"cp\", \"mv\"]:\n",
    "            if index == i:\n",
    "                temp += 1\n",
    "            if temp == 2:\n",
    "                return -1\n",
    "            index = _map[int(index[1])]\n",
    "        return index\n",
    "\n",
    "    map_ = {}\n",
    "    count_map = {\"cp\": 0, \"ls\": 0, \"mv\": 0}\n",
    "    for i in range(len(commands)):\n",
    "        map_[i + 1] = commands[i]\n",
    "\n",
    "    for i in commands:\n",
    "        if i in [\"ls\", \"cp\", \"mv\"]:\n",
    "            count_map[i] += 1\n",
    "        else:\n",
    "            key = retrieve_keys(map_, i)\n",
    "            if key == -1:\n",
    "                return \"Infinite loop detected\"\n",
    "            count_map[key] += 1\n",
    "\n",
    "    return list(count_map.values())"
   ]
  },
  {
   "cell_type": "code",
   "execution_count": 2,
   "metadata": {
    "collapsed": false,
    "jupyter": {
     "outputs_hidden": false
    }
   },
   "outputs": [
    {
     "name": "stdout",
     "output_type": "stream",
     "text": [
      "[1, 3, 4]\n"
     ]
    }
   ],
   "source": [
    "print(commands_count([\"ls\", \"cp\", \"mv\", \"mv\", \"mv\", \"!1\", \"!3\", \"!6\"]))"
   ]
  },
  {
   "cell_type": "code",
   "execution_count": 3,
   "metadata": {
    "collapsed": false,
    "jupyter": {
     "outputs_hidden": false
    }
   },
   "outputs": [
    {
     "name": "stdout",
     "output_type": "stream",
     "text": [
      "[3, 3, 4]\n"
     ]
    }
   ],
   "source": [
    "print(commands_count([\"ls\", \"cp\", \"mv\", \"mv\", \"mv\", \"!1\", \"!2\", \"!6\", \"cp\", \"mv\"]))"
   ]
  },
  {
   "cell_type": "code",
   "execution_count": 4,
   "metadata": {
    "collapsed": false,
    "jupyter": {
     "outputs_hidden": false
    }
   },
   "outputs": [],
   "source": [
    "# q3\n",
    "import math\n",
    "import random\n",
    "\n",
    "\n",
    "class Node:\n",
    "    def __init__(self, word):\n",
    "        self.word = word\n",
    "        self.next = None\n",
    "        self.down = None\n",
    "\n",
    "\n",
    "class LookUpSkipList:\n",
    "\n",
    "    def __init__(self, words, probability):\n",
    "        words.sort()\n",
    "        self.head = None\n",
    "        self.head = Node(words[0])\n",
    "        temp = self.head\n",
    "        self.levels = []\n",
    "        self.c = []\n",
    "\n",
    "        self.levels.append(self.head)\n",
    "        self.c.append(1)\n",
    "        for i in range(1, len(words)):\n",
    "            self.c[-1] += 1\n",
    "            new_node = Node(words[i])\n",
    "            temp.next = new_node\n",
    "            temp = temp.next\n",
    "\n",
    "        self.levelCount = int(math.log2(self.c[0]))\n",
    "        temp = self.levels[0]\n",
    "        while temp:\n",
    "            t = 0\n",
    "            p = random.random()\n",
    "            while p <= probability and self.levelCount > t >= 0 and self.c[t] <= \\\n",
    "                    self.c[0]:\n",
    "                t += 1\n",
    "                if t >= len(self.c):\n",
    "                    self.c.append(1)\n",
    "                    self.levels.append(Node(temp.word))\n",
    "                else:\n",
    "                    level_connector = self.levels[t]\n",
    "                    while level_connector.next:\n",
    "                        level_connector = level_connector.next\n",
    "                    level_connector.next = Node(temp.word)\n",
    "                    level_connector = level_connector.next\n",
    "                    self.c[t] += 1\n",
    "                p = random.random()\n",
    "            temp = temp.next\n",
    "\n",
    "        for i in range(len(self.levels) - 1):\n",
    "            down_pointer = self.levels[i + 1]\n",
    "            while down_pointer:\n",
    "                temp = self.levels[i]\n",
    "                while temp:\n",
    "                    if down_pointer.word is temp.word and down_pointer.down is None:\n",
    "                        down_pointer.down = temp\n",
    "                    temp = temp.next\n",
    "                down_pointer = down_pointer.next\n",
    "\n",
    "    def print(self):\n",
    "        for i in range(len(self.levels)):\n",
    "            res = []\n",
    "            temp = self.levels[i]\n",
    "            while temp:\n",
    "                res.append(temp.word)\n",
    "                temp = temp.next\n",
    "            print(res)\n",
    "\n",
    "    def insert(self, word):\n",
    "        self.c[0] += 1\n",
    "        lvl = len(self.levels) - 1\n",
    "        sentinel = self.levels[lvl]\n",
    "        while sentinel.word > word and lvl > 0:\n",
    "            lvl -= 1\n",
    "            sentinel = self.levels[lvl]\n",
    "        if lvl == 0:\n",
    "            if sentinel.word > word:\n",
    "                new_node = Node(word)\n",
    "                new_node.next = self.head\n",
    "                self.head = new_node\n",
    "                self.levels[lvl] = new_node\n",
    "            else:\n",
    "                while sentinel.next and sentinel.next.word < word:\n",
    "                    sentinel = sentinel.next\n",
    "                new_node = Node(word)\n",
    "                new_node.next = sentinel.next\n",
    "                sentinel.next = new_node\n",
    "        else:\n",
    "            while sentinel.down:\n",
    "                if sentinel.word > word:\n",
    "                    sentinel = sentinel.down\n",
    "                else:\n",
    "                    if not sentinel.next:\n",
    "                        sentinel = sentinel.down\n",
    "                    else:\n",
    "                        while sentinel.next and sentinel.next.word < word:\n",
    "                            sentinel = sentinel.next\n",
    "                        sentinel = sentinel.down\n",
    "            if not sentinel.down:\n",
    "                if not sentinel.next:\n",
    "                    sentinel.next = Node(word)\n",
    "                else:\n",
    "                    while sentinel.next and sentinel.next.word < word:\n",
    "                        sentinel = sentinel.next\n",
    "                    if sentinel.next:\n",
    "                        new_node = Node(word)\n",
    "                        new_node.next = sentinel.next\n",
    "                        sentinel.next = new_node\n",
    "                    else:\n",
    "                        sentinel.next = Node(word)\n",
    "\n",
    "    def lookup_search(self, word):\n",
    "        temp_traverse = self.head\n",
    "        while temp_traverse:\n",
    "            if temp_traverse.word == word:\n",
    "                return True\n",
    "            temp_traverse = temp_traverse.next\n",
    "        print(\"ELEMENT NOT FOUND! INSERTING INTO SKIP LIST\")\n",
    "        self.insert(word)\n",
    "\n",
    "    def delete(self, word):\n",
    "        for i in range(len(self.levels)):\n",
    "            sentinel = self.levels[i]\n",
    "            prev = sentinel\n",
    "            if sentinel.word == word:\n",
    "                sentinel = sentinel.next\n",
    "                self.levels[i] = sentinel\n",
    "                self.c[i] -= 1\n",
    "            elif sentinel:\n",
    "                sentinel = sentinel.next\n",
    "                while sentinel:\n",
    "                    if sentinel.word == word:\n",
    "                        prev.next = sentinel.next\n",
    "                        self.c[i] -= 1\n",
    "                        break\n",
    "                    prev = prev.next\n",
    "                    sentinel = sentinel.next\n",
    "        for i in range(len(self.levels) - 1, -1, -1):\n",
    "            if self.c[i] == 0:\n",
    "                self.levels.pop()\n",
    "                self.c.pop()"
   ]
  },
  {
   "cell_type": "code",
   "execution_count": 5,
   "metadata": {
    "collapsed": false,
    "jupyter": {
     "outputs_hidden": false
    }
   },
   "outputs": [
    {
     "name": "stdout",
     "output_type": "stream",
     "text": [
      "Skip list : \n",
      "['god', 'iub', 'sort', 'there', 'usa']\n",
      "['god', 'iub', 'sort', 'usa']\n",
      "['god', 'sort']\n",
      "---------------------------------------------------------------\n",
      "Insertion : \n",
      "---------------------------------------------------------------\n",
      "['abc', 'god', 'iub', 'sort', 'there', 'usa']\n",
      "['god', 'iub', 'sort', 'usa']\n",
      "['god', 'sort']\n",
      "---------------------------------------------------------------\n",
      "['abc', 'god', 'iub', 'sort', 'there', 'usa', 'wasd']\n",
      "['god', 'iub', 'sort', 'usa']\n",
      "['god', 'sort']\n",
      "---------------------------------------------------------------\n",
      "Search : \n",
      "---------------------------------------------------------------\n",
      "True\n",
      "['abc', 'god', 'iub', 'sort', 'there', 'usa', 'wasd']\n",
      "['god', 'iub', 'sort', 'usa']\n",
      "['god', 'sort']\n",
      "---------------------------------------------------------------\n",
      "ELEMENT NOT FOUND! INSERTING INTO SKIP LIST\n",
      "['abc', 'god', 'iub', 'sort', 'there', 'usa', 'wasd', 'zz']\n",
      "['god', 'iub', 'sort', 'usa']\n",
      "['god', 'sort']\n",
      "---------------------------------------------------------------\n",
      "Deletion : \n",
      "---------------------------------------------------------------\n",
      "['abc', 'god', 'iub', 'sort', 'there', 'usa', 'wasd']\n",
      "['god', 'iub', 'sort', 'usa']\n",
      "['god', 'sort']\n",
      "---------------------------------------------------------------\n",
      "['abc', 'god', 'iub', 'there', 'usa', 'wasd']\n",
      "['god', 'iub', 'usa']\n",
      "['god']\n",
      "---------------------------------------------------------------\n"
     ]
    }
   ],
   "source": [
    "skip_list = LookUpSkipList([\"iub\", \"usa\", \"there\", \"sort\", \"god\"], 0.6)\n",
    "print(\"Skip list : \")\n",
    "skip_list.print()\n",
    "print(\"---------------------------------------------------------------\")\n",
    "print(\"Insertion : \")\n",
    "print(\"---------------------------------------------------------------\")\n",
    "skip_list.insert(\"abc\")\n",
    "skip_list.print()\n",
    "print(\"---------------------------------------------------------------\")\n",
    "skip_list.insert(\"wasd\")\n",
    "skip_list.print()\n",
    "print(\"---------------------------------------------------------------\")\n",
    "print(\"Search : \")\n",
    "print(\"---------------------------------------------------------------\")\n",
    "print(skip_list.lookup_search(\"iub\"))\n",
    "skip_list.print()\n",
    "print(\"---------------------------------------------------------------\")\n",
    "skip_list.lookup_search(\"zz\")\n",
    "skip_list.print()\n",
    "print(\"---------------------------------------------------------------\")\n",
    "print(\"Deletion : \")\n",
    "print(\"---------------------------------------------------------------\")\n",
    "skip_list.delete(\"zz\")\n",
    "skip_list.print()\n",
    "print(\"---------------------------------------------------------------\")\n",
    "skip_list.delete(\"sort\")\n",
    "skip_list.print()\n",
    "print(\"---------------------------------------------------------------\")"
   ]
  },
  {
   "cell_type": "code",
   "execution_count": 6,
   "metadata": {
    "collapsed": false,
    "jupyter": {
     "outputs_hidden": false
    }
   },
   "outputs": [],
   "source": [
    "# q4\n",
    "def predict_winner(s):\n",
    "\n",
    "    reverse_map = {\"A\": \"O\", \"O\": \"A\"}\n",
    "    answer = {\"A\": \"apple\", \"O\": \"orange\"}\n",
    "\n",
    "    s1, s2 = [], []\n",
    "    s1.append(s[0])\n",
    "    for i in range(1, len(s)):\n",
    "        s2.append(s[i])\n",
    "\n",
    "    checker = s1[-1]\n",
    "    popper = 1\n",
    "    count = len(s2)\n",
    "    while len(s2) > 0:\n",
    "        if count == 0:\n",
    "            s1, s2 = s2, s1\n",
    "            count = len(s2)\n",
    "        checker = s1[-1]\n",
    "        curr = s2[0]\n",
    "        if curr == reverse_map[checker]:\n",
    "            if popper > 0:\n",
    "                s2.pop(0)\n",
    "                popper -= 1\n",
    "            else:\n",
    "                popper += 1\n",
    "        else:\n",
    "            s1.append(s2.pop(0))\n",
    "            popper += 1\n",
    "        count -= 1\n",
    "\n",
    "    return answer[s1[0]]"
   ]
  },
  {
   "cell_type": "code",
   "execution_count": 7,
   "metadata": {
    "collapsed": false,
    "jupyter": {
     "outputs_hidden": false
    }
   },
   "outputs": [
    {
     "name": "stdout",
     "output_type": "stream",
     "text": [
      "apple\n"
     ]
    }
   ],
   "source": [
    "print(predict_winner(\"AO\"))"
   ]
  },
  {
   "cell_type": "code",
   "execution_count": 8,
   "metadata": {
    "collapsed": false,
    "jupyter": {
     "outputs_hidden": false
    }
   },
   "outputs": [
    {
     "name": "stdout",
     "output_type": "stream",
     "text": [
      "apple\n"
     ]
    }
   ],
   "source": [
    "print(predict_winner(\"AOOAOAAOOAAOAOOA\"))"
   ]
  },
  {
   "cell_type": "code",
   "execution_count": 9,
   "metadata": {
    "collapsed": false,
    "jupyter": {
     "outputs_hidden": false
    }
   },
   "outputs": [
    {
     "name": "stdout",
     "output_type": "stream",
     "text": [
      "orange\n"
     ]
    }
   ],
   "source": [
    "print(predict_winner(\"OOAAA\"))"
   ]
  }
 ],
 "metadata": {
  "kernelspec": {
   "display_name": "Python 3 (ipykernel)",
   "language": "python",
   "name": "python3"
  },
  "language_info": {
   "codemirror_mode": {
    "name": "ipython",
    "version": 3
   },
   "file_extension": ".py",
   "mimetype": "text/x-python",
   "name": "python",
   "nbconvert_exporter": "python",
   "pygments_lexer": "ipython3",
   "version": "3.10.8"
  }
 },
 "nbformat": 4,
 "nbformat_minor": 4
}
