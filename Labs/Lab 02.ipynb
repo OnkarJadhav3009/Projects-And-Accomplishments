{
 "cells": [
  {
   "cell_type": "code",
   "execution_count": 7,
   "id": "97105cda-0b3a-4aea-88e8-41ffeb411162",
   "metadata": {},
   "outputs": [],
   "source": [
    "# Rotate array to right by p\n",
    "def rotate_array(num_list, p):\n",
    "    print(\"Given list: \", num_list)\n",
    "    n = len(num_list)\n",
    "    if p > n:\n",
    "        p -= n\n",
    "\n",
    "    temp1 = num_list[0: n - p][::-1]\n",
    "    temp2 = num_list[n - p:n][::-1]\n",
    "    temp1.extend(temp2)\n",
    "    ans = temp1[::-1]\n",
    "\n",
    "    print(\"Updated list after rotating by p positions:\", ans)\n",
    "    return ans"
   ]
  },
  {
   "cell_type": "code",
   "execution_count": 8,
   "id": "0d82d08f-9883-4986-bad3-90aedfe1765d",
   "metadata": {},
   "outputs": [
    {
     "name": "stdout",
     "output_type": "stream",
     "text": [
      "Given list:  [12, 67, 89]\n",
      "Updated list after rotating by p positions: [12, 67, 89]\n"
     ]
    },
    {
     "data": {
      "text/plain": [
       "[12, 67, 89]"
      ]
     },
     "execution_count": 8,
     "metadata": {},
     "output_type": "execute_result"
    }
   ],
   "source": [
    "rotate_array([12, 67, 89], 3)"
   ]
  },
  {
   "cell_type": "code",
   "execution_count": null,
   "id": "d85f5903-9193-4ab9-8af7-029d05ffb6c5",
   "metadata": {},
   "outputs": [],
   "source": []
  }
 ],
 "metadata": {
  "kernelspec": {
   "display_name": "Python 3 (ipykernel)",
   "language": "python",
   "name": "python3"
  },
  "language_info": {
   "codemirror_mode": {
    "name": "ipython",
    "version": 3
   },
   "file_extension": ".py",
   "mimetype": "text/x-python",
   "name": "python",
   "nbconvert_exporter": "python",
   "pygments_lexer": "ipython3",
   "version": "3.9.5"
  }
 },
 "nbformat": 4,
 "nbformat_minor": 5
}
