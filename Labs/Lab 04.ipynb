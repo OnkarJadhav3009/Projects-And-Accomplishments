{
 "cells": [
  {
   "cell_type": "code",
   "execution_count": 62,
   "metadata": {
    "collapsed": true,
    "pycharm": {
     "name": "#%%\n"
    }
   },
   "outputs": [
    {
     "name": "stdout",
     "output_type": "stream",
     "text": [
      "[[70, 78], [69, 96], [19, 68], [54, 60]]\n",
      "[[78], [69, 96], [19, 68]]\n",
      "19\n"
     ]
    }
   ],
   "source": [
    "def find_minimum_in_range(num_list, i , j):\n",
    "\n",
    "    if i > j:\n",
    "        i,j = j,i\n",
    "\n",
    "    n = len(num_list)\n",
    "    k = int((n ** 0.5))\n",
    "    k_ = k\n",
    "    indices = {}\n",
    "    for num in range(n):\n",
    "        indices[num_list[num]] = num\n",
    "\n",
    "    queries = []\n",
    "    for m in range(0, n, k_):\n",
    "        if m + k_ > n:\n",
    "            k_ = n - m\n",
    "        queries.append(num_list[m:m+k_])\n",
    "\n",
    "    ans = []\n",
    "\n",
    "    for q in queries:\n",
    "        if num_list[i] in q and num_list[j] in q:\n",
    "            ans.append(q[i:j])\n",
    "        elif num_list[i] in q:\n",
    "            ans.append(q[i:])\n",
    "        elif num_list[j] in q:\n",
    "            ans.append(q[:j])\n",
    "        elif indices[q[0]] in range(i,j):\n",
    "            ans.append(q)\n",
    "\n",
    "    print(queries)\n",
    "    print(ans)\n",
    "\n",
    "    mins = []\n",
    "    for a in ans:\n",
    "        mins.append(min(a))\n",
    "\n",
    "    print(min(mins))\n",
    "\n",
    "\n",
    "find_minimum_in_range([70, 78, 69, 96, 19, 68, 54, 60], 1 , 5)"
   ]
  },
  {
   "cell_type": "code",
   "execution_count": null,
   "outputs": [],
   "source": [],
   "metadata": {
    "collapsed": false,
    "pycharm": {
     "name": "#%%\n"
    }
   }
  }
 ],
 "metadata": {
  "kernelspec": {
   "display_name": "Python 3",
   "language": "python",
   "name": "python3"
  },
  "language_info": {
   "codemirror_mode": {
    "name": "ipython",
    "version": 2
   },
   "file_extension": ".py",
   "mimetype": "text/x-python",
   "name": "python",
   "nbconvert_exporter": "python",
   "pygments_lexer": "ipython2",
   "version": "2.7.6"
  }
 },
 "nbformat": 4,
 "nbformat_minor": 0
}