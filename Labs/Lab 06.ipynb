{
 "cells": [
  {
   "cell_type": "code",
   "execution_count": 5,
   "metadata": {
    "collapsed": true
   },
   "outputs": [],
   "source": [
    "def isSubsetSum(c, n, sum_):\n",
    "    if sum_ == 0:\n",
    "        return True\n",
    "\n",
    "    if n == 0:\n",
    "        return False\n",
    "\n",
    "    if c[n - 1] > sum_:\n",
    "        return isSubsetSum(c, n - 1, sum_)\n",
    "\n",
    "    return isSubsetSum(c, n - 1, sum_) or isSubsetSum(c, n - 1, sum_ - c[n - 1])\n",
    "\n",
    "\n",
    "def can_take_courses(c, sum_):\n",
    "    return isSubsetSum(c, len(c), sum_)"
   ]
  },
  {
   "cell_type": "code",
   "execution_count": 6,
   "metadata": {
    "collapsed": false
   },
   "outputs": [
    {
     "name": "stdout",
     "output_type": "stream",
     "text": [
      "True\n"
     ]
    }
   ],
   "source": [
    "print(can_take_courses([1, 2, 4, 5,6,8], 16))"
   ]
  },
  {
   "cell_type": "code",
   "execution_count": null,
   "metadata": {
    "collapsed": false
   },
   "outputs": [],
   "source": [
    "print(\"abc\")"
   ]
  },
  {
   "cell_type": "code",
   "execution_count": null,
   "metadata": {},
   "outputs": [],
   "source": []
  }
 ],
 "metadata": {
  "kernelspec": {
   "display_name": "Python 3",
   "language": "python",
   "name": "python3"
  },
  "language_info": {
   "codemirror_mode": {
    "name": "ipython",
    "version": 2
   },
   "file_extension": ".py",
   "mimetype": "text/x-python",
   "name": "python",
   "nbconvert_exporter": "python",
   "pygments_lexer": "ipython2",
   "version": "2.7.6"
  }
 },
 "nbformat": 4,
 "nbformat_minor": 0
}
