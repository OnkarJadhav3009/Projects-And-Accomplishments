{
 "cells": [
  {
   "cell_type": "code",
   "execution_count": 7,
   "metadata": {
    "collapsed": true,
    "pycharm": {
     "name": "#%%\n"
    }
   },
   "outputs": [],
   "source": [
    "def is_valid_parenthesis(s):\n",
    "    stack = []\n",
    "    complement_hashmap = {\")\": \"(\", \"]\": \"[\", \"}\": \"{\"}\n",
    "    for i in s:\n",
    "        # check if the character is an opening bracket\n",
    "        if i in [\"(\", \"[\", \"{\"]:\n",
    "            stack.append(i)\n",
    "        # check if the character is a closing bracket\n",
    "        elif i in complement_hashmap:\n",
    "            if len(stack) > 0:\n",
    "                # get the last opening bracket.\n",
    "                current = stack[-1]\n",
    "            else:\n",
    "                return False\n",
    "            # check if the i and complement_hashmap of i are the same kind.\n",
    "            if complement_hashmap[i] == current:\n",
    "                stack.pop(-1)\n",
    "            else:\n",
    "                return False\n",
    "\n",
    "    return len(stack) == 0"
   ]
  },
  {
   "cell_type": "code",
   "execution_count": 14,
   "outputs": [
    {
     "data": {
      "text/plain": "True"
     },
     "execution_count": 14,
     "metadata": {},
     "output_type": "execute_result"
    }
   ],
   "source": [
    "is_valid_parenthesis(\"[(){}]\")"
   ],
   "metadata": {
    "collapsed": false,
    "pycharm": {
     "name": "#%%\n"
    }
   }
  },
  {
   "cell_type": "code",
   "execution_count": 13,
   "outputs": [
    {
     "data": {
      "text/plain": "False"
     },
     "execution_count": 13,
     "metadata": {},
     "output_type": "execute_result"
    }
   ],
   "source": [
    "is_valid_parenthesis(\"{(]}\")"
   ],
   "metadata": {
    "collapsed": false,
    "pycharm": {
     "name": "#%%\n"
    }
   }
  },
  {
   "cell_type": "code",
   "execution_count": null,
   "outputs": [],
   "source": [],
   "metadata": {
    "collapsed": false,
    "pycharm": {
     "name": "#%%\n"
    }
   }
  }
 ],
 "metadata": {
  "kernelspec": {
   "display_name": "Python 3",
   "language": "python",
   "name": "python3"
  },
  "language_info": {
   "codemirror_mode": {
    "name": "ipython",
    "version": 2
   },
   "file_extension": ".py",
   "mimetype": "text/x-python",
   "name": "python",
   "nbconvert_exporter": "python",
   "pygments_lexer": "ipython2",
   "version": "2.7.6"
  }
 },
 "nbformat": 4,
 "nbformat_minor": 0
}